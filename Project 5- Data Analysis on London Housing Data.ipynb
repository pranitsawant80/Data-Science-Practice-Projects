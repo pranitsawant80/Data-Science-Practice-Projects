{
    "cells": [
        {
            "metadata": {},
            "cell_type": "markdown",
            "source": "# Project 5- Data Analysis of London Housing Price"
        },
        {
            "metadata": {},
            "cell_type": "code",
            "source": "# ready python code on watson studio to load any data file in dataframe\nimport os, types\nimport pandas as pd\nfrom botocore.client import Config\nimport ibm_boto3\n\ndef __iter__(self): return 0\n\n# @hidden_cell\n# The following code accesses a file in your IBM Cloud Object Storage. It includes your credentials.\n# You might want to remove those credentials before you share the notebook.\nclient_89964c8d3f9f498cba0461a952edae93 = ibm_boto3.client(service_name='s3',\n    ibm_api_key_id='FiDOa7PobmyuC_jhqU2zWgBMIP9jrskGpyRbERg45_aL',\n    ibm_auth_endpoint=\"https://iam.cloud.ibm.com/oidc/token\",\n    config=Config(signature_version='oauth'),\n    endpoint_url='https://s3.private.eu.cloud-object-storage.appdomain.cloud')\n\nbody = client_89964c8d3f9f498cba0461a952edae93.get_object(Bucket='dataanalyticsprojects-donotdelete-pr-dfxqqqpn3k5k03',Key='5. London Housing Data.csv')['Body']\n# add missing __iter__ method, so pandas accepts body as file-like object\nif not hasattr(body, \"__iter__\"): body.__iter__ = types.MethodType( __iter__, body )\n\ndf= pd.read_csv(body)\ndf.head()\n",
            "execution_count": 42,
            "outputs": [
                {
                    "output_type": "execute_result",
                    "execution_count": 42,
                    "data": {
                        "text/plain": "       date            area  average_price       code  houses_sold  \\\n0  1/1/1995  city of london          91449  E09000001         17.0   \n1  2/1/1995  city of london          82203  E09000001          7.0   \n2  3/1/1995  city of london          79121  E09000001         14.0   \n3  4/1/1995  city of london          77101  E09000001          7.0   \n4  5/1/1995  city of london          84409  E09000001         10.0   \n\n   no_of_crimes  \n0           NaN  \n1           NaN  \n2           NaN  \n3           NaN  \n4           NaN  ",
                        "text/html": "<div>\n<style scoped>\n    .dataframe tbody tr th:only-of-type {\n        vertical-align: middle;\n    }\n\n    .dataframe tbody tr th {\n        vertical-align: top;\n    }\n\n    .dataframe thead th {\n        text-align: right;\n    }\n</style>\n<table border=\"1\" class=\"dataframe\">\n  <thead>\n    <tr style=\"text-align: right;\">\n      <th></th>\n      <th>date</th>\n      <th>area</th>\n      <th>average_price</th>\n      <th>code</th>\n      <th>houses_sold</th>\n      <th>no_of_crimes</th>\n    </tr>\n  </thead>\n  <tbody>\n    <tr>\n      <th>0</th>\n      <td>1/1/1995</td>\n      <td>city of london</td>\n      <td>91449</td>\n      <td>E09000001</td>\n      <td>17.0</td>\n      <td>NaN</td>\n    </tr>\n    <tr>\n      <th>1</th>\n      <td>2/1/1995</td>\n      <td>city of london</td>\n      <td>82203</td>\n      <td>E09000001</td>\n      <td>7.0</td>\n      <td>NaN</td>\n    </tr>\n    <tr>\n      <th>2</th>\n      <td>3/1/1995</td>\n      <td>city of london</td>\n      <td>79121</td>\n      <td>E09000001</td>\n      <td>14.0</td>\n      <td>NaN</td>\n    </tr>\n    <tr>\n      <th>3</th>\n      <td>4/1/1995</td>\n      <td>city of london</td>\n      <td>77101</td>\n      <td>E09000001</td>\n      <td>7.0</td>\n      <td>NaN</td>\n    </tr>\n    <tr>\n      <th>4</th>\n      <td>5/1/1995</td>\n      <td>city of london</td>\n      <td>84409</td>\n      <td>E09000001</td>\n      <td>10.0</td>\n      <td>NaN</td>\n    </tr>\n  </tbody>\n</table>\n</div>"
                    },
                    "metadata": {}
                }
            ]
        },
        {
            "metadata": {
                "scrolled": true
            },
            "cell_type": "code",
            "source": "df.shape",
            "execution_count": 2,
            "outputs": [
                {
                    "output_type": "execute_result",
                    "execution_count": 2,
                    "data": {
                        "text/plain": "(13549, 6)"
                    },
                    "metadata": {}
                }
            ]
        },
        {
            "metadata": {},
            "cell_type": "code",
            "source": "df.columns",
            "execution_count": 4,
            "outputs": [
                {
                    "output_type": "execute_result",
                    "execution_count": 4,
                    "data": {
                        "text/plain": "Index(['date', 'area', 'average_price', 'code', 'houses_sold', 'no_of_crimes'], dtype='object')"
                    },
                    "metadata": {}
                }
            ]
        },
        {
            "metadata": {},
            "cell_type": "code",
            "source": "df.isnull().sum()",
            "execution_count": 6,
            "outputs": [
                {
                    "output_type": "execute_result",
                    "execution_count": 6,
                    "data": {
                        "text/plain": "date                0\narea                0\naverage_price       0\ncode                0\nhouses_sold        94\nno_of_crimes     6110\ndtype: int64"
                    },
                    "metadata": {}
                }
            ]
        },
        {
            "metadata": {
                "scrolled": true
            },
            "cell_type": "code",
            "source": "df.dtypes",
            "execution_count": 7,
            "outputs": [
                {
                    "output_type": "execute_result",
                    "execution_count": 7,
                    "data": {
                        "text/plain": "date              object\narea              object\naverage_price      int64\ncode              object\nhouses_sold      float64\nno_of_crimes     float64\ndtype: object"
                    },
                    "metadata": {}
                }
            ]
        },
        {
            "metadata": {},
            "cell_type": "code",
            "source": "import seaborn as sns\nimport matplotlib.pyplot as plt",
            "execution_count": 17,
            "outputs": []
        },
        {
            "metadata": {},
            "cell_type": "code",
            "source": "sns.heatmap(df.isnull())\nplt.show()",
            "execution_count": 21,
            "outputs": [
                {
                    "output_type": "display_data",
                    "data": {
                        "text/plain": "<Figure size 432x288 with 2 Axes>",
                        "image/png": "[encoded data removed]"
                    },
                    "metadata": {
                        "needs_background": "light"
                    }
                }
            ]
        },
        {
            "metadata": {
                "collapsed": true
            },
            "cell_type": "markdown",
            "source": "### 1) Convert the Datatype of 'Date' column to Date-Time format.\n"
        },
        {
            "metadata": {
                "scrolled": true
            },
            "cell_type": "code",
            "source": "df.head()",
            "execution_count": 47,
            "outputs": [
                {
                    "output_type": "execute_result",
                    "execution_count": 47,
                    "data": {
                        "text/plain": "        date            area  average_price       code  houses_sold  \\\n0 1995-01-01  city of london          91449  E09000001         17.0   \n1 1995-02-01  city of london          82203  E09000001          7.0   \n2 1995-03-01  city of london          79121  E09000001         14.0   \n3 1995-04-01  city of london          77101  E09000001          7.0   \n4 1995-05-01  city of london          84409  E09000001         10.0   \n\n   no_of_crimes  \n0           NaN  \n1           NaN  \n2           NaN  \n3           NaN  \n4           NaN  ",
                        "text/html": "<div>\n<style scoped>\n    .dataframe tbody tr th:only-of-type {\n        vertical-align: middle;\n    }\n\n    .dataframe tbody tr th {\n        vertical-align: top;\n    }\n\n    .dataframe thead th {\n        text-align: right;\n    }\n</style>\n<table border=\"1\" class=\"dataframe\">\n  <thead>\n    <tr style=\"text-align: right;\">\n      <th></th>\n      <th>date</th>\n      <th>area</th>\n      <th>average_price</th>\n      <th>code</th>\n      <th>houses_sold</th>\n      <th>no_of_crimes</th>\n    </tr>\n  </thead>\n  <tbody>\n    <tr>\n      <th>0</th>\n      <td>1995-01-01</td>\n      <td>city of london</td>\n      <td>91449</td>\n      <td>E09000001</td>\n      <td>17.0</td>\n      <td>NaN</td>\n    </tr>\n    <tr>\n      <th>1</th>\n      <td>1995-02-01</td>\n      <td>city of london</td>\n      <td>82203</td>\n      <td>E09000001</td>\n      <td>7.0</td>\n      <td>NaN</td>\n    </tr>\n    <tr>\n      <th>2</th>\n      <td>1995-03-01</td>\n      <td>city of london</td>\n      <td>79121</td>\n      <td>E09000001</td>\n      <td>14.0</td>\n      <td>NaN</td>\n    </tr>\n    <tr>\n      <th>3</th>\n      <td>1995-04-01</td>\n      <td>city of london</td>\n      <td>77101</td>\n      <td>E09000001</td>\n      <td>7.0</td>\n      <td>NaN</td>\n    </tr>\n    <tr>\n      <th>4</th>\n      <td>1995-05-01</td>\n      <td>city of london</td>\n      <td>84409</td>\n      <td>E09000001</td>\n      <td>10.0</td>\n      <td>NaN</td>\n    </tr>\n  </tbody>\n</table>\n</div>"
                    },
                    "metadata": {}
                }
            ]
        },
        {
            "metadata": {},
            "cell_type": "code",
            "source": "df.date=pd.to_datetime(df.date)",
            "execution_count": 48,
            "outputs": []
        },
        {
            "metadata": {},
            "cell_type": "code",
            "source": "df.dtypes",
            "execution_count": 49,
            "outputs": [
                {
                    "output_type": "execute_result",
                    "execution_count": 49,
                    "data": {
                        "text/plain": "date             datetime64[ns]\narea                     object\naverage_price             int64\ncode                     object\nhouses_sold             float64\nno_of_crimes            float64\ndtype: object"
                    },
                    "metadata": {}
                }
            ]
        },
        {
            "metadata": {},
            "cell_type": "markdown",
            "source": "### 2) Add a new column ''year'' in the dataframe, which contains years only."
        },
        {
            "metadata": {},
            "cell_type": "code",
            "source": "df['Year']=df.date.dt.year",
            "execution_count": 50,
            "outputs": []
        },
        {
            "metadata": {},
            "cell_type": "markdown",
            "source": "### B.2 Add a new column ''month'' as 2nd column in the dataframe, which contains month only.\n"
        },
        {
            "metadata": {},
            "cell_type": "code",
            "source": "# To insert column at particular position\ndf.insert(2,'Month',df.date.dt.month)",
            "execution_count": 51,
            "outputs": []
        },
        {
            "metadata": {},
            "cell_type": "code",
            "source": "df",
            "execution_count": 52,
            "outputs": [
                {
                    "output_type": "execute_result",
                    "execution_count": 52,
                    "data": {
                        "text/plain": "            date            area  Month  average_price       code  \\\n0     1995-01-01  city of london      1          91449  E09000001   \n1     1995-02-01  city of london      2          82203  E09000001   \n2     1995-03-01  city of london      3          79121  E09000001   \n3     1995-04-01  city of london      4          77101  E09000001   \n4     1995-05-01  city of london      5          84409  E09000001   \n...          ...             ...    ...            ...        ...   \n13544 2019-09-01         england      9         249942  E92000001   \n13545 2019-10-01         england     10         249376  E92000001   \n13546 2019-11-01         england     11         248515  E92000001   \n13547 2019-12-01         england     12         250410  E92000001   \n13548 2020-01-01         england      1         247355  E92000001   \n\n       houses_sold  no_of_crimes  Year  \n0             17.0           NaN  1995  \n1              7.0           NaN  1995  \n2             14.0           NaN  1995  \n3              7.0           NaN  1995  \n4             10.0           NaN  1995  \n...            ...           ...   ...  \n13544      64605.0           NaN  2019  \n13545      68677.0           NaN  2019  \n13546      67814.0           NaN  2019  \n13547          NaN           NaN  2019  \n13548          NaN           NaN  2020  \n\n[13549 rows x 8 columns]",
                        "text/html": "<div>\n<style scoped>\n    .dataframe tbody tr th:only-of-type {\n        vertical-align: middle;\n    }\n\n    .dataframe tbody tr th {\n        vertical-align: top;\n    }\n\n    .dataframe thead th {\n        text-align: right;\n    }\n</style>\n<table border=\"1\" class=\"dataframe\">\n  <thead>\n    <tr style=\"text-align: right;\">\n      <th></th>\n      <th>date</th>\n      <th>area</th>\n      <th>Month</th>\n      <th>average_price</th>\n      <th>code</th>\n      <th>houses_sold</th>\n      <th>no_of_crimes</th>\n      <th>Year</th>\n    </tr>\n  </thead>\n  <tbody>\n    <tr>\n      <th>0</th>\n      <td>1995-01-01</td>\n      <td>city of london</td>\n      <td>1</td>\n      <td>91449</td>\n      <td>E09000001</td>\n      <td>17.0</td>\n      <td>NaN</td>\n      <td>1995</td>\n    </tr>\n    <tr>\n      <th>1</th>\n      <td>1995-02-01</td>\n      <td>city of london</td>\n      <td>2</td>\n      <td>82203</td>\n      <td>E09000001</td>\n      <td>7.0</td>\n      <td>NaN</td>\n      <td>1995</td>\n    </tr>\n    <tr>\n      <th>2</th>\n      <td>1995-03-01</td>\n      <td>city of london</td>\n      <td>3</td>\n      <td>79121</td>\n      <td>E09000001</td>\n      <td>14.0</td>\n      <td>NaN</td>\n      <td>1995</td>\n    </tr>\n    <tr>\n      <th>3</th>\n      <td>1995-04-01</td>\n      <td>city of london</td>\n      <td>4</td>\n      <td>77101</td>\n      <td>E09000001</td>\n      <td>7.0</td>\n      <td>NaN</td>\n      <td>1995</td>\n    </tr>\n    <tr>\n      <th>4</th>\n      <td>1995-05-01</td>\n      <td>city of london</td>\n      <td>5</td>\n      <td>84409</td>\n      <td>E09000001</td>\n      <td>10.0</td>\n      <td>NaN</td>\n      <td>1995</td>\n    </tr>\n    <tr>\n      <th>...</th>\n      <td>...</td>\n      <td>...</td>\n      <td>...</td>\n      <td>...</td>\n      <td>...</td>\n      <td>...</td>\n      <td>...</td>\n      <td>...</td>\n    </tr>\n    <tr>\n      <th>13544</th>\n      <td>2019-09-01</td>\n      <td>england</td>\n      <td>9</td>\n      <td>249942</td>\n      <td>E92000001</td>\n      <td>64605.0</td>\n      <td>NaN</td>\n      <td>2019</td>\n    </tr>\n    <tr>\n      <th>13545</th>\n      <td>2019-10-01</td>\n      <td>england</td>\n      <td>10</td>\n      <td>249376</td>\n      <td>E92000001</td>\n      <td>68677.0</td>\n      <td>NaN</td>\n      <td>2019</td>\n    </tr>\n    <tr>\n      <th>13546</th>\n      <td>2019-11-01</td>\n      <td>england</td>\n      <td>11</td>\n      <td>248515</td>\n      <td>E92000001</td>\n      <td>67814.0</td>\n      <td>NaN</td>\n      <td>2019</td>\n    </tr>\n    <tr>\n      <th>13547</th>\n      <td>2019-12-01</td>\n      <td>england</td>\n      <td>12</td>\n      <td>250410</td>\n      <td>E92000001</td>\n      <td>NaN</td>\n      <td>NaN</td>\n      <td>2019</td>\n    </tr>\n    <tr>\n      <th>13548</th>\n      <td>2020-01-01</td>\n      <td>england</td>\n      <td>1</td>\n      <td>247355</td>\n      <td>E92000001</td>\n      <td>NaN</td>\n      <td>NaN</td>\n      <td>2020</td>\n    </tr>\n  </tbody>\n</table>\n<p>13549 rows \u00d7 8 columns</p>\n</div>"
                    },
                    "metadata": {}
                }
            ]
        },
        {
            "metadata": {},
            "cell_type": "markdown",
            "source": "### 3) Remove the columns 'year' and 'month' from the dataframe.\n"
        },
        {
            "metadata": {},
            "cell_type": "code",
            "source": "df.drop(['Year','Month'],axis=1,inplace=True)",
            "execution_count": 36,
            "outputs": []
        },
        {
            "metadata": {},
            "cell_type": "code",
            "source": "df",
            "execution_count": 37,
            "outputs": [
                {
                    "output_type": "execute_result",
                    "execution_count": 37,
                    "data": {
                        "text/plain": "            date            area  average_price       code  houses_sold  \\\n0     1995-01-01  city of london          91449  E09000001         17.0   \n1     1995-02-01  city of london          82203  E09000001          7.0   \n2     1995-03-01  city of london          79121  E09000001         14.0   \n3     1995-04-01  city of london          77101  E09000001          7.0   \n4     1995-05-01  city of london          84409  E09000001         10.0   \n...          ...             ...            ...        ...          ...   \n13544 2019-09-01         england         249942  E92000001      64605.0   \n13545 2019-10-01         england         249376  E92000001      68677.0   \n13546 2019-11-01         england         248515  E92000001      67814.0   \n13547 2019-12-01         england         250410  E92000001          NaN   \n13548 2020-01-01         england         247355  E92000001          NaN   \n\n       no_of_crimes  \n0               NaN  \n1               NaN  \n2               NaN  \n3               NaN  \n4               NaN  \n...             ...  \n13544           NaN  \n13545           NaN  \n13546           NaN  \n13547           NaN  \n13548           NaN  \n\n[13549 rows x 6 columns]",
                        "text/html": "<div>\n<style scoped>\n    .dataframe tbody tr th:only-of-type {\n        vertical-align: middle;\n    }\n\n    .dataframe tbody tr th {\n        vertical-align: top;\n    }\n\n    .dataframe thead th {\n        text-align: right;\n    }\n</style>\n<table border=\"1\" class=\"dataframe\">\n  <thead>\n    <tr style=\"text-align: right;\">\n      <th></th>\n      <th>date</th>\n      <th>area</th>\n      <th>average_price</th>\n      <th>code</th>\n      <th>houses_sold</th>\n      <th>no_of_crimes</th>\n    </tr>\n  </thead>\n  <tbody>\n    <tr>\n      <th>0</th>\n      <td>1995-01-01</td>\n      <td>city of london</td>\n      <td>91449</td>\n      <td>E09000001</td>\n      <td>17.0</td>\n      <td>NaN</td>\n    </tr>\n    <tr>\n      <th>1</th>\n      <td>1995-02-01</td>\n      <td>city of london</td>\n      <td>82203</td>\n      <td>E09000001</td>\n      <td>7.0</td>\n      <td>NaN</td>\n    </tr>\n    <tr>\n      <th>2</th>\n      <td>1995-03-01</td>\n      <td>city of london</td>\n      <td>79121</td>\n      <td>E09000001</td>\n      <td>14.0</td>\n      <td>NaN</td>\n    </tr>\n    <tr>\n      <th>3</th>\n      <td>1995-04-01</td>\n      <td>city of london</td>\n      <td>77101</td>\n      <td>E09000001</td>\n      <td>7.0</td>\n      <td>NaN</td>\n    </tr>\n    <tr>\n      <th>4</th>\n      <td>1995-05-01</td>\n      <td>city of london</td>\n      <td>84409</td>\n      <td>E09000001</td>\n      <td>10.0</td>\n      <td>NaN</td>\n    </tr>\n    <tr>\n      <th>...</th>\n      <td>...</td>\n      <td>...</td>\n      <td>...</td>\n      <td>...</td>\n      <td>...</td>\n      <td>...</td>\n    </tr>\n    <tr>\n      <th>13544</th>\n      <td>2019-09-01</td>\n      <td>england</td>\n      <td>249942</td>\n      <td>E92000001</td>\n      <td>64605.0</td>\n      <td>NaN</td>\n    </tr>\n    <tr>\n      <th>13545</th>\n      <td>2019-10-01</td>\n      <td>england</td>\n      <td>249376</td>\n      <td>E92000001</td>\n      <td>68677.0</td>\n      <td>NaN</td>\n    </tr>\n    <tr>\n      <th>13546</th>\n      <td>2019-11-01</td>\n      <td>england</td>\n      <td>248515</td>\n      <td>E92000001</td>\n      <td>67814.0</td>\n      <td>NaN</td>\n    </tr>\n    <tr>\n      <th>13547</th>\n      <td>2019-12-01</td>\n      <td>england</td>\n      <td>250410</td>\n      <td>E92000001</td>\n      <td>NaN</td>\n      <td>NaN</td>\n    </tr>\n    <tr>\n      <th>13548</th>\n      <td>2020-01-01</td>\n      <td>england</td>\n      <td>247355</td>\n      <td>E92000001</td>\n      <td>NaN</td>\n      <td>NaN</td>\n    </tr>\n  </tbody>\n</table>\n<p>13549 rows \u00d7 6 columns</p>\n</div>"
                    },
                    "metadata": {}
                }
            ]
        },
        {
            "metadata": {},
            "cell_type": "markdown",
            "source": "### 4) Show all the records where 'No. of Crimes' is 0. And, how many such records are there ?\n"
        },
        {
            "metadata": {},
            "cell_type": "code",
            "source": "df[df['no_of_crimes']== 0]\n# OR df[no_of_crimes == 0 ]",
            "execution_count": 40,
            "outputs": [
                {
                    "output_type": "execute_result",
                    "execution_count": 40,
                    "data": {
                        "text/plain": "          date            area  average_price       code  houses_sold  \\\n72  2001-01-01  city of london         284262  E09000001         24.0   \n73  2001-02-01  city of london         198137  E09000001         37.0   \n74  2001-03-01  city of london         189033  E09000001         44.0   \n75  2001-04-01  city of london         205494  E09000001         38.0   \n76  2001-05-01  city of london         223459  E09000001         30.0   \n..         ...             ...            ...        ...          ...   \n178 2009-11-01  city of london         397909  E09000001         11.0   \n179 2009-12-01  city of london         411955  E09000001         16.0   \n180 2010-01-01  city of london         464436  E09000001         20.0   \n181 2010-02-01  city of london         490525  E09000001          9.0   \n182 2010-03-01  city of london         498241  E09000001         15.0   \n\n     no_of_crimes  \n72            0.0  \n73            0.0  \n74            0.0  \n75            0.0  \n76            0.0  \n..            ...  \n178           0.0  \n179           0.0  \n180           0.0  \n181           0.0  \n182           0.0  \n\n[104 rows x 6 columns]",
                        "text/html": "<div>\n<style scoped>\n    .dataframe tbody tr th:only-of-type {\n        vertical-align: middle;\n    }\n\n    .dataframe tbody tr th {\n        vertical-align: top;\n    }\n\n    .dataframe thead th {\n        text-align: right;\n    }\n</style>\n<table border=\"1\" class=\"dataframe\">\n  <thead>\n    <tr style=\"text-align: right;\">\n      <th></th>\n      <th>date</th>\n      <th>area</th>\n      <th>average_price</th>\n      <th>code</th>\n      <th>houses_sold</th>\n      <th>no_of_crimes</th>\n    </tr>\n  </thead>\n  <tbody>\n    <tr>\n      <th>72</th>\n      <td>2001-01-01</td>\n      <td>city of london</td>\n      <td>284262</td>\n      <td>E09000001</td>\n      <td>24.0</td>\n      <td>0.0</td>\n    </tr>\n    <tr>\n      <th>73</th>\n      <td>2001-02-01</td>\n      <td>city of london</td>\n      <td>198137</td>\n      <td>E09000001</td>\n      <td>37.0</td>\n      <td>0.0</td>\n    </tr>\n    <tr>\n      <th>74</th>\n      <td>2001-03-01</td>\n      <td>city of london</td>\n      <td>189033</td>\n      <td>E09000001</td>\n      <td>44.0</td>\n      <td>0.0</td>\n    </tr>\n    <tr>\n      <th>75</th>\n      <td>2001-04-01</td>\n      <td>city of london</td>\n      <td>205494</td>\n      <td>E09000001</td>\n      <td>38.0</td>\n      <td>0.0</td>\n    </tr>\n    <tr>\n      <th>76</th>\n      <td>2001-05-01</td>\n      <td>city of london</td>\n      <td>223459</td>\n      <td>E09000001</td>\n      <td>30.0</td>\n      <td>0.0</td>\n    </tr>\n    <tr>\n      <th>...</th>\n      <td>...</td>\n      <td>...</td>\n      <td>...</td>\n      <td>...</td>\n      <td>...</td>\n      <td>...</td>\n    </tr>\n    <tr>\n      <th>178</th>\n      <td>2009-11-01</td>\n      <td>city of london</td>\n      <td>397909</td>\n      <td>E09000001</td>\n      <td>11.0</td>\n      <td>0.0</td>\n    </tr>\n    <tr>\n      <th>179</th>\n      <td>2009-12-01</td>\n      <td>city of london</td>\n      <td>411955</td>\n      <td>E09000001</td>\n      <td>16.0</td>\n      <td>0.0</td>\n    </tr>\n    <tr>\n      <th>180</th>\n      <td>2010-01-01</td>\n      <td>city of london</td>\n      <td>464436</td>\n      <td>E09000001</td>\n      <td>20.0</td>\n      <td>0.0</td>\n    </tr>\n    <tr>\n      <th>181</th>\n      <td>2010-02-01</td>\n      <td>city of london</td>\n      <td>490525</td>\n      <td>E09000001</td>\n      <td>9.0</td>\n      <td>0.0</td>\n    </tr>\n    <tr>\n      <th>182</th>\n      <td>2010-03-01</td>\n      <td>city of london</td>\n      <td>498241</td>\n      <td>E09000001</td>\n      <td>15.0</td>\n      <td>0.0</td>\n    </tr>\n  </tbody>\n</table>\n<p>104 rows \u00d7 6 columns</p>\n</div>"
                    },
                    "metadata": {}
                }
            ]
        },
        {
            "metadata": {},
            "cell_type": "markdown",
            "source": "### 5) What is the maximum & minimum 'average_price' per year in england ?\n"
        },
        {
            "metadata": {},
            "cell_type": "code",
            "source": "df1=df[df.area == 'england']",
            "execution_count": 55,
            "outputs": []
        },
        {
            "metadata": {},
            "cell_type": "code",
            "source": "df1",
            "execution_count": 56,
            "outputs": [
                {
                    "output_type": "execute_result",
                    "execution_count": 56,
                    "data": {
                        "text/plain": "            date     area  Month  average_price       code  houses_sold  \\\n13248 1995-01-01  england      1          53203  E92000001      47639.0   \n13249 1995-02-01  england      2          53096  E92000001      47880.0   \n13250 1995-03-01  england      3          53201  E92000001      67025.0   \n13251 1995-04-01  england      4          53591  E92000001      56925.0   \n13252 1995-05-01  england      5          53678  E92000001      64192.0   \n...          ...      ...    ...            ...        ...          ...   \n13544 2019-09-01  england      9         249942  E92000001      64605.0   \n13545 2019-10-01  england     10         249376  E92000001      68677.0   \n13546 2019-11-01  england     11         248515  E92000001      67814.0   \n13547 2019-12-01  england     12         250410  E92000001          NaN   \n13548 2020-01-01  england      1         247355  E92000001          NaN   \n\n       no_of_crimes  Year  \n13248           NaN  1995  \n13249           NaN  1995  \n13250           NaN  1995  \n13251           NaN  1995  \n13252           NaN  1995  \n...             ...   ...  \n13544           NaN  2019  \n13545           NaN  2019  \n13546           NaN  2019  \n13547           NaN  2019  \n13548           NaN  2020  \n\n[301 rows x 8 columns]",
                        "text/html": "<div>\n<style scoped>\n    .dataframe tbody tr th:only-of-type {\n        vertical-align: middle;\n    }\n\n    .dataframe tbody tr th {\n        vertical-align: top;\n    }\n\n    .dataframe thead th {\n        text-align: right;\n    }\n</style>\n<table border=\"1\" class=\"dataframe\">\n  <thead>\n    <tr style=\"text-align: right;\">\n      <th></th>\n      <th>date</th>\n      <th>area</th>\n      <th>Month</th>\n      <th>average_price</th>\n      <th>code</th>\n      <th>houses_sold</th>\n      <th>no_of_crimes</th>\n      <th>Year</th>\n    </tr>\n  </thead>\n  <tbody>\n    <tr>\n      <th>13248</th>\n      <td>1995-01-01</td>\n      <td>england</td>\n      <td>1</td>\n      <td>53203</td>\n      <td>E92000001</td>\n      <td>47639.0</td>\n      <td>NaN</td>\n      <td>1995</td>\n    </tr>\n    <tr>\n      <th>13249</th>\n      <td>1995-02-01</td>\n      <td>england</td>\n      <td>2</td>\n      <td>53096</td>\n      <td>E92000001</td>\n      <td>47880.0</td>\n      <td>NaN</td>\n      <td>1995</td>\n    </tr>\n    <tr>\n      <th>13250</th>\n      <td>1995-03-01</td>\n      <td>england</td>\n      <td>3</td>\n      <td>53201</td>\n      <td>E92000001</td>\n      <td>67025.0</td>\n      <td>NaN</td>\n      <td>1995</td>\n    </tr>\n    <tr>\n      <th>13251</th>\n      <td>1995-04-01</td>\n      <td>england</td>\n      <td>4</td>\n      <td>53591</td>\n      <td>E92000001</td>\n      <td>56925.0</td>\n      <td>NaN</td>\n      <td>1995</td>\n    </tr>\n    <tr>\n      <th>13252</th>\n      <td>1995-05-01</td>\n      <td>england</td>\n      <td>5</td>\n      <td>53678</td>\n      <td>E92000001</td>\n      <td>64192.0</td>\n      <td>NaN</td>\n      <td>1995</td>\n    </tr>\n    <tr>\n      <th>...</th>\n      <td>...</td>\n      <td>...</td>\n      <td>...</td>\n      <td>...</td>\n      <td>...</td>\n      <td>...</td>\n      <td>...</td>\n      <td>...</td>\n    </tr>\n    <tr>\n      <th>13544</th>\n      <td>2019-09-01</td>\n      <td>england</td>\n      <td>9</td>\n      <td>249942</td>\n      <td>E92000001</td>\n      <td>64605.0</td>\n      <td>NaN</td>\n      <td>2019</td>\n    </tr>\n    <tr>\n      <th>13545</th>\n      <td>2019-10-01</td>\n      <td>england</td>\n      <td>10</td>\n      <td>249376</td>\n      <td>E92000001</td>\n      <td>68677.0</td>\n      <td>NaN</td>\n      <td>2019</td>\n    </tr>\n    <tr>\n      <th>13546</th>\n      <td>2019-11-01</td>\n      <td>england</td>\n      <td>11</td>\n      <td>248515</td>\n      <td>E92000001</td>\n      <td>67814.0</td>\n      <td>NaN</td>\n      <td>2019</td>\n    </tr>\n    <tr>\n      <th>13547</th>\n      <td>2019-12-01</td>\n      <td>england</td>\n      <td>12</td>\n      <td>250410</td>\n      <td>E92000001</td>\n      <td>NaN</td>\n      <td>NaN</td>\n      <td>2019</td>\n    </tr>\n    <tr>\n      <th>13548</th>\n      <td>2020-01-01</td>\n      <td>england</td>\n      <td>1</td>\n      <td>247355</td>\n      <td>E92000001</td>\n      <td>NaN</td>\n      <td>NaN</td>\n      <td>2020</td>\n    </tr>\n  </tbody>\n</table>\n<p>301 rows \u00d7 8 columns</p>\n</div>"
                    },
                    "metadata": {}
                }
            ]
        },
        {
            "metadata": {
                "scrolled": true
            },
            "cell_type": "code",
            "source": "df1.groupby('Year').average_price.max()",
            "execution_count": 60,
            "outputs": [
                {
                    "output_type": "execute_result",
                    "execution_count": 60,
                    "data": {
                        "text/plain": "Year\n1995     53901\n1996     55755\n1997     61564\n1998     65743\n1999     75071\n2000     84191\n2001     95992\n2002    119982\n2003    138985\n2004    160330\n2005    167244\n2006    182031\n2007    194764\n2008    191750\n2009    174136\n2010    180807\n2011    177335\n2012    180129\n2013    188544\n2014    203639\n2015    219582\n2016    231922\n2017    242628\n2018    248620\n2019    250410\n2020    247355\nName: average_price, dtype: int64"
                    },
                    "metadata": {}
                }
            ]
        },
        {
            "metadata": {},
            "cell_type": "code",
            "source": "df1.groupby('Year').average_price.min()",
            "execution_count": 61,
            "outputs": [
                {
                    "output_type": "execute_result",
                    "execution_count": 61,
                    "data": {
                        "text/plain": "Year\n1995     52788\n1996     52333\n1997     55789\n1998     61659\n1999     65522\n2000     75219\n2001     84245\n2002     96215\n2003    121610\n2004    139719\n2005    158572\n2006    166544\n2007    181824\n2008    165795\n2009    159340\n2010    174458\n2011    173046\n2012    174161\n2013    176816\n2014    188265\n2015    202856\n2016    220361\n2017    231593\n2018    240428\n2019    243281\n2020    247355\nName: average_price, dtype: int64"
                    },
                    "metadata": {}
                }
            ]
        },
        {
            "metadata": {},
            "cell_type": "markdown",
            "source": "### 6) What is the Maximum & Minimum No. of Crimes recorded per area ?\n"
        },
        {
            "metadata": {},
            "cell_type": "code",
            "source": "df.columns",
            "execution_count": 62,
            "outputs": [
                {
                    "output_type": "execute_result",
                    "execution_count": 62,
                    "data": {
                        "text/plain": "Index(['date', 'area', 'Month', 'average_price', 'code', 'houses_sold',\n       'no_of_crimes', 'Year'],\n      dtype='object')"
                    },
                    "metadata": {}
                }
            ]
        },
        {
            "metadata": {
                "scrolled": true
            },
            "cell_type": "code",
            "source": "df.groupby('area').no_of_crimes.max()",
            "execution_count": 71,
            "outputs": [
                {
                    "output_type": "execute_result",
                    "execution_count": 71,
                    "data": {
                        "text/plain": "area\nbarking and dagenham      2049.0\nbarnet                    2893.0\nbexley                    1914.0\nbrent                     2937.0\nbromley                   2637.0\ncamden                    4558.0\ncity of london              10.0\ncroydon                   3263.0\nealing                    3401.0\neast midlands                NaN\neast of england              NaN\nenfield                   2798.0\nengland                      NaN\ngreenwich                 2853.0\nhackney                   3466.0\nhammersmith and fulham    2645.0\nharingey                  3199.0\nharrow                    1763.0\nhavering                  1956.0\nhillingdon                2819.0\nhounslow                  2817.0\ninner london                 NaN\nislington                 3384.0\nkensington and chelsea    2778.0\nkingston upon thames      1379.0\nlambeth                   4701.0\nlewisham                  2813.0\nlondon                       NaN\nmerton                    1623.0\nnewham                    3668.0\nnorth east                   NaN\nnorth west                   NaN\nouter london                 NaN\nredbridge                 2560.0\nrichmond upon thames      1551.0\nsouth east                   NaN\nsouth west                   NaN\nsouthwark                 3821.0\nsutton                    1425.0\ntower hamlets             3316.0\nwaltham forest            2941.0\nwandsworth                3051.0\nwest midlands                NaN\nwestminster               7461.0\nyorks and the humber         NaN\nName: no_of_crimes, dtype: float64"
                    },
                    "metadata": {}
                }
            ]
        },
        {
            "metadata": {},
            "cell_type": "code",
            "source": "df.groupby('area').no_of_crimes.min()\n# To show ascending and descending order\n# df.groupby('area').no_of_crimes.min().sort_values(ascending=True)",
            "execution_count": 72,
            "outputs": [
                {
                    "output_type": "execute_result",
                    "execution_count": 72,
                    "data": {
                        "text/plain": "area\nbarking and dagenham      1217.0\nbarnet                    1703.0\nbexley                     860.0\nbrent                     1850.0\nbromley                   1441.0\ncamden                    2079.0\ncity of london               0.0\ncroydon                   2031.0\nealing                    1871.0\neast midlands                NaN\neast of england              NaN\nenfield                   1635.0\nengland                      NaN\ngreenwich                 1513.0\nhackney                   1870.0\nhammersmith and fulham    1323.0\nharingey                  1536.0\nharrow                     937.0\nhavering                  1130.0\nhillingdon                1445.0\nhounslow                  1529.0\ninner london                 NaN\nislington                 1871.0\nkensington and chelsea    1347.0\nkingston upon thames       692.0\nlambeth                   2381.0\nlewisham                  1675.0\nlondon                       NaN\nmerton                     819.0\nnewham                    2130.0\nnorth east                   NaN\nnorth west                   NaN\nouter london                 NaN\nredbridge                 1487.0\nrichmond upon thames       700.0\nsouth east                   NaN\nsouth west                   NaN\nsouthwark                 2267.0\nsutton                     787.0\ntower hamlets             1646.0\nwaltham forest            1575.0\nwandsworth                1582.0\nwest midlands                NaN\nwestminster               3504.0\nyorks and the humber         NaN\nName: no_of_crimes, dtype: float64"
                    },
                    "metadata": {}
                }
            ]
        },
        {
            "metadata": {},
            "cell_type": "markdown",
            "source": "### 7) Show the total count of records of each area, where average price is less than 100000."
        },
        {
            "metadata": {},
            "cell_type": "code",
            "source": "df[df.average_price<100000].area.value_counts()",
            "execution_count": 74,
            "outputs": [
                {
                    "output_type": "execute_result",
                    "execution_count": 74,
                    "data": {
                        "text/plain": "north east              112\nnorth west              111\nyorks and the humber    110\neast midlands            96\nwest midlands            94\nengland                  87\nbarking and dagenham     85\nsouth west               78\neast of england          76\nnewham                   72\nwaltham forest           64\nbexley                   64\nlewisham                 62\nhavering                 60\nsouth east               59\ngreenwich                59\ncroydon                  57\nsutton                   54\nenfield                  54\nhackney                  53\nredbridge                52\nsouthwark                48\ntower hamlets            47\nouter london             46\nhillingdon               44\nlambeth                  41\nhounslow                 41\nbrent                    40\nlondon                   39\nmerton                   35\nharingey                 33\nbromley                  33\nealing                   31\ninner london             31\nharrow                   30\nkingston upon thames     30\nwandsworth               26\nbarnet                   25\nislington                19\ncity of london           11\nName: area, dtype: int64"
                    },
                    "metadata": {}
                }
            ]
        },
        {
            "metadata": {},
            "cell_type": "code",
            "source": "",
            "execution_count": null,
            "outputs": []
        }
    ],
    "metadata": {
        "kernelspec": {
            "name": "python3",
            "display_name": "Python 3.8",
            "language": "python"
        },
        "language_info": {
            "name": "python",
            "version": "3.8.12",
            "mimetype": "text/x-python",
            "codemirror_mode": {
                "name": "ipython",
                "version": 3
            },
            "pygments_lexer": "ipython3",
            "nbconvert_exporter": "python",
            "file_extension": ".py"
        }
    },
    "nbformat": 4,
    "nbformat_minor": 1
}