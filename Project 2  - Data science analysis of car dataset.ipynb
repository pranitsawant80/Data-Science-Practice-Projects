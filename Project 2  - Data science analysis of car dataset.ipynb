{
    "cells": [
        {
            "metadata": {},
            "cell_type": "markdown",
            "source": "# Project 1"
        },
        {
            "metadata": {},
            "cell_type": "markdown",
            "source": "# Data Analysis of Car Dataset with Python"
        },
        {
            "metadata": {},
            "cell_type": "code",
            "source": "import pandas as pd",
            "execution_count": 76,
            "outputs": []
        },
        {
            "metadata": {
                "scrolled": true
            },
            "cell_type": "code",
            "source": "# ready-code for loading file in dataframe \nimport os, types\nimport pandas as pd\nfrom botocore.client import Config\nimport ibm_boto3\n\ndef __iter__(self): return 0\n\n# @hidden_cell\n# The following code accesses a file in your IBM Cloud Object Storage. It includes your credentials.\n# You might want to remove those credentials before you share the notebook.\nclient_89964c8d3f9f498cba0461a952edae93 = ibm_boto3.client(service_name='s3',\n    ibm_api_key_id='FiDOa7PobmyuC_jhqU2zWgBMIP9jrskGpyRbERg45_aL',\n    ibm_auth_endpoint=\"https://iam.cloud.ibm.com/oidc/token\",\n    config=Config(signature_version='oauth'),\n    endpoint_url='https://s3.private.eu.cloud-object-storage.appdomain.cloud')\n\nbody = client_89964c8d3f9f498cba0461a952edae93.get_object(Bucket='dataanalyticsprojects-donotdelete-pr-dfxqqqpn3k5k03',Key='2. Cars Data1.csv')['Body']\n# add missing __iter__ method, so pandas accepts body as file-like object\nif not hasattr(body, \"__iter__\"): body.__iter__ = types.MethodType( __iter__, body )\n\ndf = pd.read_csv(body)\ndf.head()\n",
            "execution_count": 77,
            "outputs": [
                {
                    "output_type": "execute_result",
                    "execution_count": 77,
                    "data": {
                        "text/plain": "    Make           Model   Type Origin DriveTrain      MSRP   Invoice  \\\n0  Acura             MDX    SUV   Asia        All  $36,945   $33,337    \n1  Acura  RSX Type S 2dr  Sedan   Asia      Front  $23,820   $21,761    \n2  Acura         TSX 4dr  Sedan   Asia      Front  $26,990   $24,647    \n3  Acura          TL 4dr  Sedan   Asia      Front  $33,195   $30,299    \n4  Acura      3.5 RL 4dr  Sedan   Asia      Front  $43,755   $39,014    \n\n   EngineSize  Cylinders  Horsepower  MPG_City  MPG_Highway  Weight  \\\n0         3.5        6.0       265.0      17.0         23.0  4451.0   \n1         2.0        4.0       200.0      24.0         31.0  2778.0   \n2         2.4        4.0       200.0      22.0         29.0  3230.0   \n3         3.2        6.0       270.0      20.0         28.0  3575.0   \n4         3.5        6.0       225.0      18.0         24.0  3880.0   \n\n   Wheelbase  Length  \n0      106.0   189.0  \n1      101.0   172.0  \n2      105.0   183.0  \n3      108.0   186.0  \n4      115.0   197.0  ",
                        "text/html": "<div>\n<style scoped>\n    .dataframe tbody tr th:only-of-type {\n        vertical-align: middle;\n    }\n\n    .dataframe tbody tr th {\n        vertical-align: top;\n    }\n\n    .dataframe thead th {\n        text-align: right;\n    }\n</style>\n<table border=\"1\" class=\"dataframe\">\n  <thead>\n    <tr style=\"text-align: right;\">\n      <th></th>\n      <th>Make</th>\n      <th>Model</th>\n      <th>Type</th>\n      <th>Origin</th>\n      <th>DriveTrain</th>\n      <th>MSRP</th>\n      <th>Invoice</th>\n      <th>EngineSize</th>\n      <th>Cylinders</th>\n      <th>Horsepower</th>\n      <th>MPG_City</th>\n      <th>MPG_Highway</th>\n      <th>Weight</th>\n      <th>Wheelbase</th>\n      <th>Length</th>\n    </tr>\n  </thead>\n  <tbody>\n    <tr>\n      <th>0</th>\n      <td>Acura</td>\n      <td>MDX</td>\n      <td>SUV</td>\n      <td>Asia</td>\n      <td>All</td>\n      <td>$36,945</td>\n      <td>$33,337</td>\n      <td>3.5</td>\n      <td>6.0</td>\n      <td>265.0</td>\n      <td>17.0</td>\n      <td>23.0</td>\n      <td>4451.0</td>\n      <td>106.0</td>\n      <td>189.0</td>\n    </tr>\n    <tr>\n      <th>1</th>\n      <td>Acura</td>\n      <td>RSX Type S 2dr</td>\n      <td>Sedan</td>\n      <td>Asia</td>\n      <td>Front</td>\n      <td>$23,820</td>\n      <td>$21,761</td>\n      <td>2.0</td>\n      <td>4.0</td>\n      <td>200.0</td>\n      <td>24.0</td>\n      <td>31.0</td>\n      <td>2778.0</td>\n      <td>101.0</td>\n      <td>172.0</td>\n    </tr>\n    <tr>\n      <th>2</th>\n      <td>Acura</td>\n      <td>TSX 4dr</td>\n      <td>Sedan</td>\n      <td>Asia</td>\n      <td>Front</td>\n      <td>$26,990</td>\n      <td>$24,647</td>\n      <td>2.4</td>\n      <td>4.0</td>\n      <td>200.0</td>\n      <td>22.0</td>\n      <td>29.0</td>\n      <td>3230.0</td>\n      <td>105.0</td>\n      <td>183.0</td>\n    </tr>\n    <tr>\n      <th>3</th>\n      <td>Acura</td>\n      <td>TL 4dr</td>\n      <td>Sedan</td>\n      <td>Asia</td>\n      <td>Front</td>\n      <td>$33,195</td>\n      <td>$30,299</td>\n      <td>3.2</td>\n      <td>6.0</td>\n      <td>270.0</td>\n      <td>20.0</td>\n      <td>28.0</td>\n      <td>3575.0</td>\n      <td>108.0</td>\n      <td>186.0</td>\n    </tr>\n    <tr>\n      <th>4</th>\n      <td>Acura</td>\n      <td>3.5 RL 4dr</td>\n      <td>Sedan</td>\n      <td>Asia</td>\n      <td>Front</td>\n      <td>$43,755</td>\n      <td>$39,014</td>\n      <td>3.5</td>\n      <td>6.0</td>\n      <td>225.0</td>\n      <td>18.0</td>\n      <td>24.0</td>\n      <td>3880.0</td>\n      <td>115.0</td>\n      <td>197.0</td>\n    </tr>\n  </tbody>\n</table>\n</div>"
                    },
                    "metadata": {}
                }
            ]
        },
        {
            "metadata": {},
            "cell_type": "code",
            "source": "df.shape",
            "execution_count": 78,
            "outputs": [
                {
                    "output_type": "execute_result",
                    "execution_count": 78,
                    "data": {
                        "text/plain": "(432, 15)"
                    },
                    "metadata": {}
                }
            ]
        },
        {
            "metadata": {
                "collapsed": true
            },
            "cell_type": "markdown",
            "source": "### 1) Instruction ( For Data Cleaning ) - Find all Null Values in the dataset. If there is any null value in any column, then fill it with the mean of that column."
        },
        {
            "metadata": {},
            "cell_type": "code",
            "source": "df.isnull().sum()",
            "execution_count": 79,
            "outputs": [
                {
                    "output_type": "execute_result",
                    "execution_count": 79,
                    "data": {
                        "text/plain": "Make           4\nModel          4\nType           4\nOrigin         4\nDriveTrain     4\nMSRP           4\nInvoice        4\nEngineSize     4\nCylinders      6\nHorsepower     4\nMPG_City       4\nMPG_Highway    4\nWeight         4\nWheelbase      4\nLength         4\ndtype: int64"
                    },
                    "metadata": {}
                }
            ]
        },
        {
            "metadata": {},
            "cell_type": "code",
            "source": "df.columns",
            "execution_count": 80,
            "outputs": [
                {
                    "output_type": "execute_result",
                    "execution_count": 80,
                    "data": {
                        "text/plain": "Index(['Make', 'Model', 'Type', 'Origin', 'DriveTrain', 'MSRP', 'Invoice',\n       'EngineSize', 'Cylinders', 'Horsepower', 'MPG_City', 'MPG_Highway',\n       'Weight', 'Wheelbase', 'Length'],\n      dtype='object')"
                    },
                    "metadata": {}
                }
            ]
        },
        {
            "metadata": {},
            "cell_type": "code",
            "source": "df.dtypes",
            "execution_count": 81,
            "outputs": [
                {
                    "output_type": "execute_result",
                    "execution_count": 81,
                    "data": {
                        "text/plain": "Make            object\nModel           object\nType            object\nOrigin          object\nDriveTrain      object\nMSRP            object\nInvoice         object\nEngineSize     float64\nCylinders      float64\nHorsepower     float64\nMPG_City       float64\nMPG_Highway    float64\nWeight         float64\nWheelbase      float64\nLength         float64\ndtype: object"
                    },
                    "metadata": {}
                }
            ]
        },
        {
            "metadata": {},
            "cell_type": "code",
            "source": "df.mean()",
            "execution_count": 82,
            "outputs": [
                {
                    "output_type": "execute_result",
                    "execution_count": 82,
                    "data": {
                        "text/plain": "EngineSize        3.196729\nCylinders         5.807512\nHorsepower      215.885514\nMPG_City         20.060748\nMPG_Highway      26.843458\nWeight         3577.953271\nWheelbase       108.154206\nLength          186.362150\ndtype: float64"
                    },
                    "metadata": {}
                }
            ]
        },
        {
            "metadata": {
                "scrolled": true
            },
            "cell_type": "code",
            "source": "df['EngineSize'].fillna(df['EngineSize'].mean(),inplace=True)\ndf['Cylinders'].fillna(df['Cylinders'].mean(),inplace=True)\ndf['MPG_City'].fillna(df['MPG_City'].mean(),inplace=True)\ndf['MPG_Highway'].fillna(df['MPG_Highway'].mean(),inplace=True)\ndf['Weight'].fillna(df['Weight'].mean(),inplace=True)\ndf['Wheelbase'].fillna(df['Wheelbase'].mean(),inplace=True)\ndf['Length'].fillna(df['Length'].mean(),inplace=True)\ndf['Horsepower'].fillna(df['Horsepower'].mean(),inplace=True)",
            "execution_count": 83,
            "outputs": []
        },
        {
            "metadata": {},
            "cell_type": "code",
            "source": "df.isnull().sum()",
            "execution_count": 37,
            "outputs": [
                {
                    "output_type": "execute_result",
                    "execution_count": 37,
                    "data": {
                        "text/plain": "Make           4\nModel          4\nType           4\nOrigin         4\nDriveTrain     4\nMSRP           4\nInvoice        4\nEngineSize     0\nCylinders      0\nHorsepower     0\nMPG_City       0\nMPG_Highway    0\nWeight         0\nWheelbase      0\nLength         0\ndtype: int64"
                    },
                    "metadata": {}
                }
            ]
        },
        {
            "metadata": {},
            "cell_type": "markdown",
            "source": "### 2) Question ( Based on Value Counts )- Check what are the different types of 'Make' are there in our dataset. And, what is the count (occurrence) of each Make in the data ?"
        },
        {
            "metadata": {
                "scrolled": true
            },
            "cell_type": "code",
            "source": "df['Make'].unique()",
            "execution_count": 84,
            "outputs": [
                {
                    "output_type": "execute_result",
                    "execution_count": 84,
                    "data": {
                        "text/plain": "array(['Acura', 'Audi', 'BMW', nan, 'Buick', 'Cadillac', 'Chevrolet',\n       'Chrysler', 'Dodge', 'Ford', 'GMC', 'Honda', 'Hummer', 'Hyundai',\n       'Infiniti', 'Isuzu', 'Jaguar', 'Jeep', 'Kia', 'Land Rover',\n       'Lexus', 'Lincoln', 'MINI', 'Mazda', 'Mercedes-Benz', 'Mercury',\n       'Mitsubishi', 'Nissan', 'Oldsmobile', 'Pontiac', 'Porsche', 'Saab',\n       'Saturn', 'Scion', 'Subaru', 'Suzuki', 'Toyota', 'Volkswagen',\n       'Volvo'], dtype=object)"
                    },
                    "metadata": {}
                }
            ]
        },
        {
            "metadata": {},
            "cell_type": "code",
            "source": "df.Make.value_counts()",
            "execution_count": 41,
            "outputs": [
                {
                    "output_type": "execute_result",
                    "execution_count": 41,
                    "data": {
                        "text/plain": "Toyota           28\nChevrolet        27\nMercedes-Benz    26\nFord             23\nBMW              20\nAudi             19\nHonda            17\nNissan           17\nChrysler         15\nVolkswagen       15\nDodge            13\nMitsubishi       13\nHyundai          12\nJaguar           12\nVolvo            12\nKia              11\nSubaru           11\nPontiac          11\nMazda            11\nLexus            11\nBuick             9\nMercury           9\nLincoln           9\nGMC               8\nSaturn            8\nSuzuki            8\nInfiniti          8\nCadillac          8\nAcura             7\nSaab              7\nPorsche           7\nJeep              3\nLand Rover        3\nOldsmobile        3\nMINI              2\nIsuzu             2\nScion             2\nHummer            1\nName: Make, dtype: int64"
                    },
                    "metadata": {}
                }
            ]
        },
        {
            "metadata": {},
            "cell_type": "markdown",
            "source": "### 3) Instruction ( Filtering ) - Show all the records where Origin is Asia or Europe."
        },
        {
            "metadata": {},
            "cell_type": "code",
            "source": "df.columns",
            "execution_count": 85,
            "outputs": [
                {
                    "output_type": "execute_result",
                    "execution_count": 85,
                    "data": {
                        "text/plain": "Index(['Make', 'Model', 'Type', 'Origin', 'DriveTrain', 'MSRP', 'Invoice',\n       'EngineSize', 'Cylinders', 'Horsepower', 'MPG_City', 'MPG_Highway',\n       'Weight', 'Wheelbase', 'Length'],\n      dtype='object')"
                    },
                    "metadata": {}
                }
            ]
        },
        {
            "metadata": {},
            "cell_type": "code",
            "source": "df[(df['Origin']== 'Asia') | (df['Origin']== 'Europe')]\n# OR \n# we can use the command \n# df[df['Origin'].isin(['Asia','Europe'])]",
            "execution_count": 75,
            "outputs": [
                {
                    "output_type": "execute_result",
                    "execution_count": 75,
                    "data": {
                        "text/plain": "      Make                    Model   Type  Origin DriveTrain      MSRP  \\\n0    Acura                      MDX    SUV    Asia        All  $36,945    \n1    Acura           RSX Type S 2dr  Sedan    Asia      Front  $23,820    \n2    Acura                  TSX 4dr  Sedan    Asia      Front  $26,990    \n3    Acura                   TL 4dr  Sedan    Asia      Front  $33,195    \n4    Acura               3.5 RL 4dr  Sedan    Asia      Front  $43,755    \n..     ...                      ...    ...     ...        ...       ...   \n427  Volvo  C70 LPT convertible 2dr  Sedan  Europe      Front  $40,565    \n428  Volvo  C70 HPT convertible 2dr  Sedan  Europe      Front  $42,565    \n429  Volvo               S80 T6 4dr  Sedan  Europe      Front  $45,210    \n430  Volvo                      V40  Wagon  Europe      Front  $26,135    \n431  Volvo                     XC70  Wagon  Europe        All  $35,145    \n\n      Invoice  EngineSize  Cylinders  Horsepower  MPG_City  MPG_Highway  \\\n0    $33,337          3.5        6.0       265.0      17.0         23.0   \n1    $21,761          2.0        4.0       200.0      24.0         31.0   \n2    $24,647          2.4        4.0       200.0      22.0         29.0   \n3    $30,299          3.2        6.0       270.0      20.0         28.0   \n4    $39,014          3.5        6.0       225.0      18.0         24.0   \n..        ...         ...        ...         ...       ...          ...   \n427  $38,203          2.4        5.0       197.0      21.0         28.0   \n428  $40,083          2.3        5.0       242.0      20.0         26.0   \n429  $42,573          2.9        6.0       268.0      19.0         26.0   \n430  $24,641          1.9        4.0       170.0      22.0         29.0   \n431  $33,112          2.5        5.0       208.0      20.0         27.0   \n\n     Weight  Wheelbase  Length  \n0      4000      106.0   189.0  \n1      4000      101.0   172.0  \n2      4000      105.0   183.0  \n3      4000      108.0   186.0  \n4      4000      115.0   197.0  \n..      ...        ...     ...  \n427    4000      105.0   186.0  \n428    4000      105.0   186.0  \n429    4000      110.0   190.0  \n430    4000      101.0   180.0  \n431    4000      109.0   186.0  \n\n[281 rows x 15 columns]",
                        "text/html": "<div>\n<style scoped>\n    .dataframe tbody tr th:only-of-type {\n        vertical-align: middle;\n    }\n\n    .dataframe tbody tr th {\n        vertical-align: top;\n    }\n\n    .dataframe thead th {\n        text-align: right;\n    }\n</style>\n<table border=\"1\" class=\"dataframe\">\n  <thead>\n    <tr style=\"text-align: right;\">\n      <th></th>\n      <th>Make</th>\n      <th>Model</th>\n      <th>Type</th>\n      <th>Origin</th>\n      <th>DriveTrain</th>\n      <th>MSRP</th>\n      <th>Invoice</th>\n      <th>EngineSize</th>\n      <th>Cylinders</th>\n      <th>Horsepower</th>\n      <th>MPG_City</th>\n      <th>MPG_Highway</th>\n      <th>Weight</th>\n      <th>Wheelbase</th>\n      <th>Length</th>\n    </tr>\n  </thead>\n  <tbody>\n    <tr>\n      <th>0</th>\n      <td>Acura</td>\n      <td>MDX</td>\n      <td>SUV</td>\n      <td>Asia</td>\n      <td>All</td>\n      <td>$36,945</td>\n      <td>$33,337</td>\n      <td>3.5</td>\n      <td>6.0</td>\n      <td>265.0</td>\n      <td>17.0</td>\n      <td>23.0</td>\n      <td>4000</td>\n      <td>106.0</td>\n      <td>189.0</td>\n    </tr>\n    <tr>\n      <th>1</th>\n      <td>Acura</td>\n      <td>RSX Type S 2dr</td>\n      <td>Sedan</td>\n      <td>Asia</td>\n      <td>Front</td>\n      <td>$23,820</td>\n      <td>$21,761</td>\n      <td>2.0</td>\n      <td>4.0</td>\n      <td>200.0</td>\n      <td>24.0</td>\n      <td>31.0</td>\n      <td>4000</td>\n      <td>101.0</td>\n      <td>172.0</td>\n    </tr>\n    <tr>\n      <th>2</th>\n      <td>Acura</td>\n      <td>TSX 4dr</td>\n      <td>Sedan</td>\n      <td>Asia</td>\n      <td>Front</td>\n      <td>$26,990</td>\n      <td>$24,647</td>\n      <td>2.4</td>\n      <td>4.0</td>\n      <td>200.0</td>\n      <td>22.0</td>\n      <td>29.0</td>\n      <td>4000</td>\n      <td>105.0</td>\n      <td>183.0</td>\n    </tr>\n    <tr>\n      <th>3</th>\n      <td>Acura</td>\n      <td>TL 4dr</td>\n      <td>Sedan</td>\n      <td>Asia</td>\n      <td>Front</td>\n      <td>$33,195</td>\n      <td>$30,299</td>\n      <td>3.2</td>\n      <td>6.0</td>\n      <td>270.0</td>\n      <td>20.0</td>\n      <td>28.0</td>\n      <td>4000</td>\n      <td>108.0</td>\n      <td>186.0</td>\n    </tr>\n    <tr>\n      <th>4</th>\n      <td>Acura</td>\n      <td>3.5 RL 4dr</td>\n      <td>Sedan</td>\n      <td>Asia</td>\n      <td>Front</td>\n      <td>$43,755</td>\n      <td>$39,014</td>\n      <td>3.5</td>\n      <td>6.0</td>\n      <td>225.0</td>\n      <td>18.0</td>\n      <td>24.0</td>\n      <td>4000</td>\n      <td>115.0</td>\n      <td>197.0</td>\n    </tr>\n    <tr>\n      <th>...</th>\n      <td>...</td>\n      <td>...</td>\n      <td>...</td>\n      <td>...</td>\n      <td>...</td>\n      <td>...</td>\n      <td>...</td>\n      <td>...</td>\n      <td>...</td>\n      <td>...</td>\n      <td>...</td>\n      <td>...</td>\n      <td>...</td>\n      <td>...</td>\n      <td>...</td>\n    </tr>\n    <tr>\n      <th>427</th>\n      <td>Volvo</td>\n      <td>C70 LPT convertible 2dr</td>\n      <td>Sedan</td>\n      <td>Europe</td>\n      <td>Front</td>\n      <td>$40,565</td>\n      <td>$38,203</td>\n      <td>2.4</td>\n      <td>5.0</td>\n      <td>197.0</td>\n      <td>21.0</td>\n      <td>28.0</td>\n      <td>4000</td>\n      <td>105.0</td>\n      <td>186.0</td>\n    </tr>\n    <tr>\n      <th>428</th>\n      <td>Volvo</td>\n      <td>C70 HPT convertible 2dr</td>\n      <td>Sedan</td>\n      <td>Europe</td>\n      <td>Front</td>\n      <td>$42,565</td>\n      <td>$40,083</td>\n      <td>2.3</td>\n      <td>5.0</td>\n      <td>242.0</td>\n      <td>20.0</td>\n      <td>26.0</td>\n      <td>4000</td>\n      <td>105.0</td>\n      <td>186.0</td>\n    </tr>\n    <tr>\n      <th>429</th>\n      <td>Volvo</td>\n      <td>S80 T6 4dr</td>\n      <td>Sedan</td>\n      <td>Europe</td>\n      <td>Front</td>\n      <td>$45,210</td>\n      <td>$42,573</td>\n      <td>2.9</td>\n      <td>6.0</td>\n      <td>268.0</td>\n      <td>19.0</td>\n      <td>26.0</td>\n      <td>4000</td>\n      <td>110.0</td>\n      <td>190.0</td>\n    </tr>\n    <tr>\n      <th>430</th>\n      <td>Volvo</td>\n      <td>V40</td>\n      <td>Wagon</td>\n      <td>Europe</td>\n      <td>Front</td>\n      <td>$26,135</td>\n      <td>$24,641</td>\n      <td>1.9</td>\n      <td>4.0</td>\n      <td>170.0</td>\n      <td>22.0</td>\n      <td>29.0</td>\n      <td>4000</td>\n      <td>101.0</td>\n      <td>180.0</td>\n    </tr>\n    <tr>\n      <th>431</th>\n      <td>Volvo</td>\n      <td>XC70</td>\n      <td>Wagon</td>\n      <td>Europe</td>\n      <td>All</td>\n      <td>$35,145</td>\n      <td>$33,112</td>\n      <td>2.5</td>\n      <td>5.0</td>\n      <td>208.0</td>\n      <td>20.0</td>\n      <td>27.0</td>\n      <td>4000</td>\n      <td>109.0</td>\n      <td>186.0</td>\n    </tr>\n  </tbody>\n</table>\n<p>281 rows \u00d7 15 columns</p>\n</div>"
                    },
                    "metadata": {}
                }
            ]
        },
        {
            "metadata": {},
            "cell_type": "markdown",
            "source": "### 4) Instruction ( Removing unwanted records ) - Remove all the records (rows) where Weight is above 4000."
        },
        {
            "metadata": {},
            "cell_type": "code",
            "source": "df[~(df['Weight']>4000)]",
            "execution_count": 94,
            "outputs": [
                {
                    "output_type": "execute_result",
                    "execution_count": 94,
                    "data": {
                        "text/plain": "      Make                    Model   Type  Origin DriveTrain      MSRP  \\\n1    Acura           RSX Type S 2dr  Sedan    Asia      Front  $23,820    \n2    Acura                  TSX 4dr  Sedan    Asia      Front  $26,990    \n3    Acura                   TL 4dr  Sedan    Asia      Front  $33,195    \n4    Acura               3.5 RL 4dr  Sedan    Asia      Front  $43,755    \n5    Acura  3.5 RL w/Navigation 4dr  Sedan    Asia      Front  $46,100    \n..     ...                      ...    ...     ...        ...       ...   \n427  Volvo  C70 LPT convertible 2dr  Sedan  Europe      Front  $40,565    \n428  Volvo  C70 HPT convertible 2dr  Sedan  Europe      Front  $42,565    \n429  Volvo               S80 T6 4dr  Sedan  Europe      Front  $45,210    \n430  Volvo                      V40  Wagon  Europe      Front  $26,135    \n431  Volvo                     XC70  Wagon  Europe        All  $35,145    \n\n      Invoice  EngineSize  Cylinders  Horsepower  MPG_City  MPG_Highway  \\\n1    $21,761          2.0        4.0       200.0      24.0         31.0   \n2    $24,647          2.4        4.0       200.0      22.0         29.0   \n3    $30,299          3.2        6.0       270.0      20.0         28.0   \n4    $39,014          3.5        6.0       225.0      18.0         24.0   \n5    $41,100          3.5        6.0       225.0      18.0         24.0   \n..        ...         ...        ...         ...       ...          ...   \n427  $38,203          2.4        5.0       197.0      21.0         28.0   \n428  $40,083          2.3        5.0       242.0      20.0         26.0   \n429  $42,573          2.9        6.0       268.0      19.0         26.0   \n430  $24,641          1.9        4.0       170.0      22.0         29.0   \n431  $33,112          2.5        5.0       208.0      20.0         27.0   \n\n     Weight  Wheelbase  Length  \n1    2778.0      101.0   172.0  \n2    3230.0      105.0   183.0  \n3    3575.0      108.0   186.0  \n4    3880.0      115.0   197.0  \n5    3893.0      115.0   197.0  \n..      ...        ...     ...  \n427  3450.0      105.0   186.0  \n428  3450.0      105.0   186.0  \n429  3653.0      110.0   190.0  \n430  2822.0      101.0   180.0  \n431  3823.0      109.0   186.0  \n\n[329 rows x 15 columns]",
                        "text/html": "<div>\n<style scoped>\n    .dataframe tbody tr th:only-of-type {\n        vertical-align: middle;\n    }\n\n    .dataframe tbody tr th {\n        vertical-align: top;\n    }\n\n    .dataframe thead th {\n        text-align: right;\n    }\n</style>\n<table border=\"1\" class=\"dataframe\">\n  <thead>\n    <tr style=\"text-align: right;\">\n      <th></th>\n      <th>Make</th>\n      <th>Model</th>\n      <th>Type</th>\n      <th>Origin</th>\n      <th>DriveTrain</th>\n      <th>MSRP</th>\n      <th>Invoice</th>\n      <th>EngineSize</th>\n      <th>Cylinders</th>\n      <th>Horsepower</th>\n      <th>MPG_City</th>\n      <th>MPG_Highway</th>\n      <th>Weight</th>\n      <th>Wheelbase</th>\n      <th>Length</th>\n    </tr>\n  </thead>\n  <tbody>\n    <tr>\n      <th>1</th>\n      <td>Acura</td>\n      <td>RSX Type S 2dr</td>\n      <td>Sedan</td>\n      <td>Asia</td>\n      <td>Front</td>\n      <td>$23,820</td>\n      <td>$21,761</td>\n      <td>2.0</td>\n      <td>4.0</td>\n      <td>200.0</td>\n      <td>24.0</td>\n      <td>31.0</td>\n      <td>2778.0</td>\n      <td>101.0</td>\n      <td>172.0</td>\n    </tr>\n    <tr>\n      <th>2</th>\n      <td>Acura</td>\n      <td>TSX 4dr</td>\n      <td>Sedan</td>\n      <td>Asia</td>\n      <td>Front</td>\n      <td>$26,990</td>\n      <td>$24,647</td>\n      <td>2.4</td>\n      <td>4.0</td>\n      <td>200.0</td>\n      <td>22.0</td>\n      <td>29.0</td>\n      <td>3230.0</td>\n      <td>105.0</td>\n      <td>183.0</td>\n    </tr>\n    <tr>\n      <th>3</th>\n      <td>Acura</td>\n      <td>TL 4dr</td>\n      <td>Sedan</td>\n      <td>Asia</td>\n      <td>Front</td>\n      <td>$33,195</td>\n      <td>$30,299</td>\n      <td>3.2</td>\n      <td>6.0</td>\n      <td>270.0</td>\n      <td>20.0</td>\n      <td>28.0</td>\n      <td>3575.0</td>\n      <td>108.0</td>\n      <td>186.0</td>\n    </tr>\n    <tr>\n      <th>4</th>\n      <td>Acura</td>\n      <td>3.5 RL 4dr</td>\n      <td>Sedan</td>\n      <td>Asia</td>\n      <td>Front</td>\n      <td>$43,755</td>\n      <td>$39,014</td>\n      <td>3.5</td>\n      <td>6.0</td>\n      <td>225.0</td>\n      <td>18.0</td>\n      <td>24.0</td>\n      <td>3880.0</td>\n      <td>115.0</td>\n      <td>197.0</td>\n    </tr>\n    <tr>\n      <th>5</th>\n      <td>Acura</td>\n      <td>3.5 RL w/Navigation 4dr</td>\n      <td>Sedan</td>\n      <td>Asia</td>\n      <td>Front</td>\n      <td>$46,100</td>\n      <td>$41,100</td>\n      <td>3.5</td>\n      <td>6.0</td>\n      <td>225.0</td>\n      <td>18.0</td>\n      <td>24.0</td>\n      <td>3893.0</td>\n      <td>115.0</td>\n      <td>197.0</td>\n    </tr>\n    <tr>\n      <th>...</th>\n      <td>...</td>\n      <td>...</td>\n      <td>...</td>\n      <td>...</td>\n      <td>...</td>\n      <td>...</td>\n      <td>...</td>\n      <td>...</td>\n      <td>...</td>\n      <td>...</td>\n      <td>...</td>\n      <td>...</td>\n      <td>...</td>\n      <td>...</td>\n      <td>...</td>\n    </tr>\n    <tr>\n      <th>427</th>\n      <td>Volvo</td>\n      <td>C70 LPT convertible 2dr</td>\n      <td>Sedan</td>\n      <td>Europe</td>\n      <td>Front</td>\n      <td>$40,565</td>\n      <td>$38,203</td>\n      <td>2.4</td>\n      <td>5.0</td>\n      <td>197.0</td>\n      <td>21.0</td>\n      <td>28.0</td>\n      <td>3450.0</td>\n      <td>105.0</td>\n      <td>186.0</td>\n    </tr>\n    <tr>\n      <th>428</th>\n      <td>Volvo</td>\n      <td>C70 HPT convertible 2dr</td>\n      <td>Sedan</td>\n      <td>Europe</td>\n      <td>Front</td>\n      <td>$42,565</td>\n      <td>$40,083</td>\n      <td>2.3</td>\n      <td>5.0</td>\n      <td>242.0</td>\n      <td>20.0</td>\n      <td>26.0</td>\n      <td>3450.0</td>\n      <td>105.0</td>\n      <td>186.0</td>\n    </tr>\n    <tr>\n      <th>429</th>\n      <td>Volvo</td>\n      <td>S80 T6 4dr</td>\n      <td>Sedan</td>\n      <td>Europe</td>\n      <td>Front</td>\n      <td>$45,210</td>\n      <td>$42,573</td>\n      <td>2.9</td>\n      <td>6.0</td>\n      <td>268.0</td>\n      <td>19.0</td>\n      <td>26.0</td>\n      <td>3653.0</td>\n      <td>110.0</td>\n      <td>190.0</td>\n    </tr>\n    <tr>\n      <th>430</th>\n      <td>Volvo</td>\n      <td>V40</td>\n      <td>Wagon</td>\n      <td>Europe</td>\n      <td>Front</td>\n      <td>$26,135</td>\n      <td>$24,641</td>\n      <td>1.9</td>\n      <td>4.0</td>\n      <td>170.0</td>\n      <td>22.0</td>\n      <td>29.0</td>\n      <td>2822.0</td>\n      <td>101.0</td>\n      <td>180.0</td>\n    </tr>\n    <tr>\n      <th>431</th>\n      <td>Volvo</td>\n      <td>XC70</td>\n      <td>Wagon</td>\n      <td>Europe</td>\n      <td>All</td>\n      <td>$35,145</td>\n      <td>$33,112</td>\n      <td>2.5</td>\n      <td>5.0</td>\n      <td>208.0</td>\n      <td>20.0</td>\n      <td>27.0</td>\n      <td>3823.0</td>\n      <td>109.0</td>\n      <td>186.0</td>\n    </tr>\n  </tbody>\n</table>\n<p>329 rows \u00d7 15 columns</p>\n</div>"
                    },
                    "metadata": {}
                }
            ]
        },
        {
            "metadata": {},
            "cell_type": "code",
            "source": "df[~(df['Weight']>4000)].shape",
            "execution_count": 95,
            "outputs": [
                {
                    "output_type": "execute_result",
                    "execution_count": 95,
                    "data": {
                        "text/plain": "(329, 15)"
                    },
                    "metadata": {}
                }
            ]
        },
        {
            "metadata": {},
            "cell_type": "markdown",
            "source": "### 5) Instruction ( Applying function on a column ) - Increase all the values of 'MPG_City' column by 3."
        },
        {
            "metadata": {},
            "cell_type": "code",
            "source": "df['MPG_City']=df['MPG_City'].apply(lambda x:x+3)",
            "execution_count": 99,
            "outputs": []
        },
        {
            "metadata": {},
            "cell_type": "code",
            "source": "df",
            "execution_count": 100,
            "outputs": [
                {
                    "output_type": "execute_result",
                    "execution_count": 100,
                    "data": {
                        "text/plain": "      Make                    Model   Type  Origin DriveTrain      MSRP  \\\n0    Acura                      MDX    SUV    Asia        All  $36,945    \n1    Acura           RSX Type S 2dr  Sedan    Asia      Front  $23,820    \n2    Acura                  TSX 4dr  Sedan    Asia      Front  $26,990    \n3    Acura                   TL 4dr  Sedan    Asia      Front  $33,195    \n4    Acura               3.5 RL 4dr  Sedan    Asia      Front  $43,755    \n..     ...                      ...    ...     ...        ...       ...   \n427  Volvo  C70 LPT convertible 2dr  Sedan  Europe      Front  $40,565    \n428  Volvo  C70 HPT convertible 2dr  Sedan  Europe      Front  $42,565    \n429  Volvo               S80 T6 4dr  Sedan  Europe      Front  $45,210    \n430  Volvo                      V40  Wagon  Europe      Front  $26,135    \n431  Volvo                     XC70  Wagon  Europe        All  $35,145    \n\n      Invoice  EngineSize  Cylinders  Horsepower  MPG_City  MPG_Highway  \\\n0    $33,337          3.5        6.0       265.0      20.0         23.0   \n1    $21,761          2.0        4.0       200.0      27.0         31.0   \n2    $24,647          2.4        4.0       200.0      25.0         29.0   \n3    $30,299          3.2        6.0       270.0      23.0         28.0   \n4    $39,014          3.5        6.0       225.0      21.0         24.0   \n..        ...         ...        ...         ...       ...          ...   \n427  $38,203          2.4        5.0       197.0      24.0         28.0   \n428  $40,083          2.3        5.0       242.0      23.0         26.0   \n429  $42,573          2.9        6.0       268.0      22.0         26.0   \n430  $24,641          1.9        4.0       170.0      25.0         29.0   \n431  $33,112          2.5        5.0       208.0      23.0         27.0   \n\n     Weight  Wheelbase  Length  \n0    4451.0      106.0   189.0  \n1    2778.0      101.0   172.0  \n2    3230.0      105.0   183.0  \n3    3575.0      108.0   186.0  \n4    3880.0      115.0   197.0  \n..      ...        ...     ...  \n427  3450.0      105.0   186.0  \n428  3450.0      105.0   186.0  \n429  3653.0      110.0   190.0  \n430  2822.0      101.0   180.0  \n431  3823.0      109.0   186.0  \n\n[432 rows x 15 columns]",
                        "text/html": "<div>\n<style scoped>\n    .dataframe tbody tr th:only-of-type {\n        vertical-align: middle;\n    }\n\n    .dataframe tbody tr th {\n        vertical-align: top;\n    }\n\n    .dataframe thead th {\n        text-align: right;\n    }\n</style>\n<table border=\"1\" class=\"dataframe\">\n  <thead>\n    <tr style=\"text-align: right;\">\n      <th></th>\n      <th>Make</th>\n      <th>Model</th>\n      <th>Type</th>\n      <th>Origin</th>\n      <th>DriveTrain</th>\n      <th>MSRP</th>\n      <th>Invoice</th>\n      <th>EngineSize</th>\n      <th>Cylinders</th>\n      <th>Horsepower</th>\n      <th>MPG_City</th>\n      <th>MPG_Highway</th>\n      <th>Weight</th>\n      <th>Wheelbase</th>\n      <th>Length</th>\n    </tr>\n  </thead>\n  <tbody>\n    <tr>\n      <th>0</th>\n      <td>Acura</td>\n      <td>MDX</td>\n      <td>SUV</td>\n      <td>Asia</td>\n      <td>All</td>\n      <td>$36,945</td>\n      <td>$33,337</td>\n      <td>3.5</td>\n      <td>6.0</td>\n      <td>265.0</td>\n      <td>20.0</td>\n      <td>23.0</td>\n      <td>4451.0</td>\n      <td>106.0</td>\n      <td>189.0</td>\n    </tr>\n    <tr>\n      <th>1</th>\n      <td>Acura</td>\n      <td>RSX Type S 2dr</td>\n      <td>Sedan</td>\n      <td>Asia</td>\n      <td>Front</td>\n      <td>$23,820</td>\n      <td>$21,761</td>\n      <td>2.0</td>\n      <td>4.0</td>\n      <td>200.0</td>\n      <td>27.0</td>\n      <td>31.0</td>\n      <td>2778.0</td>\n      <td>101.0</td>\n      <td>172.0</td>\n    </tr>\n    <tr>\n      <th>2</th>\n      <td>Acura</td>\n      <td>TSX 4dr</td>\n      <td>Sedan</td>\n      <td>Asia</td>\n      <td>Front</td>\n      <td>$26,990</td>\n      <td>$24,647</td>\n      <td>2.4</td>\n      <td>4.0</td>\n      <td>200.0</td>\n      <td>25.0</td>\n      <td>29.0</td>\n      <td>3230.0</td>\n      <td>105.0</td>\n      <td>183.0</td>\n    </tr>\n    <tr>\n      <th>3</th>\n      <td>Acura</td>\n      <td>TL 4dr</td>\n      <td>Sedan</td>\n      <td>Asia</td>\n      <td>Front</td>\n      <td>$33,195</td>\n      <td>$30,299</td>\n      <td>3.2</td>\n      <td>6.0</td>\n      <td>270.0</td>\n      <td>23.0</td>\n      <td>28.0</td>\n      <td>3575.0</td>\n      <td>108.0</td>\n      <td>186.0</td>\n    </tr>\n    <tr>\n      <th>4</th>\n      <td>Acura</td>\n      <td>3.5 RL 4dr</td>\n      <td>Sedan</td>\n      <td>Asia</td>\n      <td>Front</td>\n      <td>$43,755</td>\n      <td>$39,014</td>\n      <td>3.5</td>\n      <td>6.0</td>\n      <td>225.0</td>\n      <td>21.0</td>\n      <td>24.0</td>\n      <td>3880.0</td>\n      <td>115.0</td>\n      <td>197.0</td>\n    </tr>\n    <tr>\n      <th>...</th>\n      <td>...</td>\n      <td>...</td>\n      <td>...</td>\n      <td>...</td>\n      <td>...</td>\n      <td>...</td>\n      <td>...</td>\n      <td>...</td>\n      <td>...</td>\n      <td>...</td>\n      <td>...</td>\n      <td>...</td>\n      <td>...</td>\n      <td>...</td>\n      <td>...</td>\n    </tr>\n    <tr>\n      <th>427</th>\n      <td>Volvo</td>\n      <td>C70 LPT convertible 2dr</td>\n      <td>Sedan</td>\n      <td>Europe</td>\n      <td>Front</td>\n      <td>$40,565</td>\n      <td>$38,203</td>\n      <td>2.4</td>\n      <td>5.0</td>\n      <td>197.0</td>\n      <td>24.0</td>\n      <td>28.0</td>\n      <td>3450.0</td>\n      <td>105.0</td>\n      <td>186.0</td>\n    </tr>\n    <tr>\n      <th>428</th>\n      <td>Volvo</td>\n      <td>C70 HPT convertible 2dr</td>\n      <td>Sedan</td>\n      <td>Europe</td>\n      <td>Front</td>\n      <td>$42,565</td>\n      <td>$40,083</td>\n      <td>2.3</td>\n      <td>5.0</td>\n      <td>242.0</td>\n      <td>23.0</td>\n      <td>26.0</td>\n      <td>3450.0</td>\n      <td>105.0</td>\n      <td>186.0</td>\n    </tr>\n    <tr>\n      <th>429</th>\n      <td>Volvo</td>\n      <td>S80 T6 4dr</td>\n      <td>Sedan</td>\n      <td>Europe</td>\n      <td>Front</td>\n      <td>$45,210</td>\n      <td>$42,573</td>\n      <td>2.9</td>\n      <td>6.0</td>\n      <td>268.0</td>\n      <td>22.0</td>\n      <td>26.0</td>\n      <td>3653.0</td>\n      <td>110.0</td>\n      <td>190.0</td>\n    </tr>\n    <tr>\n      <th>430</th>\n      <td>Volvo</td>\n      <td>V40</td>\n      <td>Wagon</td>\n      <td>Europe</td>\n      <td>Front</td>\n      <td>$26,135</td>\n      <td>$24,641</td>\n      <td>1.9</td>\n      <td>4.0</td>\n      <td>170.0</td>\n      <td>25.0</td>\n      <td>29.0</td>\n      <td>2822.0</td>\n      <td>101.0</td>\n      <td>180.0</td>\n    </tr>\n    <tr>\n      <th>431</th>\n      <td>Volvo</td>\n      <td>XC70</td>\n      <td>Wagon</td>\n      <td>Europe</td>\n      <td>All</td>\n      <td>$35,145</td>\n      <td>$33,112</td>\n      <td>2.5</td>\n      <td>5.0</td>\n      <td>208.0</td>\n      <td>23.0</td>\n      <td>27.0</td>\n      <td>3823.0</td>\n      <td>109.0</td>\n      <td>186.0</td>\n    </tr>\n  </tbody>\n</table>\n<p>432 rows \u00d7 15 columns</p>\n</div>"
                    },
                    "metadata": {}
                }
            ]
        },
        {
            "metadata": {},
            "cell_type": "code",
            "source": "",
            "execution_count": null,
            "outputs": []
        }
    ],
    "metadata": {
        "kernelspec": {
            "name": "python3",
            "display_name": "Python 3.8",
            "language": "python"
        },
        "language_info": {
            "name": "python",
            "version": "3.8.12",
            "mimetype": "text/x-python",
            "codemirror_mode": {
                "name": "ipython",
                "version": 3
            },
            "pygments_lexer": "ipython3",
            "nbconvert_exporter": "python",
            "file_extension": ".py"
        }
    },
    "nbformat": 4,
    "nbformat_minor": 1
}