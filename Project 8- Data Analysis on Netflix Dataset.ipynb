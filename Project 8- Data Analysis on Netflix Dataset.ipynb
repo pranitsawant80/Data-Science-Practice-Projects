{
    "cells": [
        {
            "metadata": {},
            "cell_type": "markdown",
            "source": "# Project 8- Data Analysis on Netflix Dataset"
        },
        {
            "metadata": {},
            "cell_type": "code",
            "source": "# Ready code in watson studio to load any dataset \nimport os, types\nimport pandas as pd\nfrom botocore.client import Config\nimport ibm_boto3\n\ndef __iter__(self): return 0\n\n# @hidden_cell\n# The following code accesses a file in your IBM Cloud Object Storage. It includes your credentials.\n# You might want to remove those credentials before you share the notebook.\nclient_89964c8d3f9f498cba0461a952edae93 = ibm_boto3.client(service_name='s3',\n    ibm_api_key_id='FiDOa7PobmyuC_jhqU2zWgBMIP9jrskGpyRbERg45_aL',\n    ibm_auth_endpoint=\"https://iam.cloud.ibm.com/oidc/token\",\n    config=Config(signature_version='oauth'),\n    endpoint_url='https://s3.private.eu.cloud-object-storage.appdomain.cloud')\n\nbody = client_89964c8d3f9f498cba0461a952edae93.get_object(Bucket='dataanalyticsprojects-donotdelete-pr-dfxqqqpn3k5k03',Key='8. Netflix Dataset.csv')['Body']\n# add missing __iter__ method, so pandas accepts body as file-like object\nif not hasattr(body, \"__iter__\"): body.__iter__ = types.MethodType( __iter__, body )\n\ndf = pd.read_csv(body)\ndf.head()\n",
            "execution_count": 4,
            "outputs": [
                {
                    "output_type": "execute_result",
                    "execution_count": 4,
                    "data": {
                        "text/plain": "  Show_Id Category  Title           Director  \\\n0      s1  TV Show     3%                NaN   \n1      s2    Movie  07:19  Jorge Michel Grau   \n2      s3    Movie  23:59       Gilbert Chan   \n3      s4    Movie      9        Shane Acker   \n4      s5    Movie     21     Robert Luketic   \n\n                                                Cast        Country  \\\n0  Jo\u00e3o Miguel, Bianca Comparato, Michel Gomes, R...         Brazil   \n1  Demi\u00e1n Bichir, H\u00e9ctor Bonilla, Oscar Serrano, ...         Mexico   \n2  Tedd Chan, Stella Chung, Henley Hii, Lawrence ...      Singapore   \n3  Elijah Wood, John C. Reilly, Jennifer Connelly...  United States   \n4  Jim Sturgess, Kevin Spacey, Kate Bosworth, Aar...  United States   \n\n        Release_Date Rating   Duration  \\\n0    August 14, 2020  TV-MA  4 Seasons   \n1  December 23, 2016  TV-MA     93 min   \n2  December 20, 2018      R     78 min   \n3  November 16, 2017  PG-13     80 min   \n4    January 1, 2020  PG-13    123 min   \n\n                                                Type  \\\n0  International TV Shows, TV Dramas, TV Sci-Fi &...   \n1                       Dramas, International Movies   \n2                Horror Movies, International Movies   \n3  Action & Adventure, Independent Movies, Sci-Fi...   \n4                                             Dramas   \n\n                                         Description  \n0  In a future where the elite inhabit an island ...  \n1  After a devastating earthquake hits Mexico Cit...  \n2  When an army recruit is found dead, his fellow...  \n3  In a postapocalyptic world, rag-doll robots hi...  \n4  A brilliant group of students become card-coun...  ",
                        "text/html": "<div>\n<style scoped>\n    .dataframe tbody tr th:only-of-type {\n        vertical-align: middle;\n    }\n\n    .dataframe tbody tr th {\n        vertical-align: top;\n    }\n\n    .dataframe thead th {\n        text-align: right;\n    }\n</style>\n<table border=\"1\" class=\"dataframe\">\n  <thead>\n    <tr style=\"text-align: right;\">\n      <th></th>\n      <th>Show_Id</th>\n      <th>Category</th>\n      <th>Title</th>\n      <th>Director</th>\n      <th>Cast</th>\n      <th>Country</th>\n      <th>Release_Date</th>\n      <th>Rating</th>\n      <th>Duration</th>\n      <th>Type</th>\n      <th>Description</th>\n    </tr>\n  </thead>\n  <tbody>\n    <tr>\n      <th>0</th>\n      <td>s1</td>\n      <td>TV Show</td>\n      <td>3%</td>\n      <td>NaN</td>\n      <td>Jo\u00e3o Miguel, Bianca Comparato, Michel Gomes, R...</td>\n      <td>Brazil</td>\n      <td>August 14, 2020</td>\n      <td>TV-MA</td>\n      <td>4 Seasons</td>\n      <td>International TV Shows, TV Dramas, TV Sci-Fi &amp;...</td>\n      <td>In a future where the elite inhabit an island ...</td>\n    </tr>\n    <tr>\n      <th>1</th>\n      <td>s2</td>\n      <td>Movie</td>\n      <td>07:19</td>\n      <td>Jorge Michel Grau</td>\n      <td>Demi\u00e1n Bichir, H\u00e9ctor Bonilla, Oscar Serrano, ...</td>\n      <td>Mexico</td>\n      <td>December 23, 2016</td>\n      <td>TV-MA</td>\n      <td>93 min</td>\n      <td>Dramas, International Movies</td>\n      <td>After a devastating earthquake hits Mexico Cit...</td>\n    </tr>\n    <tr>\n      <th>2</th>\n      <td>s3</td>\n      <td>Movie</td>\n      <td>23:59</td>\n      <td>Gilbert Chan</td>\n      <td>Tedd Chan, Stella Chung, Henley Hii, Lawrence ...</td>\n      <td>Singapore</td>\n      <td>December 20, 2018</td>\n      <td>R</td>\n      <td>78 min</td>\n      <td>Horror Movies, International Movies</td>\n      <td>When an army recruit is found dead, his fellow...</td>\n    </tr>\n    <tr>\n      <th>3</th>\n      <td>s4</td>\n      <td>Movie</td>\n      <td>9</td>\n      <td>Shane Acker</td>\n      <td>Elijah Wood, John C. Reilly, Jennifer Connelly...</td>\n      <td>United States</td>\n      <td>November 16, 2017</td>\n      <td>PG-13</td>\n      <td>80 min</td>\n      <td>Action &amp; Adventure, Independent Movies, Sci-Fi...</td>\n      <td>In a postapocalyptic world, rag-doll robots hi...</td>\n    </tr>\n    <tr>\n      <th>4</th>\n      <td>s5</td>\n      <td>Movie</td>\n      <td>21</td>\n      <td>Robert Luketic</td>\n      <td>Jim Sturgess, Kevin Spacey, Kate Bosworth, Aar...</td>\n      <td>United States</td>\n      <td>January 1, 2020</td>\n      <td>PG-13</td>\n      <td>123 min</td>\n      <td>Dramas</td>\n      <td>A brilliant group of students become card-coun...</td>\n    </tr>\n  </tbody>\n</table>\n</div>"
                    },
                    "metadata": {}
                }
            ]
        },
        {
            "metadata": {},
            "cell_type": "code",
            "source": "df.shape",
            "execution_count": 2,
            "outputs": [
                {
                    "output_type": "execute_result",
                    "execution_count": 2,
                    "data": {
                        "text/plain": "(7789, 11)"
                    },
                    "metadata": {}
                }
            ]
        },
        {
            "metadata": {},
            "cell_type": "code",
            "source": "df.isnull().sum()",
            "execution_count": 4,
            "outputs": [
                {
                    "output_type": "execute_result",
                    "execution_count": 4,
                    "data": {
                        "text/plain": "Show_Id            0\nCategory           0\nTitle              0\nDirector        2388\nCast             718\nCountry          507\nRelease_Date      10\nRating             7\nDuration           0\nType               0\nDescription        0\ndtype: int64"
                    },
                    "metadata": {}
                }
            ]
        },
        {
            "metadata": {},
            "cell_type": "code",
            "source": "df.dtypes",
            "execution_count": 5,
            "outputs": [
                {
                    "output_type": "execute_result",
                    "execution_count": 5,
                    "data": {
                        "text/plain": "Show_Id         object\nCategory        object\nTitle           object\nDirector        object\nCast            object\nCountry         object\nRelease_Date    object\nRating          object\nDuration        object\nType            object\nDescription     object\ndtype: object"
                    },
                    "metadata": {}
                }
            ]
        },
        {
            "metadata": {},
            "cell_type": "code",
            "source": "df.columns",
            "execution_count": 6,
            "outputs": [
                {
                    "output_type": "execute_result",
                    "execution_count": 6,
                    "data": {
                        "text/plain": "Index(['Show_Id', 'Category', 'Title', 'Director', 'Cast', 'Country',\n       'Release_Date', 'Rating', 'Duration', 'Type', 'Description'],\n      dtype='object')"
                    },
                    "metadata": {}
                }
            ]
        },
        {
            "metadata": {},
            "cell_type": "code",
            "source": "df.size",
            "execution_count": 8,
            "outputs": [
                {
                    "output_type": "execute_result",
                    "execution_count": 8,
                    "data": {
                        "text/plain": "85679"
                    },
                    "metadata": {}
                }
            ]
        },
        {
            "metadata": {
                "collapsed": true
            },
            "cell_type": "markdown",
            "source": "### Task. 1) Is there any Duplicate Record in this dataset ? If yes, then remove the duplicate records."
        },
        {
            "metadata": {
                "scrolled": true
            },
            "cell_type": "code",
            "source": "df[df.duplicated()]",
            "execution_count": 16,
            "outputs": [
                {
                    "output_type": "execute_result",
                    "execution_count": 16,
                    "data": {
                        "text/plain": "     Show_Id Category              Title        Director  \\\n6300    s684    Movie           Backfire     Dave Patten   \n6622   s6621    Movie  The Lost Okoroshi  Abba T. Makama   \n\n                                                   Cast        Country  \\\n6300  Black Deniro, Byron \"Squally\" Vinson, Dominic ...  United States   \n6622  Seun Ajayi, Judith Audu, Tope Tedela, Ifu Enna...        Nigeria   \n\n           Release_Date Rating Duration  \\\n6300      April 5, 2019  TV-MA   97 min   \n6622  September 4, 2020  TV-MA   94 min   \n\n                                       Type  \\\n6300  Dramas, Independent Movies, Thrillers   \n6622   Comedies, Dramas, Independent Movies   \n\n                                            Description  \n6300  When two would-be robbers accidentally kill a ...  \n6622  A disillusioned security guard transforms into...  ",
                        "text/html": "<div>\n<style scoped>\n    .dataframe tbody tr th:only-of-type {\n        vertical-align: middle;\n    }\n\n    .dataframe tbody tr th {\n        vertical-align: top;\n    }\n\n    .dataframe thead th {\n        text-align: right;\n    }\n</style>\n<table border=\"1\" class=\"dataframe\">\n  <thead>\n    <tr style=\"text-align: right;\">\n      <th></th>\n      <th>Show_Id</th>\n      <th>Category</th>\n      <th>Title</th>\n      <th>Director</th>\n      <th>Cast</th>\n      <th>Country</th>\n      <th>Release_Date</th>\n      <th>Rating</th>\n      <th>Duration</th>\n      <th>Type</th>\n      <th>Description</th>\n    </tr>\n  </thead>\n  <tbody>\n    <tr>\n      <th>6300</th>\n      <td>s684</td>\n      <td>Movie</td>\n      <td>Backfire</td>\n      <td>Dave Patten</td>\n      <td>Black Deniro, Byron \"Squally\" Vinson, Dominic ...</td>\n      <td>United States</td>\n      <td>April 5, 2019</td>\n      <td>TV-MA</td>\n      <td>97 min</td>\n      <td>Dramas, Independent Movies, Thrillers</td>\n      <td>When two would-be robbers accidentally kill a ...</td>\n    </tr>\n    <tr>\n      <th>6622</th>\n      <td>s6621</td>\n      <td>Movie</td>\n      <td>The Lost Okoroshi</td>\n      <td>Abba T. Makama</td>\n      <td>Seun Ajayi, Judith Audu, Tope Tedela, Ifu Enna...</td>\n      <td>Nigeria</td>\n      <td>September 4, 2020</td>\n      <td>TV-MA</td>\n      <td>94 min</td>\n      <td>Comedies, Dramas, Independent Movies</td>\n      <td>A disillusioned security guard transforms into...</td>\n    </tr>\n  </tbody>\n</table>\n</div>"
                    },
                    "metadata": {}
                }
            ]
        },
        {
            "metadata": {},
            "cell_type": "code",
            "source": "df.drop_duplicates(inplace=True)",
            "execution_count": 17,
            "outputs": []
        },
        {
            "metadata": {},
            "cell_type": "code",
            "source": "df[df.duplicated()]",
            "execution_count": 18,
            "outputs": [
                {
                    "output_type": "execute_result",
                    "execution_count": 18,
                    "data": {
                        "text/plain": "Empty DataFrame\nColumns: [Show_Id, Category, Title, Director, Cast, Country, Release_Date, Rating, Duration, Type, Description]\nIndex: []",
                        "text/html": "<div>\n<style scoped>\n    .dataframe tbody tr th:only-of-type {\n        vertical-align: middle;\n    }\n\n    .dataframe tbody tr th {\n        vertical-align: top;\n    }\n\n    .dataframe thead th {\n        text-align: right;\n    }\n</style>\n<table border=\"1\" class=\"dataframe\">\n  <thead>\n    <tr style=\"text-align: right;\">\n      <th></th>\n      <th>Show_Id</th>\n      <th>Category</th>\n      <th>Title</th>\n      <th>Director</th>\n      <th>Cast</th>\n      <th>Country</th>\n      <th>Release_Date</th>\n      <th>Rating</th>\n      <th>Duration</th>\n      <th>Type</th>\n      <th>Description</th>\n    </tr>\n  </thead>\n  <tbody>\n  </tbody>\n</table>\n</div>"
                    },
                    "metadata": {}
                }
            ]
        },
        {
            "metadata": {},
            "cell_type": "markdown",
            "source": "### Task. 2) Is there any Null Value present in any column ? Show with Heat-map."
        },
        {
            "metadata": {
                "scrolled": true
            },
            "cell_type": "code",
            "source": "df.isnull().sum()",
            "execution_count": 19,
            "outputs": [
                {
                    "output_type": "execute_result",
                    "execution_count": 19,
                    "data": {
                        "text/plain": "Show_Id            0\nCategory           0\nTitle              0\nDirector        2388\nCast             718\nCountry          507\nRelease_Date      10\nRating             7\nDuration           0\nType               0\nDescription        0\ndtype: int64"
                    },
                    "metadata": {}
                }
            ]
        },
        {
            "metadata": {},
            "cell_type": "code",
            "source": "import seaborn as sns",
            "execution_count": 20,
            "outputs": []
        },
        {
            "metadata": {},
            "cell_type": "code",
            "source": "sns.heatmap(df.isnull())",
            "execution_count": 27,
            "outputs": [
                {
                    "output_type": "execute_result",
                    "execution_count": 27,
                    "data": {
                        "text/plain": "<AxesSubplot:>"
                    },
                    "metadata": {}
                },
                {
                    "output_type": "display_data",
                    "data": {
                        "text/plain": "<Figure size 432x288 with 2 Axes>",
                        "image/png": "[encoded data removed]"
                    },
                    "metadata": {
                        "needs_background": "light"
                    }
                }
            ]
        },
        {
            "metadata": {},
            "cell_type": "markdown",
            "source": "### 1) For 'House of Cards', what is the Show Id and Who is the Director of this show ?"
        },
        {
            "metadata": {},
            "cell_type": "code",
            "source": "df.columns",
            "execution_count": 28,
            "outputs": [
                {
                    "output_type": "execute_result",
                    "execution_count": 28,
                    "data": {
                        "text/plain": "Index(['Show_Id', 'Category', 'Title', 'Director', 'Cast', 'Country',\n       'Release_Date', 'Rating', 'Duration', 'Type', 'Description'],\n      dtype='object')"
                    },
                    "metadata": {}
                }
            ]
        },
        {
            "metadata": {},
            "cell_type": "code",
            "source": "df[df.Title == 'House of Cards']",
            "execution_count": 37,
            "outputs": [
                {
                    "output_type": "execute_result",
                    "execution_count": 37,
                    "data": {
                        "text/plain": "     Show_Id Category           Title  \\\n2832   s2833  TV Show  House of Cards   \n\n                                               Director  \\\n2832  Robin Wright, David Fincher, Gerald McRaney, J...   \n\n                                                   Cast        Country  \\\n2832  Kevin Spacey, Robin Wright, Kate Mara, Corey S...  United States   \n\n          Release_Date Rating   Duration                     Type  \\\n2832  November 2, 2018  TV-MA  6 Seasons  TV Dramas, TV Thrillers   \n\n                                            Description  \n2832  A ruthless politician will stop at nothing to ...  ",
                        "text/html": "<div>\n<style scoped>\n    .dataframe tbody tr th:only-of-type {\n        vertical-align: middle;\n    }\n\n    .dataframe tbody tr th {\n        vertical-align: top;\n    }\n\n    .dataframe thead th {\n        text-align: right;\n    }\n</style>\n<table border=\"1\" class=\"dataframe\">\n  <thead>\n    <tr style=\"text-align: right;\">\n      <th></th>\n      <th>Show_Id</th>\n      <th>Category</th>\n      <th>Title</th>\n      <th>Director</th>\n      <th>Cast</th>\n      <th>Country</th>\n      <th>Release_Date</th>\n      <th>Rating</th>\n      <th>Duration</th>\n      <th>Type</th>\n      <th>Description</th>\n    </tr>\n  </thead>\n  <tbody>\n    <tr>\n      <th>2832</th>\n      <td>s2833</td>\n      <td>TV Show</td>\n      <td>House of Cards</td>\n      <td>Robin Wright, David Fincher, Gerald McRaney, J...</td>\n      <td>Kevin Spacey, Robin Wright, Kate Mara, Corey S...</td>\n      <td>United States</td>\n      <td>November 2, 2018</td>\n      <td>TV-MA</td>\n      <td>6 Seasons</td>\n      <td>TV Dramas, TV Thrillers</td>\n      <td>A ruthless politician will stop at nothing to ...</td>\n    </tr>\n  </tbody>\n</table>\n</div>"
                    },
                    "metadata": {}
                }
            ]
        },
        {
            "metadata": {},
            "cell_type": "markdown",
            "source": "### 2) In which year the highest number of the TV Shows & Movies were released ? Show with Bar Graph."
        },
        {
            "metadata": {},
            "cell_type": "code",
            "source": "df['Release_Date']=pd.to_datetime(df['Release_Date'])",
            "execution_count": 60,
            "outputs": []
        },
        {
            "metadata": {},
            "cell_type": "code",
            "source": "df.dtypes",
            "execution_count": 41,
            "outputs": [
                {
                    "output_type": "execute_result",
                    "execution_count": 41,
                    "data": {
                        "text/plain": "Show_Id                 object\nCategory                object\nTitle                   object\nDirector                object\nCast                    object\nCountry                 object\nRelease_Date    datetime64[ns]\nRating                  object\nDuration                object\nType                    object\nDescription             object\ndtype: object"
                    },
                    "metadata": {}
                }
            ]
        },
        {
            "metadata": {},
            "cell_type": "code",
            "source": "# df['year'] = df['Release_Date'].dt.year\ndf.insert(1,'year',df['Release_Date'].dt.year)\n# df.drop(['year'],axis=1,inplace=True)",
            "execution_count": 70,
            "outputs": []
        },
        {
            "metadata": {},
            "cell_type": "code",
            "source": "df.columns",
            "execution_count": 71,
            "outputs": [
                {
                    "output_type": "execute_result",
                    "execution_count": 71,
                    "data": {
                        "text/plain": "Index(['Show_Id', 'year', 'Category', 'Title', 'Director', 'Cast', 'Country',\n       'Release_Date', 'Rating', 'Duration', 'Type', 'Description'],\n      dtype='object')"
                    },
                    "metadata": {}
                }
            ]
        },
        {
            "metadata": {
                "scrolled": true
            },
            "cell_type": "code",
            "source": "df.year.value_counts()",
            "execution_count": 75,
            "outputs": [
                {
                    "output_type": "execute_result",
                    "execution_count": 75,
                    "data": {
                        "text/plain": "2019.0    2153\n2020.0    2009\n2018.0    1685\n2017.0    1225\n2016.0     443\n2021.0     117\n2015.0      88\n2014.0      25\n2011.0      13\n2013.0      11\n2012.0       3\n2009.0       2\n2008.0       2\n2010.0       1\nName: year, dtype: int64"
                    },
                    "metadata": {}
                }
            ]
        },
        {
            "metadata": {},
            "cell_type": "code",
            "source": "df.year.value_counts().plot(kind='bar')",
            "execution_count": 97,
            "outputs": [
                {
                    "output_type": "execute_result",
                    "execution_count": 97,
                    "data": {
                        "text/plain": "<AxesSubplot:>"
                    },
                    "metadata": {}
                },
                {
                    "output_type": "display_data",
                    "data": {
                        "text/plain": "<Figure size 432x288 with 1 Axes>",
                        "image/png": "[encoded data removed]"
                    },
                    "metadata": {
                        "needs_background": "light"
                    }
                }
            ]
        },
        {
            "metadata": {},
            "cell_type": "markdown",
            "source": "### 3) How many Movies & TV Shows are in the dataset ? Show with Bar Graph."
        },
        {
            "metadata": {
                "scrolled": true
            },
            "cell_type": "code",
            "source": "df.isnull().sum()",
            "execution_count": 82,
            "outputs": [
                {
                    "output_type": "execute_result",
                    "execution_count": 82,
                    "data": {
                        "text/plain": "Show_Id            0\nyear              10\nCategory           0\nTitle              0\nDirector        2388\nCast             718\nCountry          507\nRelease_Date      10\nRating             7\nDuration           0\nType               0\nDescription        0\ndtype: int64"
                    },
                    "metadata": {}
                }
            ]
        },
        {
            "metadata": {},
            "cell_type": "code",
            "source": "df.head()",
            "execution_count": 84,
            "outputs": [
                {
                    "output_type": "execute_result",
                    "execution_count": 84,
                    "data": {
                        "text/plain": "  Show_Id    year Category  Title           Director  \\\n0      s1  2020.0  TV Show     3%                NaN   \n1      s2  2016.0    Movie  07:19  Jorge Michel Grau   \n2      s3  2018.0    Movie  23:59       Gilbert Chan   \n3      s4  2017.0    Movie      9        Shane Acker   \n4      s5  2020.0    Movie     21     Robert Luketic   \n\n                                                Cast        Country  \\\n0  Jo\u00e3o Miguel, Bianca Comparato, Michel Gomes, R...         Brazil   \n1  Demi\u00e1n Bichir, H\u00e9ctor Bonilla, Oscar Serrano, ...         Mexico   \n2  Tedd Chan, Stella Chung, Henley Hii, Lawrence ...      Singapore   \n3  Elijah Wood, John C. Reilly, Jennifer Connelly...  United States   \n4  Jim Sturgess, Kevin Spacey, Kate Bosworth, Aar...  United States   \n\n  Release_Date Rating   Duration  \\\n0   2020-08-14  TV-MA  4 Seasons   \n1   2016-12-23  TV-MA     93 min   \n2   2018-12-20      R     78 min   \n3   2017-11-16  PG-13     80 min   \n4   2020-01-01  PG-13    123 min   \n\n                                                Type  \\\n0  International TV Shows, TV Dramas, TV Sci-Fi &...   \n1                       Dramas, International Movies   \n2                Horror Movies, International Movies   \n3  Action & Adventure, Independent Movies, Sci-Fi...   \n4                                             Dramas   \n\n                                         Description  \n0  In a future where the elite inhabit an island ...  \n1  After a devastating earthquake hits Mexico Cit...  \n2  When an army recruit is found dead, his fellow...  \n3  In a postapocalyptic world, rag-doll robots hi...  \n4  A brilliant group of students become card-coun...  ",
                        "text/html": "<div>\n<style scoped>\n    .dataframe tbody tr th:only-of-type {\n        vertical-align: middle;\n    }\n\n    .dataframe tbody tr th {\n        vertical-align: top;\n    }\n\n    .dataframe thead th {\n        text-align: right;\n    }\n</style>\n<table border=\"1\" class=\"dataframe\">\n  <thead>\n    <tr style=\"text-align: right;\">\n      <th></th>\n      <th>Show_Id</th>\n      <th>year</th>\n      <th>Category</th>\n      <th>Title</th>\n      <th>Director</th>\n      <th>Cast</th>\n      <th>Country</th>\n      <th>Release_Date</th>\n      <th>Rating</th>\n      <th>Duration</th>\n      <th>Type</th>\n      <th>Description</th>\n    </tr>\n  </thead>\n  <tbody>\n    <tr>\n      <th>0</th>\n      <td>s1</td>\n      <td>2020.0</td>\n      <td>TV Show</td>\n      <td>3%</td>\n      <td>NaN</td>\n      <td>Jo\u00e3o Miguel, Bianca Comparato, Michel Gomes, R...</td>\n      <td>Brazil</td>\n      <td>2020-08-14</td>\n      <td>TV-MA</td>\n      <td>4 Seasons</td>\n      <td>International TV Shows, TV Dramas, TV Sci-Fi &amp;...</td>\n      <td>In a future where the elite inhabit an island ...</td>\n    </tr>\n    <tr>\n      <th>1</th>\n      <td>s2</td>\n      <td>2016.0</td>\n      <td>Movie</td>\n      <td>07:19</td>\n      <td>Jorge Michel Grau</td>\n      <td>Demi\u00e1n Bichir, H\u00e9ctor Bonilla, Oscar Serrano, ...</td>\n      <td>Mexico</td>\n      <td>2016-12-23</td>\n      <td>TV-MA</td>\n      <td>93 min</td>\n      <td>Dramas, International Movies</td>\n      <td>After a devastating earthquake hits Mexico Cit...</td>\n    </tr>\n    <tr>\n      <th>2</th>\n      <td>s3</td>\n      <td>2018.0</td>\n      <td>Movie</td>\n      <td>23:59</td>\n      <td>Gilbert Chan</td>\n      <td>Tedd Chan, Stella Chung, Henley Hii, Lawrence ...</td>\n      <td>Singapore</td>\n      <td>2018-12-20</td>\n      <td>R</td>\n      <td>78 min</td>\n      <td>Horror Movies, International Movies</td>\n      <td>When an army recruit is found dead, his fellow...</td>\n    </tr>\n    <tr>\n      <th>3</th>\n      <td>s4</td>\n      <td>2017.0</td>\n      <td>Movie</td>\n      <td>9</td>\n      <td>Shane Acker</td>\n      <td>Elijah Wood, John C. Reilly, Jennifer Connelly...</td>\n      <td>United States</td>\n      <td>2017-11-16</td>\n      <td>PG-13</td>\n      <td>80 min</td>\n      <td>Action &amp; Adventure, Independent Movies, Sci-Fi...</td>\n      <td>In a postapocalyptic world, rag-doll robots hi...</td>\n    </tr>\n    <tr>\n      <th>4</th>\n      <td>s5</td>\n      <td>2020.0</td>\n      <td>Movie</td>\n      <td>21</td>\n      <td>Robert Luketic</td>\n      <td>Jim Sturgess, Kevin Spacey, Kate Bosworth, Aar...</td>\n      <td>United States</td>\n      <td>2020-01-01</td>\n      <td>PG-13</td>\n      <td>123 min</td>\n      <td>Dramas</td>\n      <td>A brilliant group of students become card-coun...</td>\n    </tr>\n  </tbody>\n</table>\n</div>"
                    },
                    "metadata": {}
                }
            ]
        },
        {
            "metadata": {
                "scrolled": true
            },
            "cell_type": "code",
            "source": "df.Category.value_counts().plot(kind='bar')",
            "execution_count": 103,
            "outputs": [
                {
                    "output_type": "execute_result",
                    "execution_count": 103,
                    "data": {
                        "text/plain": "<AxesSubplot:>"
                    },
                    "metadata": {}
                },
                {
                    "output_type": "display_data",
                    "data": {
                        "text/plain": "<Figure size 432x288 with 1 Axes>",
                        "image/png": "[encoded data removed]"
                    },
                    "metadata": {
                        "needs_background": "light"
                    }
                }
            ]
        },
        {
            "metadata": {},
            "cell_type": "code",
            "source": "# OR\nsns.countplot(df['Category'])",
            "execution_count": 102,
            "outputs": [
                {
                    "output_type": "stream",
                    "text": "/opt/conda/envs/Python-3.8-main/lib/python3.8/site-packages/seaborn/_decorators.py:36: FutureWarning: Pass the following variable as a keyword arg: x. From version 0.12, the only valid positional argument will be `data`, and passing other arguments without an explicit keyword will result in an error or misinterpretation.\n  warnings.warn(\n",
                    "name": "stderr"
                },
                {
                    "output_type": "execute_result",
                    "execution_count": 102,
                    "data": {
                        "text/plain": "<AxesSubplot:xlabel='Category', ylabel='count'>"
                    },
                    "metadata": {}
                },
                {
                    "output_type": "display_data",
                    "data": {
                        "text/plain": "<Figure size 432x288 with 1 Axes>",
                        "image/png": "[encoded data removed]"
                    },
                    "metadata": {
                        "needs_background": "light"
                    }
                }
            ]
        },
        {
            "metadata": {},
            "cell_type": "markdown",
            "source": "### 4) Show all the Movies that were released in year 2000."
        },
        {
            "metadata": {
                "scrolled": true
            },
            "cell_type": "code",
            "source": "df.year.unique()",
            "execution_count": 106,
            "outputs": [
                {
                    "output_type": "execute_result",
                    "execution_count": 106,
                    "data": {
                        "text/plain": "array([2020., 2016., 2018., 2017., 2019., 2021., 2015., 2013., 2011.,\n         nan, 2012., 2014., 2008., 2009., 2010.])"
                    },
                    "metadata": {}
                }
            ]
        },
        {
            "metadata": {},
            "cell_type": "code",
            "source": "df.dtypes",
            "execution_count": 116,
            "outputs": [
                {
                    "output_type": "execute_result",
                    "execution_count": 116,
                    "data": {
                        "text/plain": "Show_Id                 object\nyear                   float64\nCategory                object\nTitle                   object\nDirector                object\nCast                    object\nCountry                 object\nRelease_Date    datetime64[ns]\nRating                  object\nDuration                object\nType                    object\nDescription             object\ndtype: object"
                    },
                    "metadata": {}
                }
            ]
        },
        {
            "metadata": {},
            "cell_type": "code",
            "source": "# df[(df['Category']== 'Movie') & (df['year']== 2000)] OR\ndf[(df.Category== 'Movie') & (df.year== 2000)]",
            "execution_count": 117,
            "outputs": [
                {
                    "output_type": "execute_result",
                    "execution_count": 117,
                    "data": {
                        "text/plain": "Empty DataFrame\nColumns: [Show_Id, year, Category, Title, Director, Cast, Country, Release_Date, Rating, Duration, Type, Description]\nIndex: []",
                        "text/html": "<div>\n<style scoped>\n    .dataframe tbody tr th:only-of-type {\n        vertical-align: middle;\n    }\n\n    .dataframe tbody tr th {\n        vertical-align: top;\n    }\n\n    .dataframe thead th {\n        text-align: right;\n    }\n</style>\n<table border=\"1\" class=\"dataframe\">\n  <thead>\n    <tr style=\"text-align: right;\">\n      <th></th>\n      <th>Show_Id</th>\n      <th>year</th>\n      <th>Category</th>\n      <th>Title</th>\n      <th>Director</th>\n      <th>Cast</th>\n      <th>Country</th>\n      <th>Release_Date</th>\n      <th>Rating</th>\n      <th>Duration</th>\n      <th>Type</th>\n      <th>Description</th>\n    </tr>\n  </thead>\n  <tbody>\n  </tbody>\n</table>\n</div>"
                    },
                    "metadata": {}
                }
            ]
        },
        {
            "metadata": {},
            "cell_type": "markdown",
            "source": "### 5) Show only the Titles of all TV Shows that were released in India only."
        },
        {
            "metadata": {},
            "cell_type": "code",
            "source": "df[(df.Category =='TV Show') & (df.Country== 'India')]['Title']",
            "execution_count": 124,
            "outputs": [
                {
                    "output_type": "execute_result",
                    "execution_count": 124,
                    "data": {
                        "text/plain": "86            21 Sarfarosh: Saragarhi 1897\n132                              7 (Seven)\n340                           Agent Raghav\n364                           Akbar\u00a0Birbal\n533                    Anjaan: Rural Myths\n                       ...                \n6249                  The Creative Indians\n6400    The Golden Years with Javed Akhtar\n6469                The House That Made Me\n7294                            Typewriter\n7705                       Yeh Meri Family\nName: Title, Length: 71, dtype: object"
                    },
                    "metadata": {}
                }
            ]
        },
        {
            "metadata": {},
            "cell_type": "markdown",
            "source": "### 6) Show Top 10 Directors, who gave the highest number of TV Shows & Movies to Netflix ?"
        },
        {
            "metadata": {
                "scrolled": true
            },
            "cell_type": "code",
            "source": "df.Category.value_counts()",
            "execution_count": 125,
            "outputs": [
                {
                    "output_type": "execute_result",
                    "execution_count": 125,
                    "data": {
                        "text/plain": "Movie      5377\nTV Show    2410\nName: Category, dtype: int64"
                    },
                    "metadata": {}
                }
            ]
        },
        {
            "metadata": {},
            "cell_type": "code",
            "source": "df.Director.value_counts().head(10)",
            "execution_count": 127,
            "outputs": [
                {
                    "output_type": "execute_result",
                    "execution_count": 127,
                    "data": {
                        "text/plain": "Ra\u00fal Campos, Jan Suter    18\nMarcus Raboy              16\nJay Karas                 14\nCathy Garcia-Molina       13\nYoussef Chahine           12\nMartin Scorsese           12\nJay Chapman               12\nSteven Spielberg          10\nDavid Dhawan               9\nShannon Hartman            8\nName: Director, dtype: int64"
                    },
                    "metadata": {}
                }
            ]
        },
        {
            "metadata": {},
            "cell_type": "markdown",
            "source": "### 7) Show all the Records, where \"Category is Movie and Type is Comedies\" or \"Country is United Kingdom\"."
        },
        {
            "metadata": {},
            "cell_type": "code",
            "source": "df[(df.Category== 'Movie') &((df.Type== 'Comedies') | (df.Country == 'United Kingdom'))]",
            "execution_count": 134,
            "outputs": [
                {
                    "output_type": "execute_result",
                    "execution_count": 134,
                    "data": {
                        "text/plain": "     Show_Id    year Category                   Title                Director  \\\n19       s20  2018.0    Movie                     '89                     NaN   \n33       s34  2017.0    Movie            #realityhigh        Fernando Lebrija   \n72       s73  2021.0    Movie                17 Again             Burr Steers   \n82       s83  2018.0    Movie     2036 Origin Unknown           Hasraf Dulull   \n84       s85  2019.0    Movie               21 & Over  Jon Lucas, Scott Moore   \n...      ...     ...      ...                     ...                     ...   \n7634   s7633  2019.0    Movie            Wine Country             Amy Poehler   \n7649   s7648  2017.0    Movie           Without Gorky          Cosima Spender   \n7664   s7663  2020.0    Movie                 Work It           Laura Terruso   \n7688   s7687  2020.0    Movie  XV: Beyond the Tryline        Pierre Deschamps   \n7725   s7724  2017.0    Movie            You Can Tutu             James Brown   \n\n                                                   Cast         Country  \\\n19                   Lee Dixon, Ian Wright, Paul Merson  United Kingdom   \n33    Nesta Cooper, Kate Walsh, John Michael Higgins...   United States   \n72    Zac Efron, Leslie Mann, Matthew Perry, Thomas ...   United States   \n82    Katee Sackhoff, Ray Fearon, Julie Cox, Steven ...  United Kingdom   \n84    Miles Teller, Skylar Astin, Justin Chon, Sarah...   United States   \n...                                                 ...             ...   \n7634  Amy Poehler, Maya Rudolph, Ana Gasteyer, Rache...   United States   \n7649                                                NaN  United Kingdom   \n7664  Sabrina Carpenter, Jordan Fisher, Liza Koshy, ...   United States   \n7688                                                NaN  United Kingdom   \n7725  Lily O'Regan, Jeannettsy Enriquez Borges, Joel...  United Kingdom   \n\n     Release_Date Rating Duration                          Type  \\\n19     2018-05-16  TV-PG   87 min                 Sports Movies   \n33     2017-09-08  TV-14   99 min                      Comedies   \n72     2021-01-01  PG-13  102 min                      Comedies   \n82     2018-12-20  TV-14   95 min              Sci-Fi & Fantasy   \n84     2019-04-16      R   93 min                      Comedies   \n...           ...    ...      ...                           ...   \n7634   2019-05-10      R  104 min                      Comedies   \n7649   2017-05-31  TV-14   80 min                 Documentaries   \n7664   2020-08-07  TV-14   94 min                      Comedies   \n7688   2020-03-18  TV-14   91 min  Documentaries, Sports Movies   \n7725   2017-12-31   TV-G   87 min      Children & Family Movies   \n\n                                            Description  \n19    Mixing old footage with interviews, this is th...  \n33    When nerdy high schooler Dani finally attracts...  \n72    Nearing a midlife crisis, thirty-something Mik...  \n82    Working with an artificial intelligence to inv...  \n84    Jeff's straight-and-narrow life changes abrupt...  \n...                                                 ...  \n7634  When longtime friends meet up for a wine-soake...  \n7649  A filmmaker trains the camera on her own famil...  \n7664  A brilliant but clumsy high school senior vows...  \n7688  Set against the 2015 Rugby World Cup, this doc...  \n7725  A gifted young ballet dancer struggles to find...  \n\n[281 rows x 12 columns]",
                        "text/html": "<div>\n<style scoped>\n    .dataframe tbody tr th:only-of-type {\n        vertical-align: middle;\n    }\n\n    .dataframe tbody tr th {\n        vertical-align: top;\n    }\n\n    .dataframe thead th {\n        text-align: right;\n    }\n</style>\n<table border=\"1\" class=\"dataframe\">\n  <thead>\n    <tr style=\"text-align: right;\">\n      <th></th>\n      <th>Show_Id</th>\n      <th>year</th>\n      <th>Category</th>\n      <th>Title</th>\n      <th>Director</th>\n      <th>Cast</th>\n      <th>Country</th>\n      <th>Release_Date</th>\n      <th>Rating</th>\n      <th>Duration</th>\n      <th>Type</th>\n      <th>Description</th>\n    </tr>\n  </thead>\n  <tbody>\n    <tr>\n      <th>19</th>\n      <td>s20</td>\n      <td>2018.0</td>\n      <td>Movie</td>\n      <td>'89</td>\n      <td>NaN</td>\n      <td>Lee Dixon, Ian Wright, Paul Merson</td>\n      <td>United Kingdom</td>\n      <td>2018-05-16</td>\n      <td>TV-PG</td>\n      <td>87 min</td>\n      <td>Sports Movies</td>\n      <td>Mixing old footage with interviews, this is th...</td>\n    </tr>\n    <tr>\n      <th>33</th>\n      <td>s34</td>\n      <td>2017.0</td>\n      <td>Movie</td>\n      <td>#realityhigh</td>\n      <td>Fernando Lebrija</td>\n      <td>Nesta Cooper, Kate Walsh, John Michael Higgins...</td>\n      <td>United States</td>\n      <td>2017-09-08</td>\n      <td>TV-14</td>\n      <td>99 min</td>\n      <td>Comedies</td>\n      <td>When nerdy high schooler Dani finally attracts...</td>\n    </tr>\n    <tr>\n      <th>72</th>\n      <td>s73</td>\n      <td>2021.0</td>\n      <td>Movie</td>\n      <td>17 Again</td>\n      <td>Burr Steers</td>\n      <td>Zac Efron, Leslie Mann, Matthew Perry, Thomas ...</td>\n      <td>United States</td>\n      <td>2021-01-01</td>\n      <td>PG-13</td>\n      <td>102 min</td>\n      <td>Comedies</td>\n      <td>Nearing a midlife crisis, thirty-something Mik...</td>\n    </tr>\n    <tr>\n      <th>82</th>\n      <td>s83</td>\n      <td>2018.0</td>\n      <td>Movie</td>\n      <td>2036 Origin Unknown</td>\n      <td>Hasraf Dulull</td>\n      <td>Katee Sackhoff, Ray Fearon, Julie Cox, Steven ...</td>\n      <td>United Kingdom</td>\n      <td>2018-12-20</td>\n      <td>TV-14</td>\n      <td>95 min</td>\n      <td>Sci-Fi &amp; Fantasy</td>\n      <td>Working with an artificial intelligence to inv...</td>\n    </tr>\n    <tr>\n      <th>84</th>\n      <td>s85</td>\n      <td>2019.0</td>\n      <td>Movie</td>\n      <td>21 &amp; Over</td>\n      <td>Jon Lucas, Scott Moore</td>\n      <td>Miles Teller, Skylar Astin, Justin Chon, Sarah...</td>\n      <td>United States</td>\n      <td>2019-04-16</td>\n      <td>R</td>\n      <td>93 min</td>\n      <td>Comedies</td>\n      <td>Jeff's straight-and-narrow life changes abrupt...</td>\n    </tr>\n    <tr>\n      <th>...</th>\n      <td>...</td>\n      <td>...</td>\n      <td>...</td>\n      <td>...</td>\n      <td>...</td>\n      <td>...</td>\n      <td>...</td>\n      <td>...</td>\n      <td>...</td>\n      <td>...</td>\n      <td>...</td>\n      <td>...</td>\n    </tr>\n    <tr>\n      <th>7634</th>\n      <td>s7633</td>\n      <td>2019.0</td>\n      <td>Movie</td>\n      <td>Wine Country</td>\n      <td>Amy Poehler</td>\n      <td>Amy Poehler, Maya Rudolph, Ana Gasteyer, Rache...</td>\n      <td>United States</td>\n      <td>2019-05-10</td>\n      <td>R</td>\n      <td>104 min</td>\n      <td>Comedies</td>\n      <td>When longtime friends meet up for a wine-soake...</td>\n    </tr>\n    <tr>\n      <th>7649</th>\n      <td>s7648</td>\n      <td>2017.0</td>\n      <td>Movie</td>\n      <td>Without Gorky</td>\n      <td>Cosima Spender</td>\n      <td>NaN</td>\n      <td>United Kingdom</td>\n      <td>2017-05-31</td>\n      <td>TV-14</td>\n      <td>80 min</td>\n      <td>Documentaries</td>\n      <td>A filmmaker trains the camera on her own famil...</td>\n    </tr>\n    <tr>\n      <th>7664</th>\n      <td>s7663</td>\n      <td>2020.0</td>\n      <td>Movie</td>\n      <td>Work It</td>\n      <td>Laura Terruso</td>\n      <td>Sabrina Carpenter, Jordan Fisher, Liza Koshy, ...</td>\n      <td>United States</td>\n      <td>2020-08-07</td>\n      <td>TV-14</td>\n      <td>94 min</td>\n      <td>Comedies</td>\n      <td>A brilliant but clumsy high school senior vows...</td>\n    </tr>\n    <tr>\n      <th>7688</th>\n      <td>s7687</td>\n      <td>2020.0</td>\n      <td>Movie</td>\n      <td>XV: Beyond the Tryline</td>\n      <td>Pierre Deschamps</td>\n      <td>NaN</td>\n      <td>United Kingdom</td>\n      <td>2020-03-18</td>\n      <td>TV-14</td>\n      <td>91 min</td>\n      <td>Documentaries, Sports Movies</td>\n      <td>Set against the 2015 Rugby World Cup, this doc...</td>\n    </tr>\n    <tr>\n      <th>7725</th>\n      <td>s7724</td>\n      <td>2017.0</td>\n      <td>Movie</td>\n      <td>You Can Tutu</td>\n      <td>James Brown</td>\n      <td>Lily O'Regan, Jeannettsy Enriquez Borges, Joel...</td>\n      <td>United Kingdom</td>\n      <td>2017-12-31</td>\n      <td>TV-G</td>\n      <td>87 min</td>\n      <td>Children &amp; Family Movies</td>\n      <td>A gifted young ballet dancer struggles to find...</td>\n    </tr>\n  </tbody>\n</table>\n<p>281 rows \u00d7 12 columns</p>\n</div>"
                    },
                    "metadata": {}
                }
            ]
        },
        {
            "metadata": {},
            "cell_type": "markdown",
            "source": "### 8) In how many movies/shows, Tom Cruise was cast ?"
        },
        {
            "metadata": {},
            "cell_type": "code",
            "source": "df[df.Cast.str.contains('Tom Cruise')]",
            "execution_count": 140,
            "outputs": [
                {
                    "output_type": "error",
                    "ename": "ValueError",
                    "evalue": "Cannot mask with non-boolean array containing NA / NaN values",
                    "traceback": [
                        "\u001b[0;31m---------------------------------------------------------------------------\u001b[0m",
                        "\u001b[0;31mValueError\u001b[0m                                Traceback (most recent call last)",
                        "\u001b[0;32m/tmp/wsuser/ipykernel_154/4206202961.py\u001b[0m in \u001b[0;36m<module>\u001b[0;34m\u001b[0m\n\u001b[0;32m----> 1\u001b[0;31m \u001b[0mdf\u001b[0m\u001b[0;34m[\u001b[0m\u001b[0mdf\u001b[0m\u001b[0;34m.\u001b[0m\u001b[0mCast\u001b[0m\u001b[0;34m.\u001b[0m\u001b[0mstr\u001b[0m\u001b[0;34m.\u001b[0m\u001b[0mcontains\u001b[0m\u001b[0;34m(\u001b[0m\u001b[0;34m'Tom Cruise'\u001b[0m\u001b[0;34m)\u001b[0m\u001b[0;34m]\u001b[0m\u001b[0;34m\u001b[0m\u001b[0;34m\u001b[0m\u001b[0m\n\u001b[0m",
                        "\u001b[0;32m/opt/conda/envs/Python-3.8-main/lib/python3.8/site-packages/pandas/core/frame.py\u001b[0m in \u001b[0;36m__getitem__\u001b[0;34m(self, key)\u001b[0m\n\u001b[1;32m   3012\u001b[0m \u001b[0;34m\u001b[0m\u001b[0m\n\u001b[1;32m   3013\u001b[0m         \u001b[0;31m# Do we have a (boolean) 1d indexer?\u001b[0m\u001b[0;34m\u001b[0m\u001b[0;34m\u001b[0m\u001b[0;34m\u001b[0m\u001b[0m\n\u001b[0;32m-> 3014\u001b[0;31m         \u001b[0;32mif\u001b[0m \u001b[0mcom\u001b[0m\u001b[0;34m.\u001b[0m\u001b[0mis_bool_indexer\u001b[0m\u001b[0;34m(\u001b[0m\u001b[0mkey\u001b[0m\u001b[0;34m)\u001b[0m\u001b[0;34m:\u001b[0m\u001b[0;34m\u001b[0m\u001b[0;34m\u001b[0m\u001b[0m\n\u001b[0m\u001b[1;32m   3015\u001b[0m             \u001b[0;32mreturn\u001b[0m \u001b[0mself\u001b[0m\u001b[0;34m.\u001b[0m\u001b[0m_getitem_bool_array\u001b[0m\u001b[0;34m(\u001b[0m\u001b[0mkey\u001b[0m\u001b[0;34m)\u001b[0m\u001b[0;34m\u001b[0m\u001b[0;34m\u001b[0m\u001b[0m\n\u001b[1;32m   3016\u001b[0m \u001b[0;34m\u001b[0m\u001b[0m\n",
                        "\u001b[0;32m/opt/conda/envs/Python-3.8-main/lib/python3.8/site-packages/pandas/core/common.py\u001b[0m in \u001b[0;36mis_bool_indexer\u001b[0;34m(key)\u001b[0m\n\u001b[1;32m    112\u001b[0m                     \u001b[0;31m# Don't raise on e.g. [\"A\", \"B\", np.nan], see\u001b[0m\u001b[0;34m\u001b[0m\u001b[0;34m\u001b[0m\u001b[0;34m\u001b[0m\u001b[0m\n\u001b[1;32m    113\u001b[0m                     \u001b[0;31m#  test_loc_getitem_list_of_labels_categoricalindex_with_na\u001b[0m\u001b[0;34m\u001b[0m\u001b[0;34m\u001b[0m\u001b[0;34m\u001b[0m\u001b[0m\n\u001b[0;32m--> 114\u001b[0;31m                     \u001b[0;32mraise\u001b[0m \u001b[0mValueError\u001b[0m\u001b[0;34m(\u001b[0m\u001b[0mna_msg\u001b[0m\u001b[0;34m)\u001b[0m\u001b[0;34m\u001b[0m\u001b[0;34m\u001b[0m\u001b[0m\n\u001b[0m\u001b[1;32m    115\u001b[0m                 \u001b[0;32mreturn\u001b[0m \u001b[0;32mFalse\u001b[0m\u001b[0;34m\u001b[0m\u001b[0;34m\u001b[0m\u001b[0m\n\u001b[1;32m    116\u001b[0m             \u001b[0;32mreturn\u001b[0m \u001b[0;32mTrue\u001b[0m\u001b[0;34m\u001b[0m\u001b[0;34m\u001b[0m\u001b[0m\n",
                        "\u001b[0;31mValueError\u001b[0m: Cannot mask with non-boolean array containing NA / NaN values"
                    ]
                }
            ]
        },
        {
            "metadata": {},
            "cell_type": "code",
            "source": "df1=df.dropna()",
            "execution_count": 137,
            "outputs": []
        },
        {
            "metadata": {},
            "cell_type": "code",
            "source": "df1",
            "execution_count": 138,
            "outputs": [
                {
                    "output_type": "execute_result",
                    "execution_count": 138,
                    "data": {
                        "text/plain": "     Show_Id    year Category       Title           Director  \\\n1         s2  2016.0    Movie       07:19  Jorge Michel Grau   \n2         s3  2018.0    Movie       23:59       Gilbert Chan   \n3         s4  2017.0    Movie           9        Shane Acker   \n4         s5  2020.0    Movie          21     Robert Luketic   \n5         s6  2017.0  TV Show          46        Serdar Akar   \n...      ...     ...      ...         ...                ...   \n7780   s7779  2019.0    Movie  Zombieland    Ruben Fleischer   \n7782   s7781  2018.0    Movie         Zoo       Shlok Sharma   \n7783   s7782  2020.0    Movie        Zoom       Peter Hewitt   \n7784   s7783  2020.0    Movie        Zozo        Josef Fares   \n7785   s7784  2019.0    Movie      Zubaan        Mozez Singh   \n\n                                                   Cast  \\\n1     Demi\u00e1n Bichir, H\u00e9ctor Bonilla, Oscar Serrano, ...   \n2     Tedd Chan, Stella Chung, Henley Hii, Lawrence ...   \n3     Elijah Wood, John C. Reilly, Jennifer Connelly...   \n4     Jim Sturgess, Kevin Spacey, Kate Bosworth, Aar...   \n5     Erdal Be\u015fik\u00e7io\u011flu, Yasemin Allen, Melis Birkan...   \n...                                                 ...   \n7780  Jesse Eisenberg, Woody Harrelson, Emma Stone, ...   \n7782  Shashank Arora, Shweta Tripathi, Rahul Kumar, ...   \n7783  Tim Allen, Courteney Cox, Chevy Chase, Kate Ma...   \n7784  Imad Creidi, Antoinette Turk, Elias Gergi, Car...   \n7785  Vicky Kaushal, Sarah-Jane Dias, Raaghav Chanan...   \n\n                                                Country Release_Date Rating  \\\n1                                                Mexico   2016-12-23  TV-MA   \n2                                             Singapore   2018-12-20      R   \n3                                         United States   2017-11-16  PG-13   \n4                                         United States   2020-01-01  PG-13   \n5                                                Turkey   2017-07-01  TV-MA   \n...                                                 ...          ...    ...   \n7780                                      United States   2019-11-01      R   \n7782                                              India   2018-07-01  TV-MA   \n7783                                      United States   2020-01-11     PG   \n7784  Sweden, Czech Republic, United Kingdom, Denmar...   2020-10-19  TV-MA   \n7785                                              India   2019-03-02  TV-14   \n\n      Duration                                               Type  \\\n1       93 min                       Dramas, International Movies   \n2       78 min                Horror Movies, International Movies   \n3       80 min  Action & Adventure, Independent Movies, Sci-Fi...   \n4      123 min                                             Dramas   \n5     1 Season    International TV Shows, TV Dramas, TV Mysteries   \n...        ...                                                ...   \n7780    88 min                            Comedies, Horror Movies   \n7782    94 min   Dramas, Independent Movies, International Movies   \n7783    88 min                 Children & Family Movies, Comedies   \n7784    99 min                       Dramas, International Movies   \n7785   111 min     Dramas, International Movies, Music & Musicals   \n\n                                            Description  \n1     After a devastating earthquake hits Mexico Cit...  \n2     When an army recruit is found dead, his fellow...  \n3     In a postapocalyptic world, rag-doll robots hi...  \n4     A brilliant group of students become card-coun...  \n5     A genetics professor experiments with a treatm...  \n...                                                 ...  \n7780  Looking to survive in a world taken over by zo...  \n7782  A drug dealer starts having doubts about his t...  \n7783  Dragged from civilian life, a former superhero...  \n7784  When Lebanon's Civil War deprives Zozo of his ...  \n7785  A scrappy but poor boy worms his way into a ty...  \n\n[4809 rows x 12 columns]",
                        "text/html": "<div>\n<style scoped>\n    .dataframe tbody tr th:only-of-type {\n        vertical-align: middle;\n    }\n\n    .dataframe tbody tr th {\n        vertical-align: top;\n    }\n\n    .dataframe thead th {\n        text-align: right;\n    }\n</style>\n<table border=\"1\" class=\"dataframe\">\n  <thead>\n    <tr style=\"text-align: right;\">\n      <th></th>\n      <th>Show_Id</th>\n      <th>year</th>\n      <th>Category</th>\n      <th>Title</th>\n      <th>Director</th>\n      <th>Cast</th>\n      <th>Country</th>\n      <th>Release_Date</th>\n      <th>Rating</th>\n      <th>Duration</th>\n      <th>Type</th>\n      <th>Description</th>\n    </tr>\n  </thead>\n  <tbody>\n    <tr>\n      <th>1</th>\n      <td>s2</td>\n      <td>2016.0</td>\n      <td>Movie</td>\n      <td>07:19</td>\n      <td>Jorge Michel Grau</td>\n      <td>Demi\u00e1n Bichir, H\u00e9ctor Bonilla, Oscar Serrano, ...</td>\n      <td>Mexico</td>\n      <td>2016-12-23</td>\n      <td>TV-MA</td>\n      <td>93 min</td>\n      <td>Dramas, International Movies</td>\n      <td>After a devastating earthquake hits Mexico Cit...</td>\n    </tr>\n    <tr>\n      <th>2</th>\n      <td>s3</td>\n      <td>2018.0</td>\n      <td>Movie</td>\n      <td>23:59</td>\n      <td>Gilbert Chan</td>\n      <td>Tedd Chan, Stella Chung, Henley Hii, Lawrence ...</td>\n      <td>Singapore</td>\n      <td>2018-12-20</td>\n      <td>R</td>\n      <td>78 min</td>\n      <td>Horror Movies, International Movies</td>\n      <td>When an army recruit is found dead, his fellow...</td>\n    </tr>\n    <tr>\n      <th>3</th>\n      <td>s4</td>\n      <td>2017.0</td>\n      <td>Movie</td>\n      <td>9</td>\n      <td>Shane Acker</td>\n      <td>Elijah Wood, John C. Reilly, Jennifer Connelly...</td>\n      <td>United States</td>\n      <td>2017-11-16</td>\n      <td>PG-13</td>\n      <td>80 min</td>\n      <td>Action &amp; Adventure, Independent Movies, Sci-Fi...</td>\n      <td>In a postapocalyptic world, rag-doll robots hi...</td>\n    </tr>\n    <tr>\n      <th>4</th>\n      <td>s5</td>\n      <td>2020.0</td>\n      <td>Movie</td>\n      <td>21</td>\n      <td>Robert Luketic</td>\n      <td>Jim Sturgess, Kevin Spacey, Kate Bosworth, Aar...</td>\n      <td>United States</td>\n      <td>2020-01-01</td>\n      <td>PG-13</td>\n      <td>123 min</td>\n      <td>Dramas</td>\n      <td>A brilliant group of students become card-coun...</td>\n    </tr>\n    <tr>\n      <th>5</th>\n      <td>s6</td>\n      <td>2017.0</td>\n      <td>TV Show</td>\n      <td>46</td>\n      <td>Serdar Akar</td>\n      <td>Erdal Be\u015fik\u00e7io\u011flu, Yasemin Allen, Melis Birkan...</td>\n      <td>Turkey</td>\n      <td>2017-07-01</td>\n      <td>TV-MA</td>\n      <td>1 Season</td>\n      <td>International TV Shows, TV Dramas, TV Mysteries</td>\n      <td>A genetics professor experiments with a treatm...</td>\n    </tr>\n    <tr>\n      <th>...</th>\n      <td>...</td>\n      <td>...</td>\n      <td>...</td>\n      <td>...</td>\n      <td>...</td>\n      <td>...</td>\n      <td>...</td>\n      <td>...</td>\n      <td>...</td>\n      <td>...</td>\n      <td>...</td>\n      <td>...</td>\n    </tr>\n    <tr>\n      <th>7780</th>\n      <td>s7779</td>\n      <td>2019.0</td>\n      <td>Movie</td>\n      <td>Zombieland</td>\n      <td>Ruben Fleischer</td>\n      <td>Jesse Eisenberg, Woody Harrelson, Emma Stone, ...</td>\n      <td>United States</td>\n      <td>2019-11-01</td>\n      <td>R</td>\n      <td>88 min</td>\n      <td>Comedies, Horror Movies</td>\n      <td>Looking to survive in a world taken over by zo...</td>\n    </tr>\n    <tr>\n      <th>7782</th>\n      <td>s7781</td>\n      <td>2018.0</td>\n      <td>Movie</td>\n      <td>Zoo</td>\n      <td>Shlok Sharma</td>\n      <td>Shashank Arora, Shweta Tripathi, Rahul Kumar, ...</td>\n      <td>India</td>\n      <td>2018-07-01</td>\n      <td>TV-MA</td>\n      <td>94 min</td>\n      <td>Dramas, Independent Movies, International Movies</td>\n      <td>A drug dealer starts having doubts about his t...</td>\n    </tr>\n    <tr>\n      <th>7783</th>\n      <td>s7782</td>\n      <td>2020.0</td>\n      <td>Movie</td>\n      <td>Zoom</td>\n      <td>Peter Hewitt</td>\n      <td>Tim Allen, Courteney Cox, Chevy Chase, Kate Ma...</td>\n      <td>United States</td>\n      <td>2020-01-11</td>\n      <td>PG</td>\n      <td>88 min</td>\n      <td>Children &amp; Family Movies, Comedies</td>\n      <td>Dragged from civilian life, a former superhero...</td>\n    </tr>\n    <tr>\n      <th>7784</th>\n      <td>s7783</td>\n      <td>2020.0</td>\n      <td>Movie</td>\n      <td>Zozo</td>\n      <td>Josef Fares</td>\n      <td>Imad Creidi, Antoinette Turk, Elias Gergi, Car...</td>\n      <td>Sweden, Czech Republic, United Kingdom, Denmar...</td>\n      <td>2020-10-19</td>\n      <td>TV-MA</td>\n      <td>99 min</td>\n      <td>Dramas, International Movies</td>\n      <td>When Lebanon's Civil War deprives Zozo of his ...</td>\n    </tr>\n    <tr>\n      <th>7785</th>\n      <td>s7784</td>\n      <td>2019.0</td>\n      <td>Movie</td>\n      <td>Zubaan</td>\n      <td>Mozez Singh</td>\n      <td>Vicky Kaushal, Sarah-Jane Dias, Raaghav Chanan...</td>\n      <td>India</td>\n      <td>2019-03-02</td>\n      <td>TV-14</td>\n      <td>111 min</td>\n      <td>Dramas, International Movies, Music &amp; Musicals</td>\n      <td>A scrappy but poor boy worms his way into a ty...</td>\n    </tr>\n  </tbody>\n</table>\n<p>4809 rows \u00d7 12 columns</p>\n</div>"
                    },
                    "metadata": {}
                }
            ]
        },
        {
            "metadata": {
                "scrolled": true
            },
            "cell_type": "code",
            "source": "df1[df1.Cast.str.contains('Tom Cruise')]",
            "execution_count": 139,
            "outputs": [
                {
                    "output_type": "execute_result",
                    "execution_count": 139,
                    "data": {
                        "text/plain": "     Show_Id    year Category     Title              Director  \\\n3860   s3861  2020.0    Movie  Magnolia  Paul Thomas Anderson   \n5071   s5071  2019.0    Movie  Rain Man        Barry Levinson   \n\n                                                   Cast        Country  \\\n3860  Jeremy Blackman, Tom Cruise, Melinda Dillon, A...  United States   \n5071  Dustin Hoffman, Tom Cruise, Valeria Golino, Ge...  United States   \n\n     Release_Date Rating Duration                        Type  \\\n3860   2020-01-01      R  189 min  Dramas, Independent Movies   \n5071   2019-07-01      R  134 min      Classic Movies, Dramas   \n\n                                            Description  \n3860  Through chance, human action, past history and...  \n5071  A fast-talking yuppie is forced to slow down w...  ",
                        "text/html": "<div>\n<style scoped>\n    .dataframe tbody tr th:only-of-type {\n        vertical-align: middle;\n    }\n\n    .dataframe tbody tr th {\n        vertical-align: top;\n    }\n\n    .dataframe thead th {\n        text-align: right;\n    }\n</style>\n<table border=\"1\" class=\"dataframe\">\n  <thead>\n    <tr style=\"text-align: right;\">\n      <th></th>\n      <th>Show_Id</th>\n      <th>year</th>\n      <th>Category</th>\n      <th>Title</th>\n      <th>Director</th>\n      <th>Cast</th>\n      <th>Country</th>\n      <th>Release_Date</th>\n      <th>Rating</th>\n      <th>Duration</th>\n      <th>Type</th>\n      <th>Description</th>\n    </tr>\n  </thead>\n  <tbody>\n    <tr>\n      <th>3860</th>\n      <td>s3861</td>\n      <td>2020.0</td>\n      <td>Movie</td>\n      <td>Magnolia</td>\n      <td>Paul Thomas Anderson</td>\n      <td>Jeremy Blackman, Tom Cruise, Melinda Dillon, A...</td>\n      <td>United States</td>\n      <td>2020-01-01</td>\n      <td>R</td>\n      <td>189 min</td>\n      <td>Dramas, Independent Movies</td>\n      <td>Through chance, human action, past history and...</td>\n    </tr>\n    <tr>\n      <th>5071</th>\n      <td>s5071</td>\n      <td>2019.0</td>\n      <td>Movie</td>\n      <td>Rain Man</td>\n      <td>Barry Levinson</td>\n      <td>Dustin Hoffman, Tom Cruise, Valeria Golino, Ge...</td>\n      <td>United States</td>\n      <td>2019-07-01</td>\n      <td>R</td>\n      <td>134 min</td>\n      <td>Classic Movies, Dramas</td>\n      <td>A fast-talking yuppie is forced to slow down w...</td>\n    </tr>\n  </tbody>\n</table>\n</div>"
                    },
                    "metadata": {}
                }
            ]
        },
        {
            "metadata": {},
            "cell_type": "markdown",
            "source": "### 9) What are the different Ratings defined by Netflix ?"
        },
        {
            "metadata": {},
            "cell_type": "code",
            "source": "df.Rating.unique()",
            "execution_count": 141,
            "outputs": [
                {
                    "output_type": "execute_result",
                    "execution_count": 141,
                    "data": {
                        "text/plain": "array(['TV-MA', 'R', 'PG-13', 'TV-14', 'TV-PG', 'NR', 'TV-G', 'TV-Y', nan,\n       'TV-Y7', 'PG', 'G', 'NC-17', 'TV-Y7-FV', 'UR'], dtype=object)"
                    },
                    "metadata": {}
                }
            ]
        },
        {
            "metadata": {},
            "cell_type": "markdown",
            "source": "### 9.1) How many Movies got the 'TV-14' rating, in Canada ?"
        },
        {
            "metadata": {},
            "cell_type": "code",
            "source": "df[(df.Category=='Movie') & (df.Rating=='TV-14') & (df.Country=='Canada')]",
            "execution_count": 144,
            "outputs": [
                {
                    "output_type": "execute_result",
                    "execution_count": 144,
                    "data": {
                        "text/plain": "     Show_Id    year Category                                        Title  \\\n30       s31  2020.0    Movie                             #cats_the_mewvie   \n34       s35  2019.0    Movie                                        #Roxy   \n608     s609  2018.0    Movie                               At First Light   \n1506   s1507  2018.0    Movie                   Counterfeiting in Suburbia   \n3713   s3714  2017.0    Movie                            Long Time Running   \n3956   s3957  2019.0    Movie  Martin Matte: La vie, la mort...eh la la..!   \n5336   s5336  2017.0    Movie                   Sadie's Last Days on Earth   \n5393   s5393  2017.0    Movie                                   Sardaar ji   \n6062   s6062  2019.0    Movie                  The Accountant of Auschwitz   \n7025   s7024  2019.0    Movie                         The Wrong Babysitter   \n7041   s7040  2020.0    Movie               There's Something in the Water   \n\n                                    Director  \\\n30                          Michael Margolis   \n34                           Michael Kennedy   \n608                              Jason Stone   \n1506                           Jason Bourque   \n3713  Jennifer Baichwal, Nicholas de Pencier   \n3956                     Jean-Fran\u00e7ois Blais   \n5336                          Michael Seater   \n5393                            Rohit Jugraj   \n6062                        Matthew Shoychet   \n7025                         George Mendeluk   \n7041                  Ellen Page, Ian Daniel   \n\n                                                   Cast Country Release_Date  \\\n30                                                  NaN  Canada   2020-02-05   \n34    Jake Short, Sarah Fisher, Booboo Stewart, Dann...  Canada   2019-04-10   \n608   Stefanie Scott, Theodore Pellerin, Percy Hynes...  Canada   2018-12-27   \n1506  Sarah Butler, Larissa Albuquerque, Kayla Walla...  Canada   2018-07-01   \n3713  Gord Downie, Paul Langlois, Gord Sinclair, Rob...  Canada   2017-11-12   \n3956                                       Martin Matte  Canada   2019-10-14   \n5336  Morgan Taylor Campbell, Clark Backo, Ricardo H...  Canada   2017-08-22   \n5393  Diljit Dosanjh, Neeru Bajwa, Mandy Takhar, Jas...  Canada   2017-12-01   \n6062                                                NaN  Canada   2019-07-01   \n7025  Daphne Zuniga, Seann Gallagher, Lisa Marie Car...  Canada   2019-06-18   \n7041                                         Ellen Page  Canada   2020-03-27   \n\n     Rating Duration                                               Type  \\\n30    TV-14   90 min                Documentaries, International Movies   \n34    TV-14  105 min                          Comedies, Romantic Movies   \n608   TV-14   91 min                           Dramas, Sci-Fi & Fantasy   \n1506  TV-14   88 min                                  Dramas, Thrillers   \n3713  TV-14   96 min  Documentaries, International Movies, Music & M...   \n3956  TV-14   62 min                                    Stand-Up Comedy   \n5336  TV-14   94 min                         Comedies, Sci-Fi & Fantasy   \n5393  TV-14  140 min   Comedies, International Movies, Music & Musicals   \n6062  TV-14   78 min                Documentaries, International Movies   \n7025  TV-14   89 min                                          Thrillers   \n7041  TV-14   72 min                Documentaries, International Movies   \n\n                                            Description  \n30    This pawesome documentary explores how our fel...  \n34    A teenage hacker with a huge nose helps a cool...  \n608   After mysterious lights imbue her with extraor...  \n1506  Two teenagers print counterfeit money in their...  \n3713  This documentary follows the 2016 tour of belo...  \n3956  Quebecois comedy star Martin Matte serves up e...  \n5336  High schooler Sadie Mitchell believes the worl...  \n5393  When a palatial wedding venue turns out to be ...  \n6062  Decades after WWII, a former SS officer stands...  \n7025  A widow searches for her missing teenage daugh...  \n7041  This documentary spotlights the struggle of mi...  ",
                        "text/html": "<div>\n<style scoped>\n    .dataframe tbody tr th:only-of-type {\n        vertical-align: middle;\n    }\n\n    .dataframe tbody tr th {\n        vertical-align: top;\n    }\n\n    .dataframe thead th {\n        text-align: right;\n    }\n</style>\n<table border=\"1\" class=\"dataframe\">\n  <thead>\n    <tr style=\"text-align: right;\">\n      <th></th>\n      <th>Show_Id</th>\n      <th>year</th>\n      <th>Category</th>\n      <th>Title</th>\n      <th>Director</th>\n      <th>Cast</th>\n      <th>Country</th>\n      <th>Release_Date</th>\n      <th>Rating</th>\n      <th>Duration</th>\n      <th>Type</th>\n      <th>Description</th>\n    </tr>\n  </thead>\n  <tbody>\n    <tr>\n      <th>30</th>\n      <td>s31</td>\n      <td>2020.0</td>\n      <td>Movie</td>\n      <td>#cats_the_mewvie</td>\n      <td>Michael Margolis</td>\n      <td>NaN</td>\n      <td>Canada</td>\n      <td>2020-02-05</td>\n      <td>TV-14</td>\n      <td>90 min</td>\n      <td>Documentaries, International Movies</td>\n      <td>This pawesome documentary explores how our fel...</td>\n    </tr>\n    <tr>\n      <th>34</th>\n      <td>s35</td>\n      <td>2019.0</td>\n      <td>Movie</td>\n      <td>#Roxy</td>\n      <td>Michael Kennedy</td>\n      <td>Jake Short, Sarah Fisher, Booboo Stewart, Dann...</td>\n      <td>Canada</td>\n      <td>2019-04-10</td>\n      <td>TV-14</td>\n      <td>105 min</td>\n      <td>Comedies, Romantic Movies</td>\n      <td>A teenage hacker with a huge nose helps a cool...</td>\n    </tr>\n    <tr>\n      <th>608</th>\n      <td>s609</td>\n      <td>2018.0</td>\n      <td>Movie</td>\n      <td>At First Light</td>\n      <td>Jason Stone</td>\n      <td>Stefanie Scott, Theodore Pellerin, Percy Hynes...</td>\n      <td>Canada</td>\n      <td>2018-12-27</td>\n      <td>TV-14</td>\n      <td>91 min</td>\n      <td>Dramas, Sci-Fi &amp; Fantasy</td>\n      <td>After mysterious lights imbue her with extraor...</td>\n    </tr>\n    <tr>\n      <th>1506</th>\n      <td>s1507</td>\n      <td>2018.0</td>\n      <td>Movie</td>\n      <td>Counterfeiting in Suburbia</td>\n      <td>Jason Bourque</td>\n      <td>Sarah Butler, Larissa Albuquerque, Kayla Walla...</td>\n      <td>Canada</td>\n      <td>2018-07-01</td>\n      <td>TV-14</td>\n      <td>88 min</td>\n      <td>Dramas, Thrillers</td>\n      <td>Two teenagers print counterfeit money in their...</td>\n    </tr>\n    <tr>\n      <th>3713</th>\n      <td>s3714</td>\n      <td>2017.0</td>\n      <td>Movie</td>\n      <td>Long Time Running</td>\n      <td>Jennifer Baichwal, Nicholas de Pencier</td>\n      <td>Gord Downie, Paul Langlois, Gord Sinclair, Rob...</td>\n      <td>Canada</td>\n      <td>2017-11-12</td>\n      <td>TV-14</td>\n      <td>96 min</td>\n      <td>Documentaries, International Movies, Music &amp; M...</td>\n      <td>This documentary follows the 2016 tour of belo...</td>\n    </tr>\n    <tr>\n      <th>3956</th>\n      <td>s3957</td>\n      <td>2019.0</td>\n      <td>Movie</td>\n      <td>Martin Matte: La vie, la mort...eh la la..!</td>\n      <td>Jean-Fran\u00e7ois Blais</td>\n      <td>Martin Matte</td>\n      <td>Canada</td>\n      <td>2019-10-14</td>\n      <td>TV-14</td>\n      <td>62 min</td>\n      <td>Stand-Up Comedy</td>\n      <td>Quebecois comedy star Martin Matte serves up e...</td>\n    </tr>\n    <tr>\n      <th>5336</th>\n      <td>s5336</td>\n      <td>2017.0</td>\n      <td>Movie</td>\n      <td>Sadie's Last Days on Earth</td>\n      <td>Michael Seater</td>\n      <td>Morgan Taylor Campbell, Clark Backo, Ricardo H...</td>\n      <td>Canada</td>\n      <td>2017-08-22</td>\n      <td>TV-14</td>\n      <td>94 min</td>\n      <td>Comedies, Sci-Fi &amp; Fantasy</td>\n      <td>High schooler Sadie Mitchell believes the worl...</td>\n    </tr>\n    <tr>\n      <th>5393</th>\n      <td>s5393</td>\n      <td>2017.0</td>\n      <td>Movie</td>\n      <td>Sardaar ji</td>\n      <td>Rohit Jugraj</td>\n      <td>Diljit Dosanjh, Neeru Bajwa, Mandy Takhar, Jas...</td>\n      <td>Canada</td>\n      <td>2017-12-01</td>\n      <td>TV-14</td>\n      <td>140 min</td>\n      <td>Comedies, International Movies, Music &amp; Musicals</td>\n      <td>When a palatial wedding venue turns out to be ...</td>\n    </tr>\n    <tr>\n      <th>6062</th>\n      <td>s6062</td>\n      <td>2019.0</td>\n      <td>Movie</td>\n      <td>The Accountant of Auschwitz</td>\n      <td>Matthew Shoychet</td>\n      <td>NaN</td>\n      <td>Canada</td>\n      <td>2019-07-01</td>\n      <td>TV-14</td>\n      <td>78 min</td>\n      <td>Documentaries, International Movies</td>\n      <td>Decades after WWII, a former SS officer stands...</td>\n    </tr>\n    <tr>\n      <th>7025</th>\n      <td>s7024</td>\n      <td>2019.0</td>\n      <td>Movie</td>\n      <td>The Wrong Babysitter</td>\n      <td>George Mendeluk</td>\n      <td>Daphne Zuniga, Seann Gallagher, Lisa Marie Car...</td>\n      <td>Canada</td>\n      <td>2019-06-18</td>\n      <td>TV-14</td>\n      <td>89 min</td>\n      <td>Thrillers</td>\n      <td>A widow searches for her missing teenage daugh...</td>\n    </tr>\n    <tr>\n      <th>7041</th>\n      <td>s7040</td>\n      <td>2020.0</td>\n      <td>Movie</td>\n      <td>There's Something in the Water</td>\n      <td>Ellen Page, Ian Daniel</td>\n      <td>Ellen Page</td>\n      <td>Canada</td>\n      <td>2020-03-27</td>\n      <td>TV-14</td>\n      <td>72 min</td>\n      <td>Documentaries, International Movies</td>\n      <td>This documentary spotlights the struggle of mi...</td>\n    </tr>\n  </tbody>\n</table>\n</div>"
                    },
                    "metadata": {}
                }
            ]
        },
        {
            "metadata": {},
            "cell_type": "markdown",
            "source": "### 9.2) How many TV Shows got the 'R' rating, after year 2018 ?"
        },
        {
            "metadata": {},
            "cell_type": "code",
            "source": "df[(df.Category=='TV Show') & (df.Rating=='R') & (df.year> 2018)]",
            "execution_count": 145,
            "outputs": [
                {
                    "output_type": "execute_result",
                    "execution_count": 145,
                    "data": {
                        "text/plain": "     Show_Id    year Category                                Title  \\\n6437   s6436  2019.0  TV Show  The Hateful Eight: Extended Version   \n\n               Director                                               Cast  \\\n6437  Quentin Tarantino  Samuel L. Jackson, Kurt Russell, Jennifer Jaso...   \n\n     Country Release_Date Rating  Duration      Type  \\\n6437     NaN   2019-04-25      R  1 Season  TV Shows   \n\n                                            Description  \n6437  Trapped at a stagecoach stop as a storm rages ...  ",
                        "text/html": "<div>\n<style scoped>\n    .dataframe tbody tr th:only-of-type {\n        vertical-align: middle;\n    }\n\n    .dataframe tbody tr th {\n        vertical-align: top;\n    }\n\n    .dataframe thead th {\n        text-align: right;\n    }\n</style>\n<table border=\"1\" class=\"dataframe\">\n  <thead>\n    <tr style=\"text-align: right;\">\n      <th></th>\n      <th>Show_Id</th>\n      <th>year</th>\n      <th>Category</th>\n      <th>Title</th>\n      <th>Director</th>\n      <th>Cast</th>\n      <th>Country</th>\n      <th>Release_Date</th>\n      <th>Rating</th>\n      <th>Duration</th>\n      <th>Type</th>\n      <th>Description</th>\n    </tr>\n  </thead>\n  <tbody>\n    <tr>\n      <th>6437</th>\n      <td>s6436</td>\n      <td>2019.0</td>\n      <td>TV Show</td>\n      <td>The Hateful Eight: Extended Version</td>\n      <td>Quentin Tarantino</td>\n      <td>Samuel L. Jackson, Kurt Russell, Jennifer Jaso...</td>\n      <td>NaN</td>\n      <td>2019-04-25</td>\n      <td>R</td>\n      <td>1 Season</td>\n      <td>TV Shows</td>\n      <td>Trapped at a stagecoach stop as a storm rages ...</td>\n    </tr>\n  </tbody>\n</table>\n</div>"
                    },
                    "metadata": {}
                }
            ]
        },
        {
            "metadata": {},
            "cell_type": "markdown",
            "source": "### 10) What is the maximum duration of a Movie/Show on Netflix ?"
        },
        {
            "metadata": {},
            "cell_type": "code",
            "source": "df.Duration.unique()",
            "execution_count": 7,
            "outputs": [
                {
                    "output_type": "execute_result",
                    "execution_count": 7,
                    "data": {
                        "text/plain": "array(['4 Seasons', '93 min', '78 min', '80 min', '123 min', '1 Season',\n       '95 min', '119 min', '118 min', '143 min', '103 min', '89 min',\n       '91 min', '149 min', '144 min', '124 min', '87 min', '110 min',\n       '128 min', '117 min', '100 min', '2 Seasons', '84 min', '99 min',\n       '90 min', '102 min', '104 min', '105 min', '56 min', '125 min',\n       '81 min', '97 min', '106 min', '107 min', '109 min', '44 min',\n       '75 min', '101 min', '3 Seasons', '37 min', '113 min', '114 min',\n       '130 min', '94 min', '140 min', '135 min', '82 min', '70 min',\n       '121 min', '92 min', '164 min', '53 min', '83 min', '116 min',\n       '86 min', '120 min', '96 min', '126 min', '129 min', '77 min',\n       '137 min', '148 min', '28 min', '122 min', '176 min', '85 min',\n       '22 min', '68 min', '111 min', '29 min', '142 min', '168 min',\n       '21 min', '59 min', '20 min', '98 min', '108 min', '76 min',\n       '26 min', '156 min', '30 min', '57 min', '150 min', '133 min',\n       '115 min', '154 min', '127 min', '146 min', '136 min', '88 min',\n       '131 min', '24 min', '112 min', '74 min', '63 min', '38 min',\n       '25 min', '174 min', '60 min', '153 min', '158 min', '151 min',\n       '162 min', '54 min', '51 min', '69 min', '64 min', '147 min',\n       '42 min', '79 min', '5 Seasons', '40 min', '45 min', '172 min',\n       '10 min', '163 min', '9 Seasons', '55 min', '72 min', '61 min',\n       '71 min', '160 min', '171 min', '48 min', '139 min', '157 min',\n       '15 min', '65 min', '134 min', '161 min', '62 min', '8 Seasons',\n       '186 min', '49 min', '73 min', '58 min', '165 min', '166 min',\n       '138 min', '159 min', '141 min', '132 min', '52 min', '67 min',\n       '34 min', '66 min', '312 min', '180 min', '47 min', '6 Seasons',\n       '155 min', '14 min', '177 min', '11 min', '9 min', '46 min',\n       '145 min', '11 Seasons', '7 Seasons', '13 Seasons', '8 min',\n       '12 min', '12 Seasons', '10 Seasons', '43 min', '50 min', '23 min',\n       '185 min', '200 min', '169 min', '27 min', '170 min', '196 min',\n       '33 min', '181 min', '204 min', '32 min', '35 min', '167 min',\n       '16 Seasons', '179 min', '193 min', '13 min', '214 min', '17 min',\n       '173 min', '192 min', '209 min', '187 min', '41 min', '182 min',\n       '224 min', '233 min', '189 min', '152 min', '19 min', '15 Seasons',\n       '208 min', '237 min', '31 min', '178 min', '230 min', '194 min',\n       '228 min', '195 min', '3 min', '16 min', '5 min', '18 min',\n       '205 min', '190 min', '36 min', '201 min', '253 min', '203 min',\n       '191 min'], dtype=object)"
                    },
                    "metadata": {}
                }
            ]
        },
        {
            "metadata": {},
            "cell_type": "code",
            "source": "df.Duration.dtypes",
            "execution_count": 8,
            "outputs": [
                {
                    "output_type": "execute_result",
                    "execution_count": 8,
                    "data": {
                        "text/plain": "dtype('O')"
                    },
                    "metadata": {}
                }
            ]
        },
        {
            "metadata": {},
            "cell_type": "code",
            "source": "df[['Minutes','Unit']]= df['Duration'].str.split(' ',expand=True)",
            "execution_count": 9,
            "outputs": []
        },
        {
            "metadata": {
                "scrolled": true
            },
            "cell_type": "code",
            "source": "df.head(5)",
            "execution_count": 10,
            "outputs": [
                {
                    "output_type": "execute_result",
                    "execution_count": 10,
                    "data": {
                        "text/plain": "  Show_Id Category  Title           Director  \\\n0      s1  TV Show     3%                NaN   \n1      s2    Movie  07:19  Jorge Michel Grau   \n2      s3    Movie  23:59       Gilbert Chan   \n3      s4    Movie      9        Shane Acker   \n4      s5    Movie     21     Robert Luketic   \n\n                                                Cast        Country  \\\n0  Jo\u00e3o Miguel, Bianca Comparato, Michel Gomes, R...         Brazil   \n1  Demi\u00e1n Bichir, H\u00e9ctor Bonilla, Oscar Serrano, ...         Mexico   \n2  Tedd Chan, Stella Chung, Henley Hii, Lawrence ...      Singapore   \n3  Elijah Wood, John C. Reilly, Jennifer Connelly...  United States   \n4  Jim Sturgess, Kevin Spacey, Kate Bosworth, Aar...  United States   \n\n        Release_Date Rating   Duration  \\\n0    August 14, 2020  TV-MA  4 Seasons   \n1  December 23, 2016  TV-MA     93 min   \n2  December 20, 2018      R     78 min   \n3  November 16, 2017  PG-13     80 min   \n4    January 1, 2020  PG-13    123 min   \n\n                                                Type  \\\n0  International TV Shows, TV Dramas, TV Sci-Fi &...   \n1                       Dramas, International Movies   \n2                Horror Movies, International Movies   \n3  Action & Adventure, Independent Movies, Sci-Fi...   \n4                                             Dramas   \n\n                                         Description Minutes     Unit  \n0  In a future where the elite inhabit an island ...       4  Seasons  \n1  After a devastating earthquake hits Mexico Cit...      93      min  \n2  When an army recruit is found dead, his fellow...      78      min  \n3  In a postapocalyptic world, rag-doll robots hi...      80      min  \n4  A brilliant group of students become card-coun...     123      min  ",
                        "text/html": "<div>\n<style scoped>\n    .dataframe tbody tr th:only-of-type {\n        vertical-align: middle;\n    }\n\n    .dataframe tbody tr th {\n        vertical-align: top;\n    }\n\n    .dataframe thead th {\n        text-align: right;\n    }\n</style>\n<table border=\"1\" class=\"dataframe\">\n  <thead>\n    <tr style=\"text-align: right;\">\n      <th></th>\n      <th>Show_Id</th>\n      <th>Category</th>\n      <th>Title</th>\n      <th>Director</th>\n      <th>Cast</th>\n      <th>Country</th>\n      <th>Release_Date</th>\n      <th>Rating</th>\n      <th>Duration</th>\n      <th>Type</th>\n      <th>Description</th>\n      <th>Minutes</th>\n      <th>Unit</th>\n    </tr>\n  </thead>\n  <tbody>\n    <tr>\n      <th>0</th>\n      <td>s1</td>\n      <td>TV Show</td>\n      <td>3%</td>\n      <td>NaN</td>\n      <td>Jo\u00e3o Miguel, Bianca Comparato, Michel Gomes, R...</td>\n      <td>Brazil</td>\n      <td>August 14, 2020</td>\n      <td>TV-MA</td>\n      <td>4 Seasons</td>\n      <td>International TV Shows, TV Dramas, TV Sci-Fi &amp;...</td>\n      <td>In a future where the elite inhabit an island ...</td>\n      <td>4</td>\n      <td>Seasons</td>\n    </tr>\n    <tr>\n      <th>1</th>\n      <td>s2</td>\n      <td>Movie</td>\n      <td>07:19</td>\n      <td>Jorge Michel Grau</td>\n      <td>Demi\u00e1n Bichir, H\u00e9ctor Bonilla, Oscar Serrano, ...</td>\n      <td>Mexico</td>\n      <td>December 23, 2016</td>\n      <td>TV-MA</td>\n      <td>93 min</td>\n      <td>Dramas, International Movies</td>\n      <td>After a devastating earthquake hits Mexico Cit...</td>\n      <td>93</td>\n      <td>min</td>\n    </tr>\n    <tr>\n      <th>2</th>\n      <td>s3</td>\n      <td>Movie</td>\n      <td>23:59</td>\n      <td>Gilbert Chan</td>\n      <td>Tedd Chan, Stella Chung, Henley Hii, Lawrence ...</td>\n      <td>Singapore</td>\n      <td>December 20, 2018</td>\n      <td>R</td>\n      <td>78 min</td>\n      <td>Horror Movies, International Movies</td>\n      <td>When an army recruit is found dead, his fellow...</td>\n      <td>78</td>\n      <td>min</td>\n    </tr>\n    <tr>\n      <th>3</th>\n      <td>s4</td>\n      <td>Movie</td>\n      <td>9</td>\n      <td>Shane Acker</td>\n      <td>Elijah Wood, John C. Reilly, Jennifer Connelly...</td>\n      <td>United States</td>\n      <td>November 16, 2017</td>\n      <td>PG-13</td>\n      <td>80 min</td>\n      <td>Action &amp; Adventure, Independent Movies, Sci-Fi...</td>\n      <td>In a postapocalyptic world, rag-doll robots hi...</td>\n      <td>80</td>\n      <td>min</td>\n    </tr>\n    <tr>\n      <th>4</th>\n      <td>s5</td>\n      <td>Movie</td>\n      <td>21</td>\n      <td>Robert Luketic</td>\n      <td>Jim Sturgess, Kevin Spacey, Kate Bosworth, Aar...</td>\n      <td>United States</td>\n      <td>January 1, 2020</td>\n      <td>PG-13</td>\n      <td>123 min</td>\n      <td>Dramas</td>\n      <td>A brilliant group of students become card-coun...</td>\n      <td>123</td>\n      <td>min</td>\n    </tr>\n  </tbody>\n</table>\n</div>"
                    },
                    "metadata": {}
                }
            ]
        },
        {
            "metadata": {},
            "cell_type": "code",
            "source": "df.Minutes.astype(int).max()",
            "execution_count": 18,
            "outputs": [
                {
                    "output_type": "execute_result",
                    "execution_count": 18,
                    "data": {
                        "text/plain": "312"
                    },
                    "metadata": {}
                }
            ]
        },
        {
            "metadata": {},
            "cell_type": "code",
            "source": "df[df.Minutes=='312']",
            "execution_count": 16,
            "outputs": [
                {
                    "output_type": "execute_result",
                    "execution_count": 16,
                    "data": {
                        "text/plain": "    Show_Id Category                       Title Director  \\\n957    s958    Movie  Black Mirror: Bandersnatch      NaN   \n\n                                                  Cast        Country  \\\n957  Fionn Whitehead, Will Poulter, Craig Parkinson...  United States   \n\n          Release_Date Rating Duration  \\\n957  December 28, 2018  TV-MA  312 min   \n\n                                               Type  \\\n957  Dramas, International Movies, Sci-Fi & Fantasy   \n\n                                           Description Minutes Unit  \n957  In 1984, a young programmer begins to question...     312  min  ",
                        "text/html": "<div>\n<style scoped>\n    .dataframe tbody tr th:only-of-type {\n        vertical-align: middle;\n    }\n\n    .dataframe tbody tr th {\n        vertical-align: top;\n    }\n\n    .dataframe thead th {\n        text-align: right;\n    }\n</style>\n<table border=\"1\" class=\"dataframe\">\n  <thead>\n    <tr style=\"text-align: right;\">\n      <th></th>\n      <th>Show_Id</th>\n      <th>Category</th>\n      <th>Title</th>\n      <th>Director</th>\n      <th>Cast</th>\n      <th>Country</th>\n      <th>Release_Date</th>\n      <th>Rating</th>\n      <th>Duration</th>\n      <th>Type</th>\n      <th>Description</th>\n      <th>Minutes</th>\n      <th>Unit</th>\n    </tr>\n  </thead>\n  <tbody>\n    <tr>\n      <th>957</th>\n      <td>s958</td>\n      <td>Movie</td>\n      <td>Black Mirror: Bandersnatch</td>\n      <td>NaN</td>\n      <td>Fionn Whitehead, Will Poulter, Craig Parkinson...</td>\n      <td>United States</td>\n      <td>December 28, 2018</td>\n      <td>TV-MA</td>\n      <td>312 min</td>\n      <td>Dramas, International Movies, Sci-Fi &amp; Fantasy</td>\n      <td>In 1984, a young programmer begins to question...</td>\n      <td>312</td>\n      <td>min</td>\n    </tr>\n  </tbody>\n</table>\n</div>"
                    },
                    "metadata": {}
                }
            ]
        },
        {
            "metadata": {},
            "cell_type": "markdown",
            "source": "### 11) Which individual country has the Highest No. of TV Shows ?"
        },
        {
            "metadata": {},
            "cell_type": "code",
            "source": "df_tvshows= df[df['Category']=='TV Show' ]",
            "execution_count": 23,
            "outputs": []
        },
        {
            "metadata": {},
            "cell_type": "code",
            "source": "df_tvshows",
            "execution_count": 24,
            "outputs": [
                {
                    "output_type": "execute_result",
                    "execution_count": 24,
                    "data": {
                        "text/plain": "     Show_Id Category                  Title              Director  \\\n0         s1  TV Show                     3%                   NaN   \n5         s6  TV Show                     46           Serdar Akar   \n11       s12  TV Show                   1983                   NaN   \n12       s13  TV Show                   1994  Diego Enrique Osorno   \n16       s17  TV Show                 Feb-09                   NaN   \n...      ...      ...                    ...                   ...   \n7769   s7768  TV Show     Zindagi Gulzar Hai                   NaN   \n7777   s7776  TV Show             Zoids Wild                   NaN   \n7779   s7778  TV Show            Zombie Dumb                   NaN   \n7781   s7780  TV Show              Zona Rosa                   NaN   \n7787   s7786  TV Show  Zumbo's Just Desserts                   NaN   \n\n                                                   Cast  \\\n0     Jo\u00e3o Miguel, Bianca Comparato, Michel Gomes, R...   \n5     Erdal Be\u015fik\u00e7io\u011flu, Yasemin Allen, Melis Birkan...   \n11    Robert Wi\u0119ckiewicz, Maciej Musia\u0142, Michalina O...   \n12                                                  NaN   \n16    Shahd El Yaseen, Shaila Sabt, Hala, Hanadi Al-...   \n...                                                 ...   \n7769  Sanam Saeed, Fawad Khan, Ayesha Omer, Mehreen ...   \n7777  Kensho Ono, Takahiro Sakurai, Mikako Komatsu, ...   \n7779                                                NaN   \n7781  Manu NNa, Ana Julia Yey\u00e9, Ray Contreras, Pablo...   \n7787                         Adriano Zumbo, Rachel Khoo   \n\n                    Country       Release_Date Rating   Duration  \\\n0                    Brazil    August 14, 2020  TV-MA  4 Seasons   \n5                    Turkey       July 1, 2017  TV-MA   1 Season   \n11    Poland, United States  November 30, 2018  TV-MA   1 Season   \n12                   Mexico       May 17, 2019  TV-MA   1 Season   \n16                      NaN     March 20, 2019  TV-14   1 Season   \n...                     ...                ...    ...        ...   \n7769               Pakistan  December 15, 2016  TV-PG   1 Season   \n7777                  Japan    August 14, 2020  TV-Y7   1 Season   \n7779                    NaN       July 1, 2019  TV-Y7  2 Seasons   \n7781                 Mexico  November 26, 2019  TV-MA   1 Season   \n7787              Australia   October 31, 2020  TV-PG   1 Season   \n\n                                                   Type  \\\n0     International TV Shows, TV Dramas, TV Sci-Fi &...   \n5       International TV Shows, TV Dramas, TV Mysteries   \n11    Crime TV Shows, International TV Shows, TV Dramas   \n12    Crime TV Shows, Docuseries, International TV S...   \n16                    International TV Shows, TV Dramas   \n...                                                 ...   \n7769  International TV Shows, Romantic TV Shows, TV ...   \n7777                             Anime Series, Kids' TV   \n7779             Kids' TV, Korean TV Shows, TV Comedies   \n7781  International TV Shows, Spanish-Language TV Sh...   \n7787                 International TV Shows, Reality TV   \n\n                                            Description Minutes     Unit  \n0     In a future where the elite inhabit an island ...       4  Seasons  \n5     A genetics professor experiments with a treatm...       1   Season  \n11    In this dark alt-history thriller, a na\u00efve law...       1   Season  \n12    Archival video and new interviews examine Mexi...       1   Season  \n16    As a psychology professor faces Alzheimer's, h...       1   Season  \n...                                                 ...     ...      ...  \n7769  Strong-willed, middle-class Kashaf and carefre...       1   Season  \n7777  A quest for freedom and legendary treasure beg...       1   Season  \n7779  While living alone in a spooky town, a young g...       2  Seasons  \n7781  An assortment of talent takes the stage for a ...       1   Season  \n7787  Dessert wizard Adriano Zumbo looks for the nex...       1   Season  \n\n[2410 rows x 13 columns]",
                        "text/html": "<div>\n<style scoped>\n    .dataframe tbody tr th:only-of-type {\n        vertical-align: middle;\n    }\n\n    .dataframe tbody tr th {\n        vertical-align: top;\n    }\n\n    .dataframe thead th {\n        text-align: right;\n    }\n</style>\n<table border=\"1\" class=\"dataframe\">\n  <thead>\n    <tr style=\"text-align: right;\">\n      <th></th>\n      <th>Show_Id</th>\n      <th>Category</th>\n      <th>Title</th>\n      <th>Director</th>\n      <th>Cast</th>\n      <th>Country</th>\n      <th>Release_Date</th>\n      <th>Rating</th>\n      <th>Duration</th>\n      <th>Type</th>\n      <th>Description</th>\n      <th>Minutes</th>\n      <th>Unit</th>\n    </tr>\n  </thead>\n  <tbody>\n    <tr>\n      <th>0</th>\n      <td>s1</td>\n      <td>TV Show</td>\n      <td>3%</td>\n      <td>NaN</td>\n      <td>Jo\u00e3o Miguel, Bianca Comparato, Michel Gomes, R...</td>\n      <td>Brazil</td>\n      <td>August 14, 2020</td>\n      <td>TV-MA</td>\n      <td>4 Seasons</td>\n      <td>International TV Shows, TV Dramas, TV Sci-Fi &amp;...</td>\n      <td>In a future where the elite inhabit an island ...</td>\n      <td>4</td>\n      <td>Seasons</td>\n    </tr>\n    <tr>\n      <th>5</th>\n      <td>s6</td>\n      <td>TV Show</td>\n      <td>46</td>\n      <td>Serdar Akar</td>\n      <td>Erdal Be\u015fik\u00e7io\u011flu, Yasemin Allen, Melis Birkan...</td>\n      <td>Turkey</td>\n      <td>July 1, 2017</td>\n      <td>TV-MA</td>\n      <td>1 Season</td>\n      <td>International TV Shows, TV Dramas, TV Mysteries</td>\n      <td>A genetics professor experiments with a treatm...</td>\n      <td>1</td>\n      <td>Season</td>\n    </tr>\n    <tr>\n      <th>11</th>\n      <td>s12</td>\n      <td>TV Show</td>\n      <td>1983</td>\n      <td>NaN</td>\n      <td>Robert Wi\u0119ckiewicz, Maciej Musia\u0142, Michalina O...</td>\n      <td>Poland, United States</td>\n      <td>November 30, 2018</td>\n      <td>TV-MA</td>\n      <td>1 Season</td>\n      <td>Crime TV Shows, International TV Shows, TV Dramas</td>\n      <td>In this dark alt-history thriller, a na\u00efve law...</td>\n      <td>1</td>\n      <td>Season</td>\n    </tr>\n    <tr>\n      <th>12</th>\n      <td>s13</td>\n      <td>TV Show</td>\n      <td>1994</td>\n      <td>Diego Enrique Osorno</td>\n      <td>NaN</td>\n      <td>Mexico</td>\n      <td>May 17, 2019</td>\n      <td>TV-MA</td>\n      <td>1 Season</td>\n      <td>Crime TV Shows, Docuseries, International TV S...</td>\n      <td>Archival video and new interviews examine Mexi...</td>\n      <td>1</td>\n      <td>Season</td>\n    </tr>\n    <tr>\n      <th>16</th>\n      <td>s17</td>\n      <td>TV Show</td>\n      <td>Feb-09</td>\n      <td>NaN</td>\n      <td>Shahd El Yaseen, Shaila Sabt, Hala, Hanadi Al-...</td>\n      <td>NaN</td>\n      <td>March 20, 2019</td>\n      <td>TV-14</td>\n      <td>1 Season</td>\n      <td>International TV Shows, TV Dramas</td>\n      <td>As a psychology professor faces Alzheimer's, h...</td>\n      <td>1</td>\n      <td>Season</td>\n    </tr>\n    <tr>\n      <th>...</th>\n      <td>...</td>\n      <td>...</td>\n      <td>...</td>\n      <td>...</td>\n      <td>...</td>\n      <td>...</td>\n      <td>...</td>\n      <td>...</td>\n      <td>...</td>\n      <td>...</td>\n      <td>...</td>\n      <td>...</td>\n      <td>...</td>\n    </tr>\n    <tr>\n      <th>7769</th>\n      <td>s7768</td>\n      <td>TV Show</td>\n      <td>Zindagi Gulzar Hai</td>\n      <td>NaN</td>\n      <td>Sanam Saeed, Fawad Khan, Ayesha Omer, Mehreen ...</td>\n      <td>Pakistan</td>\n      <td>December 15, 2016</td>\n      <td>TV-PG</td>\n      <td>1 Season</td>\n      <td>International TV Shows, Romantic TV Shows, TV ...</td>\n      <td>Strong-willed, middle-class Kashaf and carefre...</td>\n      <td>1</td>\n      <td>Season</td>\n    </tr>\n    <tr>\n      <th>7777</th>\n      <td>s7776</td>\n      <td>TV Show</td>\n      <td>Zoids Wild</td>\n      <td>NaN</td>\n      <td>Kensho Ono, Takahiro Sakurai, Mikako Komatsu, ...</td>\n      <td>Japan</td>\n      <td>August 14, 2020</td>\n      <td>TV-Y7</td>\n      <td>1 Season</td>\n      <td>Anime Series, Kids' TV</td>\n      <td>A quest for freedom and legendary treasure beg...</td>\n      <td>1</td>\n      <td>Season</td>\n    </tr>\n    <tr>\n      <th>7779</th>\n      <td>s7778</td>\n      <td>TV Show</td>\n      <td>Zombie Dumb</td>\n      <td>NaN</td>\n      <td>NaN</td>\n      <td>NaN</td>\n      <td>July 1, 2019</td>\n      <td>TV-Y7</td>\n      <td>2 Seasons</td>\n      <td>Kids' TV, Korean TV Shows, TV Comedies</td>\n      <td>While living alone in a spooky town, a young g...</td>\n      <td>2</td>\n      <td>Seasons</td>\n    </tr>\n    <tr>\n      <th>7781</th>\n      <td>s7780</td>\n      <td>TV Show</td>\n      <td>Zona Rosa</td>\n      <td>NaN</td>\n      <td>Manu NNa, Ana Julia Yey\u00e9, Ray Contreras, Pablo...</td>\n      <td>Mexico</td>\n      <td>November 26, 2019</td>\n      <td>TV-MA</td>\n      <td>1 Season</td>\n      <td>International TV Shows, Spanish-Language TV Sh...</td>\n      <td>An assortment of talent takes the stage for a ...</td>\n      <td>1</td>\n      <td>Season</td>\n    </tr>\n    <tr>\n      <th>7787</th>\n      <td>s7786</td>\n      <td>TV Show</td>\n      <td>Zumbo's Just Desserts</td>\n      <td>NaN</td>\n      <td>Adriano Zumbo, Rachel Khoo</td>\n      <td>Australia</td>\n      <td>October 31, 2020</td>\n      <td>TV-PG</td>\n      <td>1 Season</td>\n      <td>International TV Shows, Reality TV</td>\n      <td>Dessert wizard Adriano Zumbo looks for the nex...</td>\n      <td>1</td>\n      <td>Season</td>\n    </tr>\n  </tbody>\n</table>\n<p>2410 rows \u00d7 13 columns</p>\n</div>"
                    },
                    "metadata": {}
                }
            ]
        },
        {
            "metadata": {},
            "cell_type": "code",
            "source": "df_tvshows.Country.value_counts().head(1)",
            "execution_count": 27,
            "outputs": [
                {
                    "output_type": "execute_result",
                    "execution_count": 27,
                    "data": {
                        "text/plain": "United States    705\nName: Country, dtype: int64"
                    },
                    "metadata": {}
                }
            ]
        },
        {
            "metadata": {},
            "cell_type": "markdown",
            "source": "### 12) How can we sort the dataset by Year ?"
        },
        {
            "metadata": {},
            "cell_type": "code",
            "source": "df.sort_values('year')",
            "execution_count": 160,
            "outputs": [
                {
                    "output_type": "execute_result",
                    "execution_count": 160,
                    "data": {
                        "text/plain": "     Show_Id    year Category                         Title  \\\n7115   s7114  2008.0    Movie          To and From New York   \n1765   s1766  2008.0  TV Show               Dinner for Five   \n3248   s3249  2009.0    Movie       Just Another Love Story   \n5766   s5766  2009.0    Movie                      Splatter   \n3840   s3841  2010.0    Movie   Mad Ron's Prevues from Hell   \n...      ...     ...      ...                           ...   \n3374   s3375     NaN  TV Show                      Kikoriki   \n3492   s3493     NaN  TV Show           La Familia P. Luche   \n3946   s3947     NaN  TV Show                         Maron   \n5138   s5138     NaN  TV Show                  Red vs. Blue   \n6066   s6066     NaN  TV Show  The Adventures of Figaro Pho   \n\n                  Director                                               Cast  \\\n7115  Sorin Dan Mihalcescu  Barbara King, Shaana Diya, John Krisiukenas, Y...   \n1765                   NaN                                                NaN   \n3248          Ole Bornedal  Anders W. Berthelsen, Rebecka Hemse, Nikolaj L...   \n5766             Joe Dante  Corey Feldman, Tony Todd, Tara Leigh, Erin Way...   \n3840            Jim Monaco  Nick Pawlow, Jordu Schell, Jay Kushwara, Micha...   \n...                    ...                                                ...   \n3374                   NaN                                      Igor Dmitriev   \n3492                   NaN  Eugenio Derbez, Consuelo Duval, Luis Manuel \u00c1v...   \n3946                   NaN  Marc Maron, Judd Hirsch, Josh Brener, Nora Zeh...   \n5138                   NaN  Burnie Burns, Jason Salda\u00f1a, Gustavo Sorola, G...   \n6066                   NaN  Luke Jurevicius, Craig Behenna, Charlotte Haml...   \n\n            Country Release_Date Rating    Duration  \\\n7115  United States   2008-01-01  TV-MA      81 min   \n1765  United States   2008-02-04  TV-MA    1 Season   \n3248        Denmark   2009-05-05  TV-MA     104 min   \n5766  United States   2009-11-18  TV-MA      29 min   \n3840  United States   2010-11-01     NR      84 min   \n...             ...          ...    ...         ...   \n3374            NaN          NaT   TV-Y   2 Seasons   \n3492  United States          NaT  TV-14   3 Seasons   \n3946  United States          NaT  TV-MA   4 Seasons   \n5138  United States          NaT     NR  13 Seasons   \n6066      Australia          NaT  TV-Y7   2 Seasons   \n\n                                                   Type  \\\n7115              Dramas, Independent Movies, Thrillers   \n1765                       Stand-Up Comedy & Talk Shows   \n3248                       Dramas, International Movies   \n5766                                      Horror Movies   \n3840                         Cult Movies, Horror Movies   \n...                                                 ...   \n3374                                           Kids' TV   \n3492  International TV Shows, Spanish-Language TV Sh...   \n3946                                        TV Comedies   \n5138  TV Action & Adventure, TV Comedies, TV Sci-Fi ...   \n6066                              Kids' TV, TV Comedies   \n\n                                            Description  \n7115  While covering a story in New York City, a Sea...  \n1765  In each episode, four celebrities join host Jo...  \n3248  When he causes a car accident that leaves a yo...  \n5766  After committing suicide, a washed-up rocker r...  \n3840  This collection cherry-picks trailers, forgott...  \n...                                                 ...  \n3374  A wacky rabbit and his gang of animal pals hav...  \n3492  This irreverent sitcom featues Ludovico, Feder...  \n3946  Marc Maron stars as Marc Maron, who interviews...  \n5138  This parody of first-person shooter games, mil...  \n6066  Imagine your worst fears, then multiply them: ...  \n\n[7787 rows x 12 columns]",
                        "text/html": "<div>\n<style scoped>\n    .dataframe tbody tr th:only-of-type {\n        vertical-align: middle;\n    }\n\n    .dataframe tbody tr th {\n        vertical-align: top;\n    }\n\n    .dataframe thead th {\n        text-align: right;\n    }\n</style>\n<table border=\"1\" class=\"dataframe\">\n  <thead>\n    <tr style=\"text-align: right;\">\n      <th></th>\n      <th>Show_Id</th>\n      <th>year</th>\n      <th>Category</th>\n      <th>Title</th>\n      <th>Director</th>\n      <th>Cast</th>\n      <th>Country</th>\n      <th>Release_Date</th>\n      <th>Rating</th>\n      <th>Duration</th>\n      <th>Type</th>\n      <th>Description</th>\n    </tr>\n  </thead>\n  <tbody>\n    <tr>\n      <th>7115</th>\n      <td>s7114</td>\n      <td>2008.0</td>\n      <td>Movie</td>\n      <td>To and From New York</td>\n      <td>Sorin Dan Mihalcescu</td>\n      <td>Barbara King, Shaana Diya, John Krisiukenas, Y...</td>\n      <td>United States</td>\n      <td>2008-01-01</td>\n      <td>TV-MA</td>\n      <td>81 min</td>\n      <td>Dramas, Independent Movies, Thrillers</td>\n      <td>While covering a story in New York City, a Sea...</td>\n    </tr>\n    <tr>\n      <th>1765</th>\n      <td>s1766</td>\n      <td>2008.0</td>\n      <td>TV Show</td>\n      <td>Dinner for Five</td>\n      <td>NaN</td>\n      <td>NaN</td>\n      <td>United States</td>\n      <td>2008-02-04</td>\n      <td>TV-MA</td>\n      <td>1 Season</td>\n      <td>Stand-Up Comedy &amp; Talk Shows</td>\n      <td>In each episode, four celebrities join host Jo...</td>\n    </tr>\n    <tr>\n      <th>3248</th>\n      <td>s3249</td>\n      <td>2009.0</td>\n      <td>Movie</td>\n      <td>Just Another Love Story</td>\n      <td>Ole Bornedal</td>\n      <td>Anders W. Berthelsen, Rebecka Hemse, Nikolaj L...</td>\n      <td>Denmark</td>\n      <td>2009-05-05</td>\n      <td>TV-MA</td>\n      <td>104 min</td>\n      <td>Dramas, International Movies</td>\n      <td>When he causes a car accident that leaves a yo...</td>\n    </tr>\n    <tr>\n      <th>5766</th>\n      <td>s5766</td>\n      <td>2009.0</td>\n      <td>Movie</td>\n      <td>Splatter</td>\n      <td>Joe Dante</td>\n      <td>Corey Feldman, Tony Todd, Tara Leigh, Erin Way...</td>\n      <td>United States</td>\n      <td>2009-11-18</td>\n      <td>TV-MA</td>\n      <td>29 min</td>\n      <td>Horror Movies</td>\n      <td>After committing suicide, a washed-up rocker r...</td>\n    </tr>\n    <tr>\n      <th>3840</th>\n      <td>s3841</td>\n      <td>2010.0</td>\n      <td>Movie</td>\n      <td>Mad Ron's Prevues from Hell</td>\n      <td>Jim Monaco</td>\n      <td>Nick Pawlow, Jordu Schell, Jay Kushwara, Micha...</td>\n      <td>United States</td>\n      <td>2010-11-01</td>\n      <td>NR</td>\n      <td>84 min</td>\n      <td>Cult Movies, Horror Movies</td>\n      <td>This collection cherry-picks trailers, forgott...</td>\n    </tr>\n    <tr>\n      <th>...</th>\n      <td>...</td>\n      <td>...</td>\n      <td>...</td>\n      <td>...</td>\n      <td>...</td>\n      <td>...</td>\n      <td>...</td>\n      <td>...</td>\n      <td>...</td>\n      <td>...</td>\n      <td>...</td>\n      <td>...</td>\n    </tr>\n    <tr>\n      <th>3374</th>\n      <td>s3375</td>\n      <td>NaN</td>\n      <td>TV Show</td>\n      <td>Kikoriki</td>\n      <td>NaN</td>\n      <td>Igor Dmitriev</td>\n      <td>NaN</td>\n      <td>NaT</td>\n      <td>TV-Y</td>\n      <td>2 Seasons</td>\n      <td>Kids' TV</td>\n      <td>A wacky rabbit and his gang of animal pals hav...</td>\n    </tr>\n    <tr>\n      <th>3492</th>\n      <td>s3493</td>\n      <td>NaN</td>\n      <td>TV Show</td>\n      <td>La Familia P. Luche</td>\n      <td>NaN</td>\n      <td>Eugenio Derbez, Consuelo Duval, Luis Manuel \u00c1v...</td>\n      <td>United States</td>\n      <td>NaT</td>\n      <td>TV-14</td>\n      <td>3 Seasons</td>\n      <td>International TV Shows, Spanish-Language TV Sh...</td>\n      <td>This irreverent sitcom featues Ludovico, Feder...</td>\n    </tr>\n    <tr>\n      <th>3946</th>\n      <td>s3947</td>\n      <td>NaN</td>\n      <td>TV Show</td>\n      <td>Maron</td>\n      <td>NaN</td>\n      <td>Marc Maron, Judd Hirsch, Josh Brener, Nora Zeh...</td>\n      <td>United States</td>\n      <td>NaT</td>\n      <td>TV-MA</td>\n      <td>4 Seasons</td>\n      <td>TV Comedies</td>\n      <td>Marc Maron stars as Marc Maron, who interviews...</td>\n    </tr>\n    <tr>\n      <th>5138</th>\n      <td>s5138</td>\n      <td>NaN</td>\n      <td>TV Show</td>\n      <td>Red vs. Blue</td>\n      <td>NaN</td>\n      <td>Burnie Burns, Jason Salda\u00f1a, Gustavo Sorola, G...</td>\n      <td>United States</td>\n      <td>NaT</td>\n      <td>NR</td>\n      <td>13 Seasons</td>\n      <td>TV Action &amp; Adventure, TV Comedies, TV Sci-Fi ...</td>\n      <td>This parody of first-person shooter games, mil...</td>\n    </tr>\n    <tr>\n      <th>6066</th>\n      <td>s6066</td>\n      <td>NaN</td>\n      <td>TV Show</td>\n      <td>The Adventures of Figaro Pho</td>\n      <td>NaN</td>\n      <td>Luke Jurevicius, Craig Behenna, Charlotte Haml...</td>\n      <td>Australia</td>\n      <td>NaT</td>\n      <td>TV-Y7</td>\n      <td>2 Seasons</td>\n      <td>Kids' TV, TV Comedies</td>\n      <td>Imagine your worst fears, then multiply them: ...</td>\n    </tr>\n  </tbody>\n</table>\n<p>7787 rows \u00d7 12 columns</p>\n</div>"
                    },
                    "metadata": {}
                }
            ]
        },
        {
            "metadata": {},
            "cell_type": "markdown",
            "source": "### 13) Find all the instances where: Category is 'Movie' and Type is 'Dramas' or Category is 'TV Show' & Type is 'Kids' TV'."
        },
        {
            "metadata": {},
            "cell_type": "code",
            "source": "df[((df.Category=='Movie') & (df.Type=='Dramas')) | ((df.Category=='TV Show') & (df.Type==\"Kids' TV\"))] # see how here we use \" \" for the Word Kids' TV",
            "execution_count": 28,
            "outputs": [
                {
                    "output_type": "execute_result",
                    "execution_count": 28,
                    "data": {
                        "text/plain": "     Show_Id Category                       Title        Director  \\\n4         s5    Movie                          21  Robert Luketic   \n7         s8    Movie                         187  Kevin Reynolds   \n111     s112  TV Show                     44 Cats             NaN   \n170     s171    Movie                A Family Man   Mark Williams   \n232     s233    Movie  A Stoning in Fulham County   Larry Elikann   \n...      ...      ...                         ...             ...   \n7668   s7667  TV Show               World of Winx  Iginio Straffi   \n7717   s7716  TV Show                        Yoko             NaN   \n7719   s7718  TV Show                         YOM             NaN   \n7758   s7757  TV Show                          Z4             NaN   \n7761   s7760  TV Show                   Zak Storm             NaN   \n\n                                                   Cast  \\\n4     Jim Sturgess, Kevin Spacey, Kate Bosworth, Aar...   \n7     Samuel L. Jackson, John Heard, Kelly Rowan, Cl...   \n111   Sarah Natochenny, Suzy Myers, Simona Berman, E...   \n170   Gerard Butler, Gretchen Mol, Alison Brie, Will...   \n232   Ken Olin, Jill Eikenberry, Maureen Mueller, Gr...   \n...                                                 ...   \n7668  Haven Paschall, Alysha Deslorieux, Jessica Paq...   \n7717  Eileen Stevens, Alyson Leigh Rosenfeld, Sarah ...   \n7719  Sairaj, Devyani Dagaonkar, Ketan Singh, Mayur ...   \n7758  Apollo Costa, Gabriel Santana, Matheus Lustosa...   \n7761  Michael Johnston, Jessica Gee-George, Christin...   \n\n                                            Country        Release_Date  \\\n4                                     United States     January 1, 2020   \n7                                     United States    November 1, 2019   \n111                                           Italy     October 1, 2020   \n170                           Canada, United States   December 15, 2019   \n232                                   United States     October 1, 2011   \n...                                             ...                 ...   \n7668                           Italy, United States       June 16, 2017   \n7717                                            NaN       June 23, 2018   \n7719                                            NaN        June 7, 2018   \n7758                                         Brazil   February 22, 2019   \n7761  United States, France, South Korea, Indonesia  September 13, 2018   \n\n     Rating   Duration      Type  \\\n4     PG-13    123 min    Dramas   \n7         R    119 min    Dramas   \n111   TV-Y7  2 Seasons  Kids' TV   \n170       R    110 min    Dramas   \n232   TV-14     95 min    Dramas   \n...     ...        ...       ...   \n7668  TV-Y7  2 Seasons  Kids' TV   \n7717   TV-Y   1 Season  Kids' TV   \n7719  TV-Y7   1 Season  Kids' TV   \n7758  TV-PG  2 Seasons  Kids' TV   \n7761  TV-Y7  3 Seasons  Kids' TV   \n\n                                            Description Minutes     Unit  \n4     A brilliant group of students become card-coun...     123      min  \n7     After one of his high school students attacks ...     119      min  \n111   Paw-esome tales abound when singing furry frie...       2  Seasons  \n170   A ruthless corporate headhunter battles his ri...     110      min  \n232   After reckless teens kill an Amish child, a pr...      95      min  \n...                                                 ...     ...      ...  \n7668  The reality show \"WOW!\" engages the Winx in th...       2  Seasons  \n7717  Friends Mai, Oto and Vik's games at the park b...       1   Season  \n7719  With the mind of a human being, and the body o...       1   Season  \n7758  Fading music biz veteran Z\u00e9 realizes he has ju...       2  Seasons  \n7761  Teen surfer Zak Storm is mysteriously transpor...       3  Seasons  \n\n[322 rows x 13 columns]",
                        "text/html": "<div>\n<style scoped>\n    .dataframe tbody tr th:only-of-type {\n        vertical-align: middle;\n    }\n\n    .dataframe tbody tr th {\n        vertical-align: top;\n    }\n\n    .dataframe thead th {\n        text-align: right;\n    }\n</style>\n<table border=\"1\" class=\"dataframe\">\n  <thead>\n    <tr style=\"text-align: right;\">\n      <th></th>\n      <th>Show_Id</th>\n      <th>Category</th>\n      <th>Title</th>\n      <th>Director</th>\n      <th>Cast</th>\n      <th>Country</th>\n      <th>Release_Date</th>\n      <th>Rating</th>\n      <th>Duration</th>\n      <th>Type</th>\n      <th>Description</th>\n      <th>Minutes</th>\n      <th>Unit</th>\n    </tr>\n  </thead>\n  <tbody>\n    <tr>\n      <th>4</th>\n      <td>s5</td>\n      <td>Movie</td>\n      <td>21</td>\n      <td>Robert Luketic</td>\n      <td>Jim Sturgess, Kevin Spacey, Kate Bosworth, Aar...</td>\n      <td>United States</td>\n      <td>January 1, 2020</td>\n      <td>PG-13</td>\n      <td>123 min</td>\n      <td>Dramas</td>\n      <td>A brilliant group of students become card-coun...</td>\n      <td>123</td>\n      <td>min</td>\n    </tr>\n    <tr>\n      <th>7</th>\n      <td>s8</td>\n      <td>Movie</td>\n      <td>187</td>\n      <td>Kevin Reynolds</td>\n      <td>Samuel L. Jackson, John Heard, Kelly Rowan, Cl...</td>\n      <td>United States</td>\n      <td>November 1, 2019</td>\n      <td>R</td>\n      <td>119 min</td>\n      <td>Dramas</td>\n      <td>After one of his high school students attacks ...</td>\n      <td>119</td>\n      <td>min</td>\n    </tr>\n    <tr>\n      <th>111</th>\n      <td>s112</td>\n      <td>TV Show</td>\n      <td>44 Cats</td>\n      <td>NaN</td>\n      <td>Sarah Natochenny, Suzy Myers, Simona Berman, E...</td>\n      <td>Italy</td>\n      <td>October 1, 2020</td>\n      <td>TV-Y7</td>\n      <td>2 Seasons</td>\n      <td>Kids' TV</td>\n      <td>Paw-esome tales abound when singing furry frie...</td>\n      <td>2</td>\n      <td>Seasons</td>\n    </tr>\n    <tr>\n      <th>170</th>\n      <td>s171</td>\n      <td>Movie</td>\n      <td>A Family Man</td>\n      <td>Mark Williams</td>\n      <td>Gerard Butler, Gretchen Mol, Alison Brie, Will...</td>\n      <td>Canada, United States</td>\n      <td>December 15, 2019</td>\n      <td>R</td>\n      <td>110 min</td>\n      <td>Dramas</td>\n      <td>A ruthless corporate headhunter battles his ri...</td>\n      <td>110</td>\n      <td>min</td>\n    </tr>\n    <tr>\n      <th>232</th>\n      <td>s233</td>\n      <td>Movie</td>\n      <td>A Stoning in Fulham County</td>\n      <td>Larry Elikann</td>\n      <td>Ken Olin, Jill Eikenberry, Maureen Mueller, Gr...</td>\n      <td>United States</td>\n      <td>October 1, 2011</td>\n      <td>TV-14</td>\n      <td>95 min</td>\n      <td>Dramas</td>\n      <td>After reckless teens kill an Amish child, a pr...</td>\n      <td>95</td>\n      <td>min</td>\n    </tr>\n    <tr>\n      <th>...</th>\n      <td>...</td>\n      <td>...</td>\n      <td>...</td>\n      <td>...</td>\n      <td>...</td>\n      <td>...</td>\n      <td>...</td>\n      <td>...</td>\n      <td>...</td>\n      <td>...</td>\n      <td>...</td>\n      <td>...</td>\n      <td>...</td>\n    </tr>\n    <tr>\n      <th>7668</th>\n      <td>s7667</td>\n      <td>TV Show</td>\n      <td>World of Winx</td>\n      <td>Iginio Straffi</td>\n      <td>Haven Paschall, Alysha Deslorieux, Jessica Paq...</td>\n      <td>Italy, United States</td>\n      <td>June 16, 2017</td>\n      <td>TV-Y7</td>\n      <td>2 Seasons</td>\n      <td>Kids' TV</td>\n      <td>The reality show \"WOW!\" engages the Winx in th...</td>\n      <td>2</td>\n      <td>Seasons</td>\n    </tr>\n    <tr>\n      <th>7717</th>\n      <td>s7716</td>\n      <td>TV Show</td>\n      <td>Yoko</td>\n      <td>NaN</td>\n      <td>Eileen Stevens, Alyson Leigh Rosenfeld, Sarah ...</td>\n      <td>NaN</td>\n      <td>June 23, 2018</td>\n      <td>TV-Y</td>\n      <td>1 Season</td>\n      <td>Kids' TV</td>\n      <td>Friends Mai, Oto and Vik's games at the park b...</td>\n      <td>1</td>\n      <td>Season</td>\n    </tr>\n    <tr>\n      <th>7719</th>\n      <td>s7718</td>\n      <td>TV Show</td>\n      <td>YOM</td>\n      <td>NaN</td>\n      <td>Sairaj, Devyani Dagaonkar, Ketan Singh, Mayur ...</td>\n      <td>NaN</td>\n      <td>June 7, 2018</td>\n      <td>TV-Y7</td>\n      <td>1 Season</td>\n      <td>Kids' TV</td>\n      <td>With the mind of a human being, and the body o...</td>\n      <td>1</td>\n      <td>Season</td>\n    </tr>\n    <tr>\n      <th>7758</th>\n      <td>s7757</td>\n      <td>TV Show</td>\n      <td>Z4</td>\n      <td>NaN</td>\n      <td>Apollo Costa, Gabriel Santana, Matheus Lustosa...</td>\n      <td>Brazil</td>\n      <td>February 22, 2019</td>\n      <td>TV-PG</td>\n      <td>2 Seasons</td>\n      <td>Kids' TV</td>\n      <td>Fading music biz veteran Z\u00e9 realizes he has ju...</td>\n      <td>2</td>\n      <td>Seasons</td>\n    </tr>\n    <tr>\n      <th>7761</th>\n      <td>s7760</td>\n      <td>TV Show</td>\n      <td>Zak Storm</td>\n      <td>NaN</td>\n      <td>Michael Johnston, Jessica Gee-George, Christin...</td>\n      <td>United States, France, South Korea, Indonesia</td>\n      <td>September 13, 2018</td>\n      <td>TV-Y7</td>\n      <td>3 Seasons</td>\n      <td>Kids' TV</td>\n      <td>Teen surfer Zak Storm is mysteriously transpor...</td>\n      <td>3</td>\n      <td>Seasons</td>\n    </tr>\n  </tbody>\n</table>\n<p>322 rows \u00d7 13 columns</p>\n</div>"
                    },
                    "metadata": {}
                }
            ]
        },
        {
            "metadata": {},
            "cell_type": "code",
            "source": "",
            "execution_count": null,
            "outputs": []
        }
    ],
    "metadata": {
        "kernelspec": {
            "name": "python3",
            "display_name": "Python 3.8",
            "language": "python"
        },
        "language_info": {
            "name": "python",
            "version": "3.8.12",
            "mimetype": "text/x-python",
            "codemirror_mode": {
                "name": "ipython",
                "version": 3
            },
            "pygments_lexer": "ipython3",
            "nbconvert_exporter": "python",
            "file_extension": ".py"
        }
    },
    "nbformat": 4,
    "nbformat_minor": 1
}