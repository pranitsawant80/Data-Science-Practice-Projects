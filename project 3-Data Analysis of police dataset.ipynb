{
    "cells": [
        {
            "metadata": {},
            "cell_type": "markdown",
            "source": "# Project 3- Data Analysis on police Dataset "
        },
        {
            "metadata": {},
            "cell_type": "code",
            "source": "# ready code in watson studio to load data from the required file\nimport os, types\nimport pandas as pd\nfrom botocore.client import Config\nimport ibm_boto3\n\ndef __iter__(self): return 0\n\n# @hidden_cell\n# The following code accesses a file in your IBM Cloud Object Storage. It includes your credentials.\n# You might want to remove those credentials before you share the notebook.\nclient_89964c8d3f9f498cba0461a952edae93 = ibm_boto3.client(service_name='s3',\n    ibm_api_key_id='FiDOa7PobmyuC_jhqU2zWgBMIP9jrskGpyRbERg45_aL',\n    ibm_auth_endpoint=\"https://iam.cloud.ibm.com/oidc/token\",\n    config=Config(signature_version='oauth'),\n    endpoint_url='https://s3.private.eu.cloud-object-storage.appdomain.cloud')\n\nbody = client_89964c8d3f9f498cba0461a952edae93.get_object(Bucket='dataanalyticsprojects-donotdelete-pr-dfxqqqpn3k5k03',Key='3. Police Data.csv')['Body']\n# add missing __iter__ method, so pandas accepts body as file-like object\nif not hasattr(body, \"__iter__\"): body.__iter__ = types.MethodType( __iter__, body )\n\ndf = pd.read_csv(body)\ndf.head()\n",
            "execution_count": 2,
            "outputs": [
                {
                    "output_type": "execute_result",
                    "execution_count": 2,
                    "data": {
                        "text/plain": "   stop_date stop_time  country_name driver_gender  driver_age_raw  \\\n0   1/2/2005      1:55           NaN             M          1985.0   \n1  1/18/2005      8:15           NaN             M          1965.0   \n2  1/23/2005     23:15           NaN             M          1972.0   \n3  2/20/2005     17:15           NaN             M          1986.0   \n4  3/14/2005     10:00           NaN             F          1984.0   \n\n   driver_age driver_race     violation_raw violation  search_conducted  \\\n0        20.0       White          Speeding  Speeding             False   \n1        40.0       White          Speeding  Speeding             False   \n2        33.0       White          Speeding  Speeding             False   \n3        19.0       White  Call for Service     Other             False   \n4        21.0       White          Speeding  Speeding             False   \n\n  search_type   stop_outcome is_arrested stop_duration  drugs_related_stop  \n0         NaN       Citation       False      0-15 Min               False  \n1         NaN       Citation       False      0-15 Min               False  \n2         NaN       Citation       False      0-15 Min               False  \n3         NaN  Arrest Driver        True     16-30 Min               False  \n4         NaN       Citation       False      0-15 Min               False  ",
                        "text/html": "<div>\n<style scoped>\n    .dataframe tbody tr th:only-of-type {\n        vertical-align: middle;\n    }\n\n    .dataframe tbody tr th {\n        vertical-align: top;\n    }\n\n    .dataframe thead th {\n        text-align: right;\n    }\n</style>\n<table border=\"1\" class=\"dataframe\">\n  <thead>\n    <tr style=\"text-align: right;\">\n      <th></th>\n      <th>stop_date</th>\n      <th>stop_time</th>\n      <th>country_name</th>\n      <th>driver_gender</th>\n      <th>driver_age_raw</th>\n      <th>driver_age</th>\n      <th>driver_race</th>\n      <th>violation_raw</th>\n      <th>violation</th>\n      <th>search_conducted</th>\n      <th>search_type</th>\n      <th>stop_outcome</th>\n      <th>is_arrested</th>\n      <th>stop_duration</th>\n      <th>drugs_related_stop</th>\n    </tr>\n  </thead>\n  <tbody>\n    <tr>\n      <th>0</th>\n      <td>1/2/2005</td>\n      <td>1:55</td>\n      <td>NaN</td>\n      <td>M</td>\n      <td>1985.0</td>\n      <td>20.0</td>\n      <td>White</td>\n      <td>Speeding</td>\n      <td>Speeding</td>\n      <td>False</td>\n      <td>NaN</td>\n      <td>Citation</td>\n      <td>False</td>\n      <td>0-15 Min</td>\n      <td>False</td>\n    </tr>\n    <tr>\n      <th>1</th>\n      <td>1/18/2005</td>\n      <td>8:15</td>\n      <td>NaN</td>\n      <td>M</td>\n      <td>1965.0</td>\n      <td>40.0</td>\n      <td>White</td>\n      <td>Speeding</td>\n      <td>Speeding</td>\n      <td>False</td>\n      <td>NaN</td>\n      <td>Citation</td>\n      <td>False</td>\n      <td>0-15 Min</td>\n      <td>False</td>\n    </tr>\n    <tr>\n      <th>2</th>\n      <td>1/23/2005</td>\n      <td>23:15</td>\n      <td>NaN</td>\n      <td>M</td>\n      <td>1972.0</td>\n      <td>33.0</td>\n      <td>White</td>\n      <td>Speeding</td>\n      <td>Speeding</td>\n      <td>False</td>\n      <td>NaN</td>\n      <td>Citation</td>\n      <td>False</td>\n      <td>0-15 Min</td>\n      <td>False</td>\n    </tr>\n    <tr>\n      <th>3</th>\n      <td>2/20/2005</td>\n      <td>17:15</td>\n      <td>NaN</td>\n      <td>M</td>\n      <td>1986.0</td>\n      <td>19.0</td>\n      <td>White</td>\n      <td>Call for Service</td>\n      <td>Other</td>\n      <td>False</td>\n      <td>NaN</td>\n      <td>Arrest Driver</td>\n      <td>True</td>\n      <td>16-30 Min</td>\n      <td>False</td>\n    </tr>\n    <tr>\n      <th>4</th>\n      <td>3/14/2005</td>\n      <td>10:00</td>\n      <td>NaN</td>\n      <td>F</td>\n      <td>1984.0</td>\n      <td>21.0</td>\n      <td>White</td>\n      <td>Speeding</td>\n      <td>Speeding</td>\n      <td>False</td>\n      <td>NaN</td>\n      <td>Citation</td>\n      <td>False</td>\n      <td>0-15 Min</td>\n      <td>False</td>\n    </tr>\n  </tbody>\n</table>\n</div>"
                    },
                    "metadata": {}
                }
            ]
        },
        {
            "metadata": {},
            "cell_type": "markdown",
            "source": "### 1) Instruction ( For Data Cleaning ) - Remove the column that  contains all missing values."
        },
        {
            "metadata": {},
            "cell_type": "code",
            "source": "df.shape",
            "execution_count": 3,
            "outputs": [
                {
                    "output_type": "execute_result",
                    "execution_count": 3,
                    "data": {
                        "text/plain": "(65535, 15)"
                    },
                    "metadata": {}
                }
            ]
        },
        {
            "metadata": {},
            "cell_type": "code",
            "source": "df.isnull().sum()",
            "execution_count": 4,
            "outputs": [
                {
                    "output_type": "execute_result",
                    "execution_count": 4,
                    "data": {
                        "text/plain": "stop_date                 0\nstop_time                 0\ncountry_name          65535\ndriver_gender          4061\ndriver_age_raw         4054\ndriver_age             4307\ndriver_race            4060\nviolation_raw          4060\nviolation              4060\nsearch_conducted          0\nsearch_type           63056\nstop_outcome           4060\nis_arrested            4060\nstop_duration          4060\ndrugs_related_stop        0\ndtype: int64"
                    },
                    "metadata": {}
                }
            ]
        },
        {
            "metadata": {},
            "cell_type": "code",
            "source": "df.columns",
            "execution_count": 19,
            "outputs": [
                {
                    "output_type": "execute_result",
                    "execution_count": 19,
                    "data": {
                        "text/plain": "Index(['stop_date', 'stop_time', 'driver_gender', 'driver_age_raw',\n       'driver_age', 'driver_race', 'violation_raw', 'violation',\n       'search_conducted', 'search_type', 'stop_outcome', 'is_arrested',\n       'stop_duration', 'drugs_related_stop'],\n      dtype='object')"
                    },
                    "metadata": {}
                }
            ]
        },
        {
            "metadata": {},
            "cell_type": "code",
            "source": "df.drop(columns ='country_name',inplace=True)",
            "execution_count": 6,
            "outputs": []
        },
        {
            "metadata": {},
            "cell_type": "code",
            "source": "df",
            "execution_count": 23,
            "outputs": [
                {
                    "output_type": "execute_result",
                    "execution_count": 23,
                    "data": {
                        "text/plain": "       stop_date stop_time driver_gender  driver_age_raw  driver_age  \\\n0       1/2/2005      1:55             M          1985.0        20.0   \n1      1/18/2005      8:15             M          1965.0        40.0   \n2      1/23/2005     23:15             M          1972.0        33.0   \n3      2/20/2005     17:15             M          1986.0        19.0   \n4      3/14/2005     10:00             F          1984.0        21.0   \n...          ...       ...           ...             ...         ...   \n65530  12/6/2012     17:54             F          1987.0        25.0   \n65531  12/6/2012     22:22             M          1954.0        58.0   \n65532  12/6/2012     23:20             M          1985.0        27.0   \n65533  12/7/2012      0:23           NaN             NaN         NaN   \n65534  12/7/2012      0:30             F          1985.0        27.0   \n\n      driver_race                   violation_raw  violation  \\\n0           White                        Speeding   Speeding   \n1           White                        Speeding   Speeding   \n2           White                        Speeding   Speeding   \n3           White                Call for Service      Other   \n4           White                        Speeding   Speeding   \n...           ...                             ...        ...   \n65530       White                        Speeding   Speeding   \n65531       White                        Speeding   Speeding   \n65532       Black  Equipment/Inspection Violation  Equipment   \n65533         NaN                             NaN        NaN   \n65534       White                        Speeding   Speeding   \n\n       search_conducted search_type   stop_outcome is_arrested stop_duration  \\\n0                 False         NaN       Citation       False      0-15 Min   \n1                 False         NaN       Citation       False      0-15 Min   \n2                 False         NaN       Citation       False      0-15 Min   \n3                 False         NaN  Arrest Driver        True     16-30 Min   \n4                 False         NaN       Citation       False      0-15 Min   \n...                 ...         ...            ...         ...           ...   \n65530             False         NaN       Citation       False      0-15 Min   \n65531             False         NaN        Warning       False      0-15 Min   \n65532             False         NaN       Citation       False      0-15 Min   \n65533             False         NaN            NaN         NaN           NaN   \n65534             False         NaN       Citation       False      0-15 Min   \n\n       drugs_related_stop  \n0                   False  \n1                   False  \n2                   False  \n3                   False  \n4                   False  \n...                   ...  \n65530               False  \n65531               False  \n65532               False  \n65533               False  \n65534               False  \n\n[65535 rows x 14 columns]",
                        "text/html": "<div>\n<style scoped>\n    .dataframe tbody tr th:only-of-type {\n        vertical-align: middle;\n    }\n\n    .dataframe tbody tr th {\n        vertical-align: top;\n    }\n\n    .dataframe thead th {\n        text-align: right;\n    }\n</style>\n<table border=\"1\" class=\"dataframe\">\n  <thead>\n    <tr style=\"text-align: right;\">\n      <th></th>\n      <th>stop_date</th>\n      <th>stop_time</th>\n      <th>driver_gender</th>\n      <th>driver_age_raw</th>\n      <th>driver_age</th>\n      <th>driver_race</th>\n      <th>violation_raw</th>\n      <th>violation</th>\n      <th>search_conducted</th>\n      <th>search_type</th>\n      <th>stop_outcome</th>\n      <th>is_arrested</th>\n      <th>stop_duration</th>\n      <th>drugs_related_stop</th>\n    </tr>\n  </thead>\n  <tbody>\n    <tr>\n      <th>0</th>\n      <td>1/2/2005</td>\n      <td>1:55</td>\n      <td>M</td>\n      <td>1985.0</td>\n      <td>20.0</td>\n      <td>White</td>\n      <td>Speeding</td>\n      <td>Speeding</td>\n      <td>False</td>\n      <td>NaN</td>\n      <td>Citation</td>\n      <td>False</td>\n      <td>0-15 Min</td>\n      <td>False</td>\n    </tr>\n    <tr>\n      <th>1</th>\n      <td>1/18/2005</td>\n      <td>8:15</td>\n      <td>M</td>\n      <td>1965.0</td>\n      <td>40.0</td>\n      <td>White</td>\n      <td>Speeding</td>\n      <td>Speeding</td>\n      <td>False</td>\n      <td>NaN</td>\n      <td>Citation</td>\n      <td>False</td>\n      <td>0-15 Min</td>\n      <td>False</td>\n    </tr>\n    <tr>\n      <th>2</th>\n      <td>1/23/2005</td>\n      <td>23:15</td>\n      <td>M</td>\n      <td>1972.0</td>\n      <td>33.0</td>\n      <td>White</td>\n      <td>Speeding</td>\n      <td>Speeding</td>\n      <td>False</td>\n      <td>NaN</td>\n      <td>Citation</td>\n      <td>False</td>\n      <td>0-15 Min</td>\n      <td>False</td>\n    </tr>\n    <tr>\n      <th>3</th>\n      <td>2/20/2005</td>\n      <td>17:15</td>\n      <td>M</td>\n      <td>1986.0</td>\n      <td>19.0</td>\n      <td>White</td>\n      <td>Call for Service</td>\n      <td>Other</td>\n      <td>False</td>\n      <td>NaN</td>\n      <td>Arrest Driver</td>\n      <td>True</td>\n      <td>16-30 Min</td>\n      <td>False</td>\n    </tr>\n    <tr>\n      <th>4</th>\n      <td>3/14/2005</td>\n      <td>10:00</td>\n      <td>F</td>\n      <td>1984.0</td>\n      <td>21.0</td>\n      <td>White</td>\n      <td>Speeding</td>\n      <td>Speeding</td>\n      <td>False</td>\n      <td>NaN</td>\n      <td>Citation</td>\n      <td>False</td>\n      <td>0-15 Min</td>\n      <td>False</td>\n    </tr>\n    <tr>\n      <th>...</th>\n      <td>...</td>\n      <td>...</td>\n      <td>...</td>\n      <td>...</td>\n      <td>...</td>\n      <td>...</td>\n      <td>...</td>\n      <td>...</td>\n      <td>...</td>\n      <td>...</td>\n      <td>...</td>\n      <td>...</td>\n      <td>...</td>\n      <td>...</td>\n    </tr>\n    <tr>\n      <th>65530</th>\n      <td>12/6/2012</td>\n      <td>17:54</td>\n      <td>F</td>\n      <td>1987.0</td>\n      <td>25.0</td>\n      <td>White</td>\n      <td>Speeding</td>\n      <td>Speeding</td>\n      <td>False</td>\n      <td>NaN</td>\n      <td>Citation</td>\n      <td>False</td>\n      <td>0-15 Min</td>\n      <td>False</td>\n    </tr>\n    <tr>\n      <th>65531</th>\n      <td>12/6/2012</td>\n      <td>22:22</td>\n      <td>M</td>\n      <td>1954.0</td>\n      <td>58.0</td>\n      <td>White</td>\n      <td>Speeding</td>\n      <td>Speeding</td>\n      <td>False</td>\n      <td>NaN</td>\n      <td>Warning</td>\n      <td>False</td>\n      <td>0-15 Min</td>\n      <td>False</td>\n    </tr>\n    <tr>\n      <th>65532</th>\n      <td>12/6/2012</td>\n      <td>23:20</td>\n      <td>M</td>\n      <td>1985.0</td>\n      <td>27.0</td>\n      <td>Black</td>\n      <td>Equipment/Inspection Violation</td>\n      <td>Equipment</td>\n      <td>False</td>\n      <td>NaN</td>\n      <td>Citation</td>\n      <td>False</td>\n      <td>0-15 Min</td>\n      <td>False</td>\n    </tr>\n    <tr>\n      <th>65533</th>\n      <td>12/7/2012</td>\n      <td>0:23</td>\n      <td>NaN</td>\n      <td>NaN</td>\n      <td>NaN</td>\n      <td>NaN</td>\n      <td>NaN</td>\n      <td>NaN</td>\n      <td>False</td>\n      <td>NaN</td>\n      <td>NaN</td>\n      <td>NaN</td>\n      <td>NaN</td>\n      <td>False</td>\n    </tr>\n    <tr>\n      <th>65534</th>\n      <td>12/7/2012</td>\n      <td>0:30</td>\n      <td>F</td>\n      <td>1985.0</td>\n      <td>27.0</td>\n      <td>White</td>\n      <td>Speeding</td>\n      <td>Speeding</td>\n      <td>False</td>\n      <td>NaN</td>\n      <td>Citation</td>\n      <td>False</td>\n      <td>0-15 Min</td>\n      <td>False</td>\n    </tr>\n  </tbody>\n</table>\n<p>65535 rows \u00d7 14 columns</p>\n</div>"
                    },
                    "metadata": {}
                }
            ]
        },
        {
            "metadata": {},
            "cell_type": "markdown",
            "source": "### 2) Question ( Based on Filtering + Value Counts ) - For Speeding , were Men or Women stopped more often ? "
        },
        {
            "metadata": {},
            "cell_type": "code",
            "source": "df[df.violation == 'Speeding'].driver_gender.value_counts()",
            "execution_count": 24,
            "outputs": [
                {
                    "output_type": "execute_result",
                    "execution_count": 24,
                    "data": {
                        "text/plain": "M    25517\nF    11686\nName: driver_gender, dtype: int64"
                    },
                    "metadata": {}
                }
            ]
        },
        {
            "metadata": {},
            "cell_type": "markdown",
            "source": "### 3) Question ( Groupby ) - Does gender affect who gets searched during a stop ?"
        },
        {
            "metadata": {},
            "cell_type": "code",
            "source": "df.dtypes",
            "execution_count": 26,
            "outputs": [
                {
                    "output_type": "execute_result",
                    "execution_count": 26,
                    "data": {
                        "text/plain": "stop_date              object\nstop_time              object\ndriver_gender          object\ndriver_age_raw        float64\ndriver_age            float64\ndriver_race            object\nviolation_raw          object\nviolation              object\nsearch_conducted         bool\nsearch_type            object\nstop_outcome           object\nis_arrested            object\nstop_duration          object\ndrugs_related_stop       bool\ndtype: object"
                    },
                    "metadata": {}
                }
            ]
        },
        {
            "metadata": {
                "scrolled": true
            },
            "cell_type": "code",
            "source": "df.groupby('driver_gender').search_conducted.sum()",
            "execution_count": 30,
            "outputs": [
                {
                    "output_type": "execute_result",
                    "execution_count": 30,
                    "data": {
                        "text/plain": "driver_gender\nF     366\nM    2113\nName: search_conducted, dtype: int64"
                    },
                    "metadata": {}
                }
            ]
        },
        {
            "metadata": {},
            "cell_type": "markdown",
            "source": "### Question ( mapping + data-type casting )"
        },
        {
            "metadata": {},
            "cell_type": "markdown",
            "source": "### 4) Question ( mapping + data-type casting ) - What is the mean stop_duration ?"
        },
        {
            "metadata": {},
            "cell_type": "code",
            "source": "df.stop_duration.value_counts()",
            "execution_count": 33,
            "outputs": [
                {
                    "output_type": "execute_result",
                    "execution_count": 33,
                    "data": {
                        "text/plain": "0-15 Min     47379\n16-30 Min    11448\n30+ Min       2647\n2                1\nName: stop_duration, dtype: int64"
                    },
                    "metadata": {}
                }
            ]
        },
        {
            "metadata": {},
            "cell_type": "code",
            "source": "df['stop_duration']=df['stop_duration'].map({'0-15 Min':7.5,'16-30 Min':24,'30+ Min':45})",
            "execution_count": 34,
            "outputs": []
        },
        {
            "metadata": {},
            "cell_type": "code",
            "source": "df",
            "execution_count": 35,
            "outputs": [
                {
                    "output_type": "execute_result",
                    "execution_count": 35,
                    "data": {
                        "text/plain": "       stop_date stop_time driver_gender  driver_age_raw  driver_age  \\\n0       1/2/2005      1:55             M          1985.0        20.0   \n1      1/18/2005      8:15             M          1965.0        40.0   \n2      1/23/2005     23:15             M          1972.0        33.0   \n3      2/20/2005     17:15             M          1986.0        19.0   \n4      3/14/2005     10:00             F          1984.0        21.0   \n...          ...       ...           ...             ...         ...   \n65530  12/6/2012     17:54             F          1987.0        25.0   \n65531  12/6/2012     22:22             M          1954.0        58.0   \n65532  12/6/2012     23:20             M          1985.0        27.0   \n65533  12/7/2012      0:23           NaN             NaN         NaN   \n65534  12/7/2012      0:30             F          1985.0        27.0   \n\n      driver_race                   violation_raw  violation  \\\n0           White                        Speeding   Speeding   \n1           White                        Speeding   Speeding   \n2           White                        Speeding   Speeding   \n3           White                Call for Service      Other   \n4           White                        Speeding   Speeding   \n...           ...                             ...        ...   \n65530       White                        Speeding   Speeding   \n65531       White                        Speeding   Speeding   \n65532       Black  Equipment/Inspection Violation  Equipment   \n65533         NaN                             NaN        NaN   \n65534       White                        Speeding   Speeding   \n\n       search_conducted search_type   stop_outcome is_arrested  stop_duration  \\\n0                 False         NaN       Citation       False            7.5   \n1                 False         NaN       Citation       False            7.5   \n2                 False         NaN       Citation       False            7.5   \n3                 False         NaN  Arrest Driver        True           24.0   \n4                 False         NaN       Citation       False            7.5   \n...                 ...         ...            ...         ...            ...   \n65530             False         NaN       Citation       False            7.5   \n65531             False         NaN        Warning       False            7.5   \n65532             False         NaN       Citation       False            7.5   \n65533             False         NaN            NaN         NaN            NaN   \n65534             False         NaN       Citation       False            7.5   \n\n       drugs_related_stop  \n0                   False  \n1                   False  \n2                   False  \n3                   False  \n4                   False  \n...                   ...  \n65530               False  \n65531               False  \n65532               False  \n65533               False  \n65534               False  \n\n[65535 rows x 14 columns]",
                        "text/html": "<div>\n<style scoped>\n    .dataframe tbody tr th:only-of-type {\n        vertical-align: middle;\n    }\n\n    .dataframe tbody tr th {\n        vertical-align: top;\n    }\n\n    .dataframe thead th {\n        text-align: right;\n    }\n</style>\n<table border=\"1\" class=\"dataframe\">\n  <thead>\n    <tr style=\"text-align: right;\">\n      <th></th>\n      <th>stop_date</th>\n      <th>stop_time</th>\n      <th>driver_gender</th>\n      <th>driver_age_raw</th>\n      <th>driver_age</th>\n      <th>driver_race</th>\n      <th>violation_raw</th>\n      <th>violation</th>\n      <th>search_conducted</th>\n      <th>search_type</th>\n      <th>stop_outcome</th>\n      <th>is_arrested</th>\n      <th>stop_duration</th>\n      <th>drugs_related_stop</th>\n    </tr>\n  </thead>\n  <tbody>\n    <tr>\n      <th>0</th>\n      <td>1/2/2005</td>\n      <td>1:55</td>\n      <td>M</td>\n      <td>1985.0</td>\n      <td>20.0</td>\n      <td>White</td>\n      <td>Speeding</td>\n      <td>Speeding</td>\n      <td>False</td>\n      <td>NaN</td>\n      <td>Citation</td>\n      <td>False</td>\n      <td>7.5</td>\n      <td>False</td>\n    </tr>\n    <tr>\n      <th>1</th>\n      <td>1/18/2005</td>\n      <td>8:15</td>\n      <td>M</td>\n      <td>1965.0</td>\n      <td>40.0</td>\n      <td>White</td>\n      <td>Speeding</td>\n      <td>Speeding</td>\n      <td>False</td>\n      <td>NaN</td>\n      <td>Citation</td>\n      <td>False</td>\n      <td>7.5</td>\n      <td>False</td>\n    </tr>\n    <tr>\n      <th>2</th>\n      <td>1/23/2005</td>\n      <td>23:15</td>\n      <td>M</td>\n      <td>1972.0</td>\n      <td>33.0</td>\n      <td>White</td>\n      <td>Speeding</td>\n      <td>Speeding</td>\n      <td>False</td>\n      <td>NaN</td>\n      <td>Citation</td>\n      <td>False</td>\n      <td>7.5</td>\n      <td>False</td>\n    </tr>\n    <tr>\n      <th>3</th>\n      <td>2/20/2005</td>\n      <td>17:15</td>\n      <td>M</td>\n      <td>1986.0</td>\n      <td>19.0</td>\n      <td>White</td>\n      <td>Call for Service</td>\n      <td>Other</td>\n      <td>False</td>\n      <td>NaN</td>\n      <td>Arrest Driver</td>\n      <td>True</td>\n      <td>24.0</td>\n      <td>False</td>\n    </tr>\n    <tr>\n      <th>4</th>\n      <td>3/14/2005</td>\n      <td>10:00</td>\n      <td>F</td>\n      <td>1984.0</td>\n      <td>21.0</td>\n      <td>White</td>\n      <td>Speeding</td>\n      <td>Speeding</td>\n      <td>False</td>\n      <td>NaN</td>\n      <td>Citation</td>\n      <td>False</td>\n      <td>7.5</td>\n      <td>False</td>\n    </tr>\n    <tr>\n      <th>...</th>\n      <td>...</td>\n      <td>...</td>\n      <td>...</td>\n      <td>...</td>\n      <td>...</td>\n      <td>...</td>\n      <td>...</td>\n      <td>...</td>\n      <td>...</td>\n      <td>...</td>\n      <td>...</td>\n      <td>...</td>\n      <td>...</td>\n      <td>...</td>\n    </tr>\n    <tr>\n      <th>65530</th>\n      <td>12/6/2012</td>\n      <td>17:54</td>\n      <td>F</td>\n      <td>1987.0</td>\n      <td>25.0</td>\n      <td>White</td>\n      <td>Speeding</td>\n      <td>Speeding</td>\n      <td>False</td>\n      <td>NaN</td>\n      <td>Citation</td>\n      <td>False</td>\n      <td>7.5</td>\n      <td>False</td>\n    </tr>\n    <tr>\n      <th>65531</th>\n      <td>12/6/2012</td>\n      <td>22:22</td>\n      <td>M</td>\n      <td>1954.0</td>\n      <td>58.0</td>\n      <td>White</td>\n      <td>Speeding</td>\n      <td>Speeding</td>\n      <td>False</td>\n      <td>NaN</td>\n      <td>Warning</td>\n      <td>False</td>\n      <td>7.5</td>\n      <td>False</td>\n    </tr>\n    <tr>\n      <th>65532</th>\n      <td>12/6/2012</td>\n      <td>23:20</td>\n      <td>M</td>\n      <td>1985.0</td>\n      <td>27.0</td>\n      <td>Black</td>\n      <td>Equipment/Inspection Violation</td>\n      <td>Equipment</td>\n      <td>False</td>\n      <td>NaN</td>\n      <td>Citation</td>\n      <td>False</td>\n      <td>7.5</td>\n      <td>False</td>\n    </tr>\n    <tr>\n      <th>65533</th>\n      <td>12/7/2012</td>\n      <td>0:23</td>\n      <td>NaN</td>\n      <td>NaN</td>\n      <td>NaN</td>\n      <td>NaN</td>\n      <td>NaN</td>\n      <td>NaN</td>\n      <td>False</td>\n      <td>NaN</td>\n      <td>NaN</td>\n      <td>NaN</td>\n      <td>NaN</td>\n      <td>False</td>\n    </tr>\n    <tr>\n      <th>65534</th>\n      <td>12/7/2012</td>\n      <td>0:30</td>\n      <td>F</td>\n      <td>1985.0</td>\n      <td>27.0</td>\n      <td>White</td>\n      <td>Speeding</td>\n      <td>Speeding</td>\n      <td>False</td>\n      <td>NaN</td>\n      <td>Citation</td>\n      <td>False</td>\n      <td>7.5</td>\n      <td>False</td>\n    </tr>\n  </tbody>\n</table>\n<p>65535 rows \u00d7 14 columns</p>\n</div>"
                    },
                    "metadata": {}
                }
            ]
        },
        {
            "metadata": {},
            "cell_type": "code",
            "source": "df['stop_duration'].mean()",
            "execution_count": 45,
            "outputs": [
                {
                    "output_type": "execute_result",
                    "execution_count": 45,
                    "data": {
                        "text/plain": "12.187420698181345"
                    },
                    "metadata": {}
                }
            ]
        },
        {
            "metadata": {},
            "cell_type": "markdown",
            "source": "### 5) Question ( Groupby , Describe ) - Compare the age distributions for each violation."
        },
        {
            "metadata": {},
            "cell_type": "code",
            "source": "df.groupby('violation').driver_age.describe()",
            "execution_count": 49,
            "outputs": [
                {
                    "output_type": "execute_result",
                    "execution_count": 49,
                    "data": {
                        "text/plain": "                       count       mean        std   min   25%   50%   75%  \\\nviolation                                                                    \nEquipment             6507.0  31.682957  11.380671  16.0  23.0  28.0  39.0   \nMoving violation     11876.0  36.736443  13.258350  15.0  25.0  35.0  47.0   \nOther                 3477.0  40.362381  12.754423  16.0  30.0  41.0  50.0   \nRegistration/plates   2240.0  32.656696  11.150780  16.0  24.0  30.0  40.0   \nSeat belt                3.0  30.333333  10.214369  23.0  24.5  26.0  34.0   \nSpeeding             37120.0  33.262581  12.615781  15.0  23.0  30.0  42.0   \n\n                      max  \nviolation                  \nEquipment            81.0  \nMoving violation     86.0  \nOther                86.0  \nRegistration/plates  74.0  \nSeat belt            42.0  \nSpeeding             88.0  ",
                        "text/html": "<div>\n<style scoped>\n    .dataframe tbody tr th:only-of-type {\n        vertical-align: middle;\n    }\n\n    .dataframe tbody tr th {\n        vertical-align: top;\n    }\n\n    .dataframe thead th {\n        text-align: right;\n    }\n</style>\n<table border=\"1\" class=\"dataframe\">\n  <thead>\n    <tr style=\"text-align: right;\">\n      <th></th>\n      <th>count</th>\n      <th>mean</th>\n      <th>std</th>\n      <th>min</th>\n      <th>25%</th>\n      <th>50%</th>\n      <th>75%</th>\n      <th>max</th>\n    </tr>\n    <tr>\n      <th>violation</th>\n      <th></th>\n      <th></th>\n      <th></th>\n      <th></th>\n      <th></th>\n      <th></th>\n      <th></th>\n      <th></th>\n    </tr>\n  </thead>\n  <tbody>\n    <tr>\n      <th>Equipment</th>\n      <td>6507.0</td>\n      <td>31.682957</td>\n      <td>11.380671</td>\n      <td>16.0</td>\n      <td>23.0</td>\n      <td>28.0</td>\n      <td>39.0</td>\n      <td>81.0</td>\n    </tr>\n    <tr>\n      <th>Moving violation</th>\n      <td>11876.0</td>\n      <td>36.736443</td>\n      <td>13.258350</td>\n      <td>15.0</td>\n      <td>25.0</td>\n      <td>35.0</td>\n      <td>47.0</td>\n      <td>86.0</td>\n    </tr>\n    <tr>\n      <th>Other</th>\n      <td>3477.0</td>\n      <td>40.362381</td>\n      <td>12.754423</td>\n      <td>16.0</td>\n      <td>30.0</td>\n      <td>41.0</td>\n      <td>50.0</td>\n      <td>86.0</td>\n    </tr>\n    <tr>\n      <th>Registration/plates</th>\n      <td>2240.0</td>\n      <td>32.656696</td>\n      <td>11.150780</td>\n      <td>16.0</td>\n      <td>24.0</td>\n      <td>30.0</td>\n      <td>40.0</td>\n      <td>74.0</td>\n    </tr>\n    <tr>\n      <th>Seat belt</th>\n      <td>3.0</td>\n      <td>30.333333</td>\n      <td>10.214369</td>\n      <td>23.0</td>\n      <td>24.5</td>\n      <td>26.0</td>\n      <td>34.0</td>\n      <td>42.0</td>\n    </tr>\n    <tr>\n      <th>Speeding</th>\n      <td>37120.0</td>\n      <td>33.262581</td>\n      <td>12.615781</td>\n      <td>15.0</td>\n      <td>23.0</td>\n      <td>30.0</td>\n      <td>42.0</td>\n      <td>88.0</td>\n    </tr>\n  </tbody>\n</table>\n</div>"
                    },
                    "metadata": {}
                }
            ]
        },
        {
            "metadata": {},
            "cell_type": "code",
            "source": "",
            "execution_count": 47,
            "outputs": [
                {
                    "output_type": "execute_result",
                    "execution_count": 47,
                    "data": {
                        "text/plain": "<pandas.core.groupby.generic.SeriesGroupBy object at 0x7f44f85b43a0>"
                    },
                    "metadata": {}
                }
            ]
        },
        {
            "metadata": {},
            "cell_type": "code",
            "source": "",
            "execution_count": null,
            "outputs": []
        }
    ],
    "metadata": {
        "kernelspec": {
            "name": "python3",
            "display_name": "Python 3.8",
            "language": "python"
        },
        "language_info": {
            "name": "python",
            "version": "3.8.12",
            "mimetype": "text/x-python",
            "codemirror_mode": {
                "name": "ipython",
                "version": 3
            },
            "pygments_lexer": "ipython3",
            "nbconvert_exporter": "python",
            "file_extension": ".py"
        }
    },
    "nbformat": 4,
    "nbformat_minor": 1
}